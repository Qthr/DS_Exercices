{
 "cells": [
  {
   "cell_type": "markdown",
   "metadata": {},
   "source": [
    "# DWW_1.02\n",
    "- **Description** : Analyzing a Multiline String and Generating the Unique Word Count\n",
    "- **Source** : Data Wrangling Workshop - Tirthajyoti Sarkar, Shubhadeep Roychowdhury, Brian Lipp\n",
    "- **Chapter** :  1 - Introduction to Data Wrangling with Python\n",
    "- **Activity** : 1.02"
   ]
  },
  {
   "cell_type": "markdown",
   "metadata": {},
   "source": [
    "## Enoncé\n",
    "![Enonce DWW_1.02](../images/enonces/DWW_1.02_enonce.PNG)"
   ]
  },
  {
   "cell_type": "markdown",
   "metadata": {},
   "source": [
    "## Question 1"
   ]
  },
  {
   "cell_type": "markdown",
   "metadata": {},
   "source": [
    "1.\tOpen a new Jupyter Notebook and create a string called multiline_text and copy the text present in the first chapter of Pride and Prejudice. Use Ctrl + A to select the entire text and then Ctrl + C to copy it and paste the text you just copied into it:"
   ]
  },
  {
   "cell_type": "code",
   "execution_count": 2,
   "metadata": {},
   "outputs": [],
   "source": [
    "multiline_text= \"\"\"It is a truth universally acknowledged, that a single man in possession of a good fortune, must be in want of a wife.\n",
    "\n",
    "However little known the feelings or views of such a man may be on his first entering a neighbourhood, this truth is so well fixed in the minds of the surrounding families, that he is considered the rightful property of some one or other of their daughters.\n",
    "\n",
    "\"My dear Mr. Bennet,\" said his lady to him one day, \"have you heard that Netherfield Park is let at last?\"\n",
    "\n",
    "Mr. Bennet replied that he had not.\n",
    "\n",
    "\"But it is,\" returned she; \"for Mrs. Long has just been here, and she told me all about it.\"\n",
    "\n",
    "Mr. Bennet made no answer.\n",
    "\n",
    "\"Do you not want to know who has taken it?\" cried his wife impatiently.\n",
    "\n",
    "\"You want to tell me, and I have no objection to hearing it.\"\n",
    "\n",
    "This was invitation enough.\n",
    "\n",
    "\"Why, my dear, you must know, Mrs. Long says that Netherfield is taken by a young man of large fortune from the north of England; that he came down on Monday in a chaise and four to see the place, and was so much delighted with it, that he agreed with Mr. Morris immediately; that he is to take possession before Michaelmas, and some of his servants are to be in the house by the end of next week.\"\n",
    "\n",
    "\"What is his name?\"\"\"\n"
   ]
  },
  {
   "cell_type": "markdown",
   "metadata": {},
   "source": [
    "## Question 2"
   ]
  },
  {
   "cell_type": "code",
   "execution_count": 3,
   "metadata": {},
   "outputs": [
    {
     "data": {
      "text/plain": [
       "str"
      ]
     },
     "execution_count": 3,
     "metadata": {},
     "output_type": "execute_result"
    }
   ],
   "source": [
    "type(multiline_text)"
   ]
  },
  {
   "cell_type": "code",
   "execution_count": 4,
   "metadata": {},
   "outputs": [
    {
     "data": {
      "text/plain": [
       "1228"
      ]
     },
     "execution_count": 4,
     "metadata": {},
     "output_type": "execute_result"
    }
   ],
   "source": [
    "len(multiline_text)"
   ]
  },
  {
   "cell_type": "markdown",
   "metadata": {},
   "source": [
    "## Question 3"
   ]
  },
  {
   "cell_type": "code",
   "execution_count": 3,
   "metadata": {},
   "outputs": [],
   "source": [
    "multiline_text = multiline_text.replace('\\n', \"\")"
   ]
  },
  {
   "cell_type": "code",
   "execution_count": 6,
   "metadata": {},
   "outputs": [
    {
     "data": {
      "text/plain": [
       "'It is a truth universally acknowledged, that a single man in possession of a good fortune, must be in want of a wife.However little known the feelings or views of such a man may be on his first entering a neighbourhood, this truth is so well fixed in the minds of the surrounding families, that he is considered the rightful property of some one or other of their daughters.\"My dear Mr. Bennet,\" said his lady to him one day, \"have you heard that Netherfield Park is let at last?\"Mr. Bennet replied that he had not.\"But it is,\" returned she; \"for Mrs. Long has just been here, and she told me all about it.\"Mr. Bennet made no answer.\"Do you not want to know who has taken it?\" cried his wife impatiently.\"You want to tell me, and I have no objection to hearing it.\"This was invitation enough.\"Why, my dear, you must know, Mrs. Long says that Netherfield is taken by a young man of large fortune from the north of England; that he came down on Monday in a chaise and four to see the place, and was so much delighted with it, that he agreed with Mr. Morris immediately; that he is to take possession before Michaelmas, and some of his servants are to be in the house by the end of next week.\"\"What is his name?'"
      ]
     },
     "execution_count": 6,
     "metadata": {},
     "output_type": "execute_result"
    }
   ],
   "source": [
    "multiline_text"
   ]
  },
  {
   "cell_type": "code",
   "execution_count": 4,
   "metadata": {},
   "outputs": [],
   "source": [
    "# remove special chars, punctuation etc.\n",
    "cleaned_multiline_text = \"\"\n",
    "for char in multiline_text:\n",
    "    if char == \" \":\n",
    "        cleaned_multiline_text += char\n",
    "    elif char.isalnum():  # using the isalnum() method of strings.\n",
    "        cleaned_multiline_text += char\n",
    "    else:\n",
    "        cleaned_multiline_text += \" \"\n"
   ]
  },
  {
   "cell_type": "code",
   "execution_count": 8,
   "metadata": {},
   "outputs": [
    {
     "data": {
      "text/plain": [
       "'It is a truth universally acknowledged  that a single man in possession of a good fortune  must be in want of a wife However little known the feelings or views of such a man may be on his first entering a neighbourhood  this truth is so well fixed in the minds of the surrounding families  that he is considered the rightful property of some one or other of their daughters  My dear Mr  Bennet   said his lady to him one day   have you heard that Netherfield Park is let at last  Mr  Bennet replied that he had not  But it is   returned she   for Mrs  Long has just been here  and she told me all about it  Mr  Bennet made no answer  Do you not want to know who has taken it   cried his wife impatiently  You want to tell me  and I have no objection to hearing it  This was invitation enough  Why  my dear  you must know  Mrs  Long says that Netherfield is taken by a young man of large fortune from the north of England  that he came down on Monday in a chaise and four to see the place  and was so much delighted with it  that he agreed with Mr  Morris immediately  that he is to take possession before Michaelmas  and some of his servants are to be in the house by the end of next week   What is his name '"
      ]
     },
     "execution_count": 8,
     "metadata": {},
     "output_type": "execute_result"
    }
   ],
   "source": [
    "cleaned_multiline_text"
   ]
  },
  {
   "cell_type": "code",
   "execution_count": null,
   "metadata": {},
   "outputs": [],
   "source": [
    "## Question 4"
   ]
  },
  {
   "cell_type": "code",
   "execution_count": 8,
   "metadata": {},
   "outputs": [
    {
     "data": {
      "text/plain": [
       "['It',\n",
       " 'is',\n",
       " 'a',\n",
       " 'truth',\n",
       " 'universally',\n",
       " 'acknowledged',\n",
       " 'that',\n",
       " 'a',\n",
       " 'single',\n",
       " 'man']"
      ]
     },
     "execution_count": 8,
     "metadata": {},
     "output_type": "execute_result"
    }
   ],
   "source": [
    "list_of_words = cleaned_multiline_text.split()\n",
    "list_of_words[:10]\n"
   ]
  },
  {
   "cell_type": "markdown",
   "metadata": {},
   "source": [
    "## Question 5"
   ]
  },
  {
   "cell_type": "code",
   "execution_count": 10,
   "metadata": {},
   "outputs": [
    {
     "data": {
      "text/plain": [
       "236"
      ]
     },
     "execution_count": 10,
     "metadata": {},
     "output_type": "execute_result"
    }
   ],
   "source": [
    "len(list_of_words)"
   ]
  },
  {
   "cell_type": "code",
   "execution_count": 10,
   "metadata": {},
   "outputs": [
    {
     "data": {
      "text/plain": [
       "135"
      ]
     },
     "execution_count": 10,
     "metadata": {},
     "output_type": "execute_result"
    }
   ],
   "source": [
    "unique_words_as_dict = dict.fromkeys(list_of_words)\n",
    "len(list(unique_words_as_dict.keys()))\n"
   ]
  },
  {
   "cell_type": "markdown",
   "metadata": {},
   "source": [
    "## Question 6"
   ]
  },
  {
   "cell_type": "code",
   "execution_count": 12,
   "metadata": {},
   "outputs": [
    {
     "data": {
      "text/plain": [
       "{'It': 2,\n",
       " 'is': 16,\n",
       " 'a': 16,\n",
       " 'truth': 4,\n",
       " 'universally': 2,\n",
       " 'acknowledged': 2,\n",
       " 'that': 16,\n",
       " 'single': 2,\n",
       " 'man': 6,\n",
       " 'in': 10,\n",
       " 'possession': 4,\n",
       " 'of': 20,\n",
       " 'good': 2,\n",
       " 'fortune': 4,\n",
       " 'must': 4,\n",
       " 'be': 6,\n",
       " 'want': 6,\n",
       " 'wife': 4,\n",
       " 'However': 2,\n",
       " 'little': 2,\n",
       " 'known': 2,\n",
       " 'the': 16,\n",
       " 'feelings': 2,\n",
       " 'or': 4,\n",
       " 'views': 2,\n",
       " 'such': 2,\n",
       " 'may': 2,\n",
       " 'on': 4,\n",
       " 'his': 10,\n",
       " 'first': 2,\n",
       " 'entering': 2,\n",
       " 'neighbourhood': 2,\n",
       " 'this': 2,\n",
       " 'so': 4,\n",
       " 'well': 2,\n",
       " 'fixed': 2,\n",
       " 'minds': 2,\n",
       " 'surrounding': 2,\n",
       " 'families': 2,\n",
       " 'he': 10,\n",
       " 'considered': 2,\n",
       " 'rightful': 2,\n",
       " 'property': 2,\n",
       " 'some': 4,\n",
       " 'one': 4,\n",
       " 'other': 2,\n",
       " 'their': 2,\n",
       " 'daughters': 2,\n",
       " 'My': 2,\n",
       " 'dear': 4,\n",
       " 'Mr': 8,\n",
       " 'Bennet': 6,\n",
       " 'said': 2,\n",
       " 'lady': 2,\n",
       " 'to': 14,\n",
       " 'him': 2,\n",
       " 'day': 2,\n",
       " 'have': 4,\n",
       " 'you': 6,\n",
       " 'heard': 2,\n",
       " 'Netherfield': 4,\n",
       " 'Park': 2,\n",
       " 'let': 2,\n",
       " 'at': 2,\n",
       " 'last': 2,\n",
       " 'replied': 2,\n",
       " 'had': 2,\n",
       " 'not': 4,\n",
       " 'But': 2,\n",
       " 'it': 10,\n",
       " 'returned': 2,\n",
       " 'she': 4,\n",
       " 'for': 2,\n",
       " 'Mrs': 4,\n",
       " 'Long': 4,\n",
       " 'has': 4,\n",
       " 'just': 2,\n",
       " 'been': 2,\n",
       " 'here': 2,\n",
       " 'and': 10,\n",
       " 'told': 2,\n",
       " 'me': 4,\n",
       " 'all': 2,\n",
       " 'about': 2,\n",
       " 'made': 2,\n",
       " 'no': 4,\n",
       " 'answer': 2,\n",
       " 'Do': 2,\n",
       " 'know': 4,\n",
       " 'who': 2,\n",
       " 'taken': 4,\n",
       " 'cried': 2,\n",
       " 'impatiently': 2,\n",
       " 'You': 2,\n",
       " 'tell': 2,\n",
       " 'I': 2,\n",
       " 'objection': 2,\n",
       " 'hearing': 2,\n",
       " 'This': 2,\n",
       " 'was': 4,\n",
       " 'invitation': 2,\n",
       " 'enough': 2,\n",
       " 'Why': 2,\n",
       " 'my': 2,\n",
       " 'says': 2,\n",
       " 'by': 4,\n",
       " 'young': 2,\n",
       " 'large': 2,\n",
       " 'from': 2,\n",
       " 'north': 2,\n",
       " 'England': 2,\n",
       " 'came': 2,\n",
       " 'down': 2,\n",
       " 'Monday': 2,\n",
       " 'chaise': 2,\n",
       " 'four': 2,\n",
       " 'see': 2,\n",
       " 'place': 2,\n",
       " 'much': 2,\n",
       " 'delighted': 2,\n",
       " 'with': 4,\n",
       " 'agreed': 2,\n",
       " 'Morris': 2,\n",
       " 'immediately': 2,\n",
       " 'take': 2,\n",
       " 'before': 2,\n",
       " 'Michaelmas': 2,\n",
       " 'servants': 2,\n",
       " 'are': 2,\n",
       " 'house': 2,\n",
       " 'end': 2,\n",
       " 'next': 2,\n",
       " 'week': 2,\n",
       " 'What': 2,\n",
       " 'name': 2}"
      ]
     },
     "execution_count": 12,
     "metadata": {},
     "output_type": "execute_result"
    }
   ],
   "source": [
    "for word in list_of_words:\n",
    "    if unique_words_as_dict[word] is None:\n",
    "        unique_words_as_dict[word] = 1\n",
    "    else:\n",
    "        unique_words_as_dict[word] += 1\n",
    "unique_words_as_dict\n"
   ]
  },
  {
   "cell_type": "markdown",
   "metadata": {},
   "source": [
    "## Question 7"
   ]
  },
  {
   "cell_type": "code",
   "execution_count": 13,
   "metadata": {},
   "outputs": [
    {
     "data": {
      "text/plain": [
       "[('of', 10),\n",
       " ('is', 8),\n",
       " ('a', 8),\n",
       " ('that', 8),\n",
       " ('the', 8),\n",
       " ('to', 7),\n",
       " ('in', 5),\n",
       " ('his', 5),\n",
       " ('he', 5),\n",
       " ('it', 5),\n",
       " ('and', 5),\n",
       " ('Mr', 4),\n",
       " ('man', 3),\n",
       " ('be', 3),\n",
       " ('want', 3),\n",
       " ('Bennet', 3),\n",
       " ('you', 3),\n",
       " ('truth', 2),\n",
       " ('possession', 2),\n",
       " ('fortune', 2),\n",
       " ('must', 2),\n",
       " ('wife', 2),\n",
       " ('or', 2),\n",
       " ('on', 2),\n",
       " ('so', 2)]"
      ]
     },
     "execution_count": 13,
     "metadata": {},
     "output_type": "execute_result"
    }
   ],
   "source": [
    "top_words = sorted(unique_words_as_dict.items(), key=lambda key_val_tuple: key_val_tuple[1], reverse=True)\n",
    "top_words[:25]\n"
   ]
  },
  {
   "cell_type": "code",
   "execution_count": null,
   "metadata": {},
   "outputs": [],
   "source": []
  }
 ],
 "metadata": {
  "kernelspec": {
   "display_name": "Python 3",
   "language": "python",
   "name": "python3"
  },
  "language_info": {
   "codemirror_mode": {
    "name": "ipython",
    "version": 3
   },
   "file_extension": ".py",
   "mimetype": "text/x-python",
   "name": "python",
   "nbconvert_exporter": "python",
   "pygments_lexer": "ipython3",
   "version": "3.8.3"
  }
 },
 "nbformat": 4,
 "nbformat_minor": 4
}
