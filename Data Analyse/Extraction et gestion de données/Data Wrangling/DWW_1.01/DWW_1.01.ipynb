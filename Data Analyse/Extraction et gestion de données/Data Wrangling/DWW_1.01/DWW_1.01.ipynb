{
 "cells": [
  {
   "cell_type": "markdown",
   "metadata": {},
   "source": [
    "# DWW_1.01\n",
    "- **Description** : Handling Lists\n",
    "- **Source** : Data Wrangling Workshop - Tirthajyoti Sarkar, Shubhadeep Roychowdhury, Brian Lipp\n",
    "- **Chapter** :  1 - Introduction to Data Wrangling with Python\n",
    "- **Activity** : 1.01"
   ]
  },
  {
   "cell_type": "markdown",
   "metadata": {},
   "source": [
    "## Enoncé\n",
    "![Enonce DWW_1.01](../images/enonces/DWW_1.01_enonce.PNG)"
   ]
  },
  {
   "cell_type": "code",
   "execution_count": 2,
   "metadata": {},
   "outputs": [],
   "source": [
    "import random"
   ]
  },
  {
   "cell_type": "markdown",
   "metadata": {},
   "source": [
    "## Question 1"
   ]
  },
  {
   "cell_type": "code",
   "execution_count": 3,
   "metadata": {},
   "outputs": [],
   "source": [
    "random_number_list = [random.randint(0, 100) for x in range(0, 100)]"
   ]
  },
  {
   "cell_type": "code",
   "execution_count": 5,
   "metadata": {},
   "outputs": [
    {
     "name": "stdout",
     "output_type": "stream",
     "text": [
      "[85, 1, 10, 94, 86, 95, 12, 100, 34, 86, 61, 100, 0, 70, 11, 90, 19, 58, 12, 93, 51, 72, 41, 6, 18, 83, 12, 73, 99, 68, 100, 100, 56, 85, 9, 31, 48, 38, 39, 88, 48, 11, 47, 13, 75, 33, 23, 23, 52, 17, 8, 30, 47, 41, 41, 97, 42, 63, 58, 26, 97, 52, 46, 73, 19, 8, 15, 67, 7, 85, 73, 78, 93, 59, 25, 38, 76, 30, 44, 44, 88, 41, 73, 59, 11, 14, 83, 99, 59, 37, 76, 30, 80, 88, 88, 97, 74, 64, 13, 86]\n"
     ]
    }
   ],
   "source": [
    "print (random_number_list)"
   ]
  },
  {
   "cell_type": "markdown",
   "metadata": {},
   "source": [
    "## Question 2"
   ]
  },
  {
   "cell_type": "code",
   "execution_count": 6,
   "metadata": {},
   "outputs": [
    {
     "name": "stdout",
     "output_type": "stream",
     "text": [
      "[12, 0, 90, 12, 93, 51, 72, 6, 18, 12, 99, 9, 48, 39, 48, 75, 33, 30, 42, 63, 15, 78, 93, 30, 99, 30]\n"
     ]
    }
   ],
   "source": [
    "list_with_divisible_by_3 = [a for a in random_number_list if a % 3 == 0]\n",
    "print(list_with_divisible_by_3)\n"
   ]
  },
  {
   "cell_type": "markdown",
   "metadata": {},
   "source": [
    "## Question 3"
   ]
  },
  {
   "cell_type": "code",
   "execution_count": 5,
   "metadata": {},
   "outputs": [
    {
     "data": {
      "text/plain": [
       "59"
      ]
     },
     "execution_count": 5,
     "metadata": {},
     "output_type": "execute_result"
    }
   ],
   "source": [
    "length_of_random_list = len(random_number_list)\n",
    "length_of_3_divisible_list = len(list_with_divisible_by_3)\n",
    "difference = length_of_random_list - length_of_3_divisible_list\n",
    "difference\n"
   ]
  },
  {
   "cell_type": "markdown",
   "metadata": {},
   "source": [
    "## Question 4"
   ]
  },
  {
   "cell_type": "code",
   "execution_count": 6,
   "metadata": {},
   "outputs": [
    {
     "data": {
      "text/plain": [
       "[71, 74, 62, 68, 63, 63, 68, 66, 68, 64]"
      ]
     },
     "execution_count": 6,
     "metadata": {},
     "output_type": "execute_result"
    }
   ],
   "source": [
    "NUMBER_OF_EXPERIMENTS = 10\n",
    "difference_list = []\n",
    "for i in range(0, NUMBER_OF_EXPERIMENTS):\n",
    "    random_number_list = [random.randint(0, 100) for x in range(0, 100)]\n",
    "    list_with_divisible_by_3 = [a for a in random_number_list if a % 3 == 0]\n",
    "    \n",
    "    length_of_random_list = len(random_number_list)\n",
    "    length_of_3_divisible_list = len(list_with_divisible_by_3)\n",
    "    difference = length_of_random_list - length_of_3_divisible_list\n",
    "    difference_list.append(difference)\n",
    "difference_list\n"
   ]
  },
  {
   "cell_type": "markdown",
   "metadata": {},
   "source": [
    "## Question 5"
   ]
  },
  {
   "cell_type": "code",
   "execution_count": 7,
   "metadata": {},
   "outputs": [
    {
     "data": {
      "text/plain": [
       "66.7"
      ]
     },
     "execution_count": 7,
     "metadata": {},
     "output_type": "execute_result"
    }
   ],
   "source": [
    "avg_diff = sum(difference_list) / float(len(difference_list))\n",
    "avg_diff\n"
   ]
  }
 ],
 "metadata": {
  "kernelspec": {
   "display_name": "Python 3",
   "language": "python",
   "name": "python3"
  },
  "language_info": {
   "codemirror_mode": {
    "name": "ipython",
    "version": 3
   },
   "file_extension": ".py",
   "mimetype": "text/x-python",
   "name": "python",
   "nbconvert_exporter": "python",
   "pygments_lexer": "ipython3",
   "version": "3.8.3"
  }
 },
 "nbformat": 4,
 "nbformat_minor": 4
}
