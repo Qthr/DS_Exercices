{
 "cells": [
  {
   "cell_type": "markdown",
   "metadata": {},
   "source": [
    "# DWW_2.01\n",
    "- **Description** : Permutation, Iterator, Lambda, and List\n",
    "- **Source** : Data Wrangling Workshop -  Tirthajyoti Sarkar, Shubhadeep Roychowdhury, Brian Lipp\n",
    "- **Chapter** :  1 - Advanced Operations on Built-In Data Structures\n",
    "- **Activity** : 2.01"
   ]
  },
  {
   "cell_type": "markdown",
   "metadata": {},
   "source": [
    "## Enoncé\n",
    "![Enonce DWW_1.02](../images/enonces/DWW_2.01_enonce.PNG)"
   ]
  },
  {
   "cell_type": "markdown",
   "metadata": {},
   "source": [
    "## Question 1"
   ]
  },
  {
   "cell_type": "code",
   "execution_count": 13,
   "metadata": {},
   "outputs": [
    {
     "data": {
      "text/plain": [
       "\u001b[1;31mInit signature:\u001b[0m \u001b[0mdropwhile\u001b[0m\u001b[1;33m(\u001b[0m\u001b[0mpredicate\u001b[0m\u001b[1;33m,\u001b[0m \u001b[0miterable\u001b[0m\u001b[1;33m,\u001b[0m \u001b[1;33m/\u001b[0m\u001b[1;33m)\u001b[0m\u001b[1;33m\u001b[0m\u001b[1;33m\u001b[0m\u001b[0m\n",
       "\u001b[1;31mDocstring:\u001b[0m     \n",
       "Drop items from the iterable while predicate(item) is true.\n",
       "\n",
       "Afterwards, return every element until the iterable is exhausted.\n",
       "\u001b[1;31mType:\u001b[0m           type\n",
       "\u001b[1;31mSubclasses:\u001b[0m     \n"
      ]
     },
     "metadata": {},
     "output_type": "display_data"
    }
   ],
   "source": [
    "from itertools import permutations, dropwhile\n",
    "permutations?\n",
    "dropwhile?"
   ]
  },
  {
   "cell_type": "markdown",
   "metadata": {},
   "source": [
    "## Question 2"
   ]
  },
  {
   "cell_type": "code",
   "execution_count": 14,
   "metadata": {},
   "outputs": [],
   "source": [
    "permutations = permutations(range(3), 3)"
   ]
  },
  {
   "cell_type": "code",
   "execution_count": null,
   "metadata": {},
   "outputs": [],
   "source": []
  },
  {
   "cell_type": "code",
   "execution_count": null,
   "metadata": {},
   "outputs": [],
   "source": []
  },
  {
   "cell_type": "code",
   "execution_count": null,
   "metadata": {},
   "outputs": [],
   "source": []
  },
  {
   "cell_type": "code",
   "execution_count": null,
   "metadata": {},
   "outputs": [],
   "source": []
  },
  {
   "cell_type": "code",
   "execution_count": null,
   "metadata": {},
   "outputs": [],
   "source": []
  },
  {
   "cell_type": "code",
   "execution_count": null,
   "metadata": {},
   "outputs": [],
   "source": []
  },
  {
   "cell_type": "code",
   "execution_count": null,
   "metadata": {},
   "outputs": [],
   "source": []
  },
  {
   "cell_type": "code",
   "execution_count": null,
   "metadata": {},
   "outputs": [],
   "source": []
  },
  {
   "cell_type": "code",
   "execution_count": null,
   "metadata": {},
   "outputs": [],
   "source": []
  },
  {
   "cell_type": "code",
   "execution_count": null,
   "metadata": {},
   "outputs": [],
   "source": []
  },
  {
   "cell_type": "code",
   "execution_count": null,
   "metadata": {},
   "outputs": [],
   "source": []
  },
  {
   "cell_type": "code",
   "execution_count": null,
   "metadata": {},
   "outputs": [],
   "source": []
  },
  {
   "cell_type": "code",
   "execution_count": 1,
   "metadata": {},
   "outputs": [],
   "source": [
    "from itertools import permutations, dropwhile\n",
    "permutations?\n",
    "dropwhile?\n"
   ]
  },
  {
   "cell_type": "code",
   "execution_count": 2,
   "metadata": {},
   "outputs": [
    {
     "data": {
      "text/plain": [
       "<itertools.permutations at 0x21de3f1a678>"
      ]
     },
     "execution_count": 2,
     "metadata": {},
     "output_type": "execute_result"
    }
   ],
   "source": [
    "permutations(range(3))\n"
   ]
  },
  {
   "cell_type": "code",
   "execution_count": 3,
   "metadata": {},
   "outputs": [
    {
     "name": "stdout",
     "output_type": "stream",
     "text": [
      "(0, 1, 2)\n",
      "(0, 2, 1)\n",
      "(1, 0, 2)\n",
      "(1, 2, 0)\n",
      "(2, 0, 1)\n",
      "(2, 1, 0)\n"
     ]
    }
   ],
   "source": [
    "for number_tuple in permutations(range(3)):\n",
    "    print(number_tuple)\n",
    "    assert isinstance(number_tuple, tuple)  \n"
   ]
  },
  {
   "cell_type": "code",
   "execution_count": 4,
   "metadata": {},
   "outputs": [
    {
     "name": "stdout",
     "output_type": "stream",
     "text": [
      "[1, 2]\n",
      "[2, 1]\n",
      "[1, 0, 2]\n",
      "[1, 2, 0]\n",
      "[2, 0, 1]\n",
      "[2, 1, 0]\n"
     ]
    }
   ],
   "source": [
    "for number_tuple in permutations(range(3)):\n",
    "    print(list(dropwhile(lambda x: x <= 0, number_tuple)))  \n"
   ]
  },
  {
   "cell_type": "code",
   "execution_count": 5,
   "metadata": {},
   "outputs": [
    {
     "name": "stdout",
     "output_type": "stream",
     "text": [
      "12.0\n",
      "21.0\n",
      "102.0\n",
      "120.0\n",
      "201.0\n",
      "210.0\n"
     ]
    }
   ],
   "source": [
    "import math\n",
    "def convert_to_number(number_stack):\n",
    "    final_number = 0\n",
    "    for i in range(0, len(number_stack)):\n",
    "        final_number += (number_stack.pop() * (math.pow(10, i)))\n",
    "    return final_number\n",
    "\n",
    "for number_tuple in permutations(range(3)):\n",
    "    number_stack = list(dropwhile(lambda x: x <= 0, number_tuple))\n",
    "    print(convert_to_number(number_stack))  \n"
   ]
  },
  {
   "cell_type": "code",
   "execution_count": null,
   "metadata": {},
   "outputs": [],
   "source": []
  }
 ],
 "metadata": {
  "kernelspec": {
   "display_name": "Python 3",
   "language": "python",
   "name": "python3"
  },
  "language_info": {
   "codemirror_mode": {
    "name": "ipython",
    "version": 3
   },
   "file_extension": ".py",
   "mimetype": "text/x-python",
   "name": "python",
   "nbconvert_exporter": "python",
   "pygments_lexer": "ipython3",
   "version": "3.8.3"
  }
 },
 "nbformat": 4,
 "nbformat_minor": 4
}
