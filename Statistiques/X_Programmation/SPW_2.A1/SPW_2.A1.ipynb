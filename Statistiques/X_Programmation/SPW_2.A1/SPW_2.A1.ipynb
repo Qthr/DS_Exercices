{
 "cells": [
  {
   "cell_type": "markdown",
   "metadata": {},
   "source": [
    "# SPW_2.A1\n",
    "- **Description** : Analyzing the communities and crime dataset\n",
    "- **Source** : The Statistics and Calculus with Python Workshop - Farrell, Fuentes, Kolhe\n",
    "- **Chapter** :  2 - Python's Main Tools for Statistics\n",
    "- **Exercise** : 2.A1"
   ]
  },
  {
   "cell_type": "markdown",
   "metadata": {},
   "source": [
    "### Question 1"
   ]
  },
  {
   "cell_type": "code",
   "execution_count": 1,
   "metadata": {},
   "outputs": [],
   "source": [
    "import pandas as pd\n",
    "import numpy as np\n",
    "import matplotlib.pyplot as plt"
   ]
  },
  {
   "cell_type": "markdown",
   "metadata": {},
   "source": [
    "### Question 2"
   ]
  },
  {
   "cell_type": "code",
   "execution_count": 4,
   "metadata": {},
   "outputs": [
    {
     "data": {
      "text/html": [
       "<div>\n",
       "<style scoped>\n",
       "    .dataframe tbody tr th:only-of-type {\n",
       "        vertical-align: middle;\n",
       "    }\n",
       "\n",
       "    .dataframe tbody tr th {\n",
       "        vertical-align: top;\n",
       "    }\n",
       "\n",
       "    .dataframe thead th {\n",
       "        text-align: right;\n",
       "    }\n",
       "</style>\n",
       "<table border=\"1\" class=\"dataframe\">\n",
       "  <thead>\n",
       "    <tr style=\"text-align: right;\">\n",
       "      <th></th>\n",
       "      <th>communityname</th>\n",
       "      <th>state</th>\n",
       "      <th>countyCode</th>\n",
       "      <th>communityCode</th>\n",
       "      <th>fold</th>\n",
       "      <th>population</th>\n",
       "      <th>householdsize</th>\n",
       "      <th>racepctblack</th>\n",
       "      <th>racePctWhite</th>\n",
       "      <th>racePctAsian</th>\n",
       "      <th>...</th>\n",
       "      <th>burglaries</th>\n",
       "      <th>burglPerPop</th>\n",
       "      <th>larcenies</th>\n",
       "      <th>larcPerPop</th>\n",
       "      <th>autoTheft</th>\n",
       "      <th>autoTheftPerPop</th>\n",
       "      <th>arsons</th>\n",
       "      <th>arsonsPerPop</th>\n",
       "      <th>ViolentCrimesPerPop</th>\n",
       "      <th>nonViolPerPop</th>\n",
       "    </tr>\n",
       "  </thead>\n",
       "  <tbody>\n",
       "    <tr>\n",
       "      <th>0</th>\n",
       "      <td>BerkeleyHeightstownship</td>\n",
       "      <td>NJ</td>\n",
       "      <td>39</td>\n",
       "      <td>5320</td>\n",
       "      <td>1</td>\n",
       "      <td>11980</td>\n",
       "      <td>3.10</td>\n",
       "      <td>1.37</td>\n",
       "      <td>91.78</td>\n",
       "      <td>6.50</td>\n",
       "      <td>...</td>\n",
       "      <td>14</td>\n",
       "      <td>114.85</td>\n",
       "      <td>138</td>\n",
       "      <td>1132.08</td>\n",
       "      <td>16</td>\n",
       "      <td>131.26</td>\n",
       "      <td>2</td>\n",
       "      <td>16.41</td>\n",
       "      <td>41.02</td>\n",
       "      <td>1394.59</td>\n",
       "    </tr>\n",
       "    <tr>\n",
       "      <th>1</th>\n",
       "      <td>Marpletownship</td>\n",
       "      <td>PA</td>\n",
       "      <td>45</td>\n",
       "      <td>47616</td>\n",
       "      <td>1</td>\n",
       "      <td>23123</td>\n",
       "      <td>2.82</td>\n",
       "      <td>0.80</td>\n",
       "      <td>95.57</td>\n",
       "      <td>3.44</td>\n",
       "      <td>...</td>\n",
       "      <td>57</td>\n",
       "      <td>242.37</td>\n",
       "      <td>376</td>\n",
       "      <td>1598.78</td>\n",
       "      <td>26</td>\n",
       "      <td>110.55</td>\n",
       "      <td>1</td>\n",
       "      <td>4.25</td>\n",
       "      <td>127.56</td>\n",
       "      <td>1955.95</td>\n",
       "    </tr>\n",
       "    <tr>\n",
       "      <th>2</th>\n",
       "      <td>Tigardcity</td>\n",
       "      <td>OR</td>\n",
       "      <td>?</td>\n",
       "      <td>?</td>\n",
       "      <td>1</td>\n",
       "      <td>29344</td>\n",
       "      <td>2.43</td>\n",
       "      <td>0.74</td>\n",
       "      <td>94.33</td>\n",
       "      <td>3.43</td>\n",
       "      <td>...</td>\n",
       "      <td>274</td>\n",
       "      <td>758.14</td>\n",
       "      <td>1797</td>\n",
       "      <td>4972.19</td>\n",
       "      <td>136</td>\n",
       "      <td>376.3</td>\n",
       "      <td>22</td>\n",
       "      <td>60.87</td>\n",
       "      <td>218.59</td>\n",
       "      <td>6167.51</td>\n",
       "    </tr>\n",
       "    <tr>\n",
       "      <th>3</th>\n",
       "      <td>Gloversvillecity</td>\n",
       "      <td>NY</td>\n",
       "      <td>35</td>\n",
       "      <td>29443</td>\n",
       "      <td>1</td>\n",
       "      <td>16656</td>\n",
       "      <td>2.40</td>\n",
       "      <td>1.70</td>\n",
       "      <td>97.35</td>\n",
       "      <td>0.50</td>\n",
       "      <td>...</td>\n",
       "      <td>225</td>\n",
       "      <td>1301.78</td>\n",
       "      <td>716</td>\n",
       "      <td>4142.56</td>\n",
       "      <td>47</td>\n",
       "      <td>271.93</td>\n",
       "      <td>?</td>\n",
       "      <td>?</td>\n",
       "      <td>306.64</td>\n",
       "      <td>?</td>\n",
       "    </tr>\n",
       "    <tr>\n",
       "      <th>4</th>\n",
       "      <td>Bemidjicity</td>\n",
       "      <td>MN</td>\n",
       "      <td>7</td>\n",
       "      <td>5068</td>\n",
       "      <td>1</td>\n",
       "      <td>11245</td>\n",
       "      <td>2.76</td>\n",
       "      <td>0.53</td>\n",
       "      <td>89.16</td>\n",
       "      <td>1.17</td>\n",
       "      <td>...</td>\n",
       "      <td>91</td>\n",
       "      <td>728.93</td>\n",
       "      <td>1060</td>\n",
       "      <td>8490.87</td>\n",
       "      <td>91</td>\n",
       "      <td>728.93</td>\n",
       "      <td>5</td>\n",
       "      <td>40.05</td>\n",
       "      <td>?</td>\n",
       "      <td>9988.79</td>\n",
       "    </tr>\n",
       "  </tbody>\n",
       "</table>\n",
       "<p>5 rows × 147 columns</p>\n",
       "</div>"
      ],
      "text/plain": [
       "             communityname state countyCode communityCode  fold  population  \\\n",
       "0  BerkeleyHeightstownship    NJ         39          5320     1       11980   \n",
       "1           Marpletownship    PA         45         47616     1       23123   \n",
       "2               Tigardcity    OR          ?             ?     1       29344   \n",
       "3         Gloversvillecity    NY         35         29443     1       16656   \n",
       "4              Bemidjicity    MN          7          5068     1       11245   \n",
       "\n",
       "   householdsize  racepctblack  racePctWhite  racePctAsian  ...  burglaries  \\\n",
       "0           3.10          1.37         91.78          6.50  ...          14   \n",
       "1           2.82          0.80         95.57          3.44  ...          57   \n",
       "2           2.43          0.74         94.33          3.43  ...         274   \n",
       "3           2.40          1.70         97.35          0.50  ...         225   \n",
       "4           2.76          0.53         89.16          1.17  ...          91   \n",
       "\n",
       "   burglPerPop  larcenies  larcPerPop  autoTheft  autoTheftPerPop  arsons  \\\n",
       "0       114.85        138     1132.08         16           131.26       2   \n",
       "1       242.37        376     1598.78         26           110.55       1   \n",
       "2       758.14       1797     4972.19        136            376.3      22   \n",
       "3      1301.78        716     4142.56         47           271.93       ?   \n",
       "4       728.93       1060     8490.87         91           728.93       5   \n",
       "\n",
       "   arsonsPerPop  ViolentCrimesPerPop  nonViolPerPop  \n",
       "0         16.41                41.02        1394.59  \n",
       "1          4.25               127.56        1955.95  \n",
       "2         60.87               218.59        6167.51  \n",
       "3             ?               306.64              ?  \n",
       "4         40.05                    ?        9988.79  \n",
       "\n",
       "[5 rows x 147 columns]"
      ]
     },
     "execution_count": 4,
     "metadata": {},
     "output_type": "execute_result"
    }
   ],
   "source": [
    "df = pd.read_csv(\"CommViolPredUnnormalizedData.txt\")\n",
    "df.head()"
   ]
  },
  {
   "cell_type": "markdown",
   "metadata": {},
   "source": [
    "### Question 3"
   ]
  },
  {
   "cell_type": "code",
   "execution_count": 8,
   "metadata": {},
   "outputs": [
    {
     "name": "stdout",
     "output_type": "stream",
     "text": [
      "communityname\n",
      "state\n",
      "countyCode\n",
      "communityCode\n",
      "fold\n",
      "population\n",
      "householdsize\n",
      "racepctblack\n",
      "racePctWhite\n",
      "racePctAsian\n",
      "racePctHisp\n",
      "agePct12t21\n",
      "agePct12t29\n",
      "agePct16t24\n",
      "agePct65up\n",
      "numbUrban\n",
      "pctUrban\n",
      "medIncome\n",
      "pctWWage\n",
      "pctWFarmSelf\n",
      "pctWInvInc\n",
      "pctWSocSec\n",
      "pctWPubAsst\n",
      "pctWRetire\n",
      "medFamInc\n",
      "perCapInc\n",
      "whitePerCap\n",
      "blackPerCap\n",
      "indianPerCap\n",
      "AsianPerCap\n",
      "OtherPerCap\n",
      "HispPerCap\n",
      "NumUnderPov\n",
      "PctPopUnderPov\n",
      "PctLess9thGrade\n",
      "PctNotHSGrad\n",
      "PctBSorMore\n",
      "PctUnemployed\n",
      "PctEmploy\n",
      "PctEmplManu\n",
      "PctEmplProfServ\n",
      "PctOccupManu\n",
      "PctOccupMgmtProf\n",
      "MalePctDivorce\n",
      "MalePctNevMarr\n",
      "FemalePctDiv\n",
      "TotalPctDiv\n",
      "PersPerFam\n",
      "PctFam2Par\n",
      "PctKids2Par\n",
      "PctYoungKids2Par\n",
      "PctTeen2Par\n",
      "PctWorkMomYoungKids\n",
      "PctWorkMom\n",
      "NumKidsBornNeverMar\n",
      "PctKidsBornNeverMar\n",
      "NumImmig\n",
      "PctImmigRecent\n",
      "PctImmigRec5\n",
      "PctImmigRec8\n",
      "PctImmigRec10\n",
      "PctRecentImmig\n",
      "PctRecImmig5\n",
      "PctRecImmig8\n",
      "PctRecImmig10\n",
      "PctSpeakEnglOnly\n",
      "PctNotSpeakEnglWell\n",
      "PctLargHouseFam\n",
      "PctLargHouseOccup\n",
      "PersPerOccupHous\n",
      "PersPerOwnOccHous\n",
      "PersPerRentOccHous\n",
      "PctPersOwnOccup\n",
      "PctPersDenseHous\n",
      "PctHousLess3BR\n",
      "MedNumBR\n",
      "HousVacant\n",
      "PctHousOccup\n",
      "PctHousOwnOcc\n",
      "PctVacantBoarded\n",
      "PctVacMore6Mos\n",
      "MedYrHousBuilt\n",
      "PctHousNoPhone\n",
      "PctWOFullPlumb\n",
      "OwnOccLowQuart\n",
      "OwnOccMedVal\n",
      "OwnOccHiQuart\n",
      "OwnOccQrange\n",
      "RentLowQ\n",
      "RentMedian\n",
      "RentHighQ\n",
      "RentQrange\n",
      "MedRent\n",
      "MedRentPctHousInc\n",
      "MedOwnCostPctInc\n",
      "MedOwnCostPctIncNoMtg\n",
      "NumInShelters\n",
      "NumStreet\n",
      "PctForeignBorn\n",
      "PctBornSameState\n",
      "PctSameHouse85\n",
      "PctSameCity85\n",
      "PctSameState85\n",
      "LemasSwornFT\n",
      "LemasSwFTPerPop\n",
      "LemasSwFTFieldOps\n",
      "LemasSwFTFieldPerPop\n",
      "LemasTotalReq\n",
      "LemasTotReqPerPop\n",
      "PolicReqPerOffic\n",
      "PolicPerPop\n",
      "RacialMatchCommPol\n",
      "PctPolicWhite\n",
      "PctPolicBlack\n",
      "PctPolicHisp\n",
      "PctPolicAsian\n",
      "PctPolicMinor\n",
      "OfficAssgnDrugUnits\n",
      "NumKindsDrugsSeiz\n",
      "PolicAveOTWorked\n",
      "LandArea\n",
      "PopDens\n",
      "PctUsePubTrans\n",
      "PolicCars\n",
      "PolicOperBudg\n",
      "LemasPctPolicOnPatr\n",
      "LemasGangUnitDeploy\n",
      "LemasPctOfficDrugUn\n",
      "PolicBudgPerPop\n",
      "murders\n",
      "murdPerPop\n",
      "rapes\n",
      "rapesPerPop\n",
      "robberies\n",
      "robbbPerPop\n",
      "assaults\n",
      "assaultPerPop\n",
      "burglaries\n",
      "burglPerPop\n",
      "larcenies\n",
      "larcPerPop\n",
      "autoTheft\n",
      "autoTheftPerPop\n",
      "arsons\n",
      "arsonsPerPop\n",
      "ViolentCrimesPerPop\n",
      "nonViolPerPop\n"
     ]
    },
    {
     "data": {
      "text/plain": [
       "147"
      ]
     },
     "execution_count": 8,
     "metadata": {},
     "output_type": "execute_result"
    }
   ],
   "source": [
    "for col in df.columns:\n",
    "    print(col)\n",
    "len(df.columns)"
   ]
  },
  {
   "cell_type": "markdown",
   "metadata": {},
   "source": [
    "### Question 4"
   ]
  },
  {
   "cell_type": "code",
   "execution_count": 11,
   "metadata": {},
   "outputs": [
    {
     "data": {
      "text/html": [
       "<div>\n",
       "<style scoped>\n",
       "    .dataframe tbody tr th:only-of-type {\n",
       "        vertical-align: middle;\n",
       "    }\n",
       "\n",
       "    .dataframe tbody tr th {\n",
       "        vertical-align: top;\n",
       "    }\n",
       "\n",
       "    .dataframe thead th {\n",
       "        text-align: right;\n",
       "    }\n",
       "</style>\n",
       "<table border=\"1\" class=\"dataframe\">\n",
       "  <thead>\n",
       "    <tr style=\"text-align: right;\">\n",
       "      <th></th>\n",
       "      <th>communityname</th>\n",
       "      <th>state</th>\n",
       "      <th>countyCode</th>\n",
       "      <th>communityCode</th>\n",
       "      <th>fold</th>\n",
       "      <th>population</th>\n",
       "      <th>householdsize</th>\n",
       "      <th>racepctblack</th>\n",
       "      <th>racePctWhite</th>\n",
       "      <th>racePctAsian</th>\n",
       "      <th>...</th>\n",
       "      <th>burglaries</th>\n",
       "      <th>burglPerPop</th>\n",
       "      <th>larcenies</th>\n",
       "      <th>larcPerPop</th>\n",
       "      <th>autoTheft</th>\n",
       "      <th>autoTheftPerPop</th>\n",
       "      <th>arsons</th>\n",
       "      <th>arsonsPerPop</th>\n",
       "      <th>ViolentCrimesPerPop</th>\n",
       "      <th>nonViolPerPop</th>\n",
       "    </tr>\n",
       "  </thead>\n",
       "  <tbody>\n",
       "    <tr>\n",
       "      <th>0</th>\n",
       "      <td>BerkeleyHeightstownship</td>\n",
       "      <td>NJ</td>\n",
       "      <td>39</td>\n",
       "      <td>5320</td>\n",
       "      <td>1</td>\n",
       "      <td>11980</td>\n",
       "      <td>3.10</td>\n",
       "      <td>1.37</td>\n",
       "      <td>91.78</td>\n",
       "      <td>6.50</td>\n",
       "      <td>...</td>\n",
       "      <td>14</td>\n",
       "      <td>114.85</td>\n",
       "      <td>138</td>\n",
       "      <td>1132.08</td>\n",
       "      <td>16</td>\n",
       "      <td>131.26</td>\n",
       "      <td>2</td>\n",
       "      <td>16.41</td>\n",
       "      <td>41.02</td>\n",
       "      <td>1394.59</td>\n",
       "    </tr>\n",
       "    <tr>\n",
       "      <th>1</th>\n",
       "      <td>Marpletownship</td>\n",
       "      <td>PA</td>\n",
       "      <td>45</td>\n",
       "      <td>47616</td>\n",
       "      <td>1</td>\n",
       "      <td>23123</td>\n",
       "      <td>2.82</td>\n",
       "      <td>0.80</td>\n",
       "      <td>95.57</td>\n",
       "      <td>3.44</td>\n",
       "      <td>...</td>\n",
       "      <td>57</td>\n",
       "      <td>242.37</td>\n",
       "      <td>376</td>\n",
       "      <td>1598.78</td>\n",
       "      <td>26</td>\n",
       "      <td>110.55</td>\n",
       "      <td>1</td>\n",
       "      <td>4.25</td>\n",
       "      <td>127.56</td>\n",
       "      <td>1955.95</td>\n",
       "    </tr>\n",
       "    <tr>\n",
       "      <th>2</th>\n",
       "      <td>Tigardcity</td>\n",
       "      <td>OR</td>\n",
       "      <td>NaN</td>\n",
       "      <td>NaN</td>\n",
       "      <td>1</td>\n",
       "      <td>29344</td>\n",
       "      <td>2.43</td>\n",
       "      <td>0.74</td>\n",
       "      <td>94.33</td>\n",
       "      <td>3.43</td>\n",
       "      <td>...</td>\n",
       "      <td>274</td>\n",
       "      <td>758.14</td>\n",
       "      <td>1797</td>\n",
       "      <td>4972.19</td>\n",
       "      <td>136</td>\n",
       "      <td>376.3</td>\n",
       "      <td>22</td>\n",
       "      <td>60.87</td>\n",
       "      <td>218.59</td>\n",
       "      <td>6167.51</td>\n",
       "    </tr>\n",
       "    <tr>\n",
       "      <th>3</th>\n",
       "      <td>Gloversvillecity</td>\n",
       "      <td>NY</td>\n",
       "      <td>35</td>\n",
       "      <td>29443</td>\n",
       "      <td>1</td>\n",
       "      <td>16656</td>\n",
       "      <td>2.40</td>\n",
       "      <td>1.70</td>\n",
       "      <td>97.35</td>\n",
       "      <td>0.50</td>\n",
       "      <td>...</td>\n",
       "      <td>225</td>\n",
       "      <td>1301.78</td>\n",
       "      <td>716</td>\n",
       "      <td>4142.56</td>\n",
       "      <td>47</td>\n",
       "      <td>271.93</td>\n",
       "      <td>NaN</td>\n",
       "      <td>NaN</td>\n",
       "      <td>306.64</td>\n",
       "      <td>NaN</td>\n",
       "    </tr>\n",
       "    <tr>\n",
       "      <th>4</th>\n",
       "      <td>Bemidjicity</td>\n",
       "      <td>MN</td>\n",
       "      <td>7</td>\n",
       "      <td>5068</td>\n",
       "      <td>1</td>\n",
       "      <td>11245</td>\n",
       "      <td>2.76</td>\n",
       "      <td>0.53</td>\n",
       "      <td>89.16</td>\n",
       "      <td>1.17</td>\n",
       "      <td>...</td>\n",
       "      <td>91</td>\n",
       "      <td>728.93</td>\n",
       "      <td>1060</td>\n",
       "      <td>8490.87</td>\n",
       "      <td>91</td>\n",
       "      <td>728.93</td>\n",
       "      <td>5</td>\n",
       "      <td>40.05</td>\n",
       "      <td>NaN</td>\n",
       "      <td>9988.79</td>\n",
       "    </tr>\n",
       "  </tbody>\n",
       "</table>\n",
       "<p>5 rows × 147 columns</p>\n",
       "</div>"
      ],
      "text/plain": [
       "             communityname state countyCode communityCode  fold  population  \\\n",
       "0  BerkeleyHeightstownship    NJ         39          5320     1       11980   \n",
       "1           Marpletownship    PA         45         47616     1       23123   \n",
       "2               Tigardcity    OR        NaN           NaN     1       29344   \n",
       "3         Gloversvillecity    NY         35         29443     1       16656   \n",
       "4              Bemidjicity    MN          7          5068     1       11245   \n",
       "\n",
       "   householdsize  racepctblack  racePctWhite  racePctAsian  ...  burglaries  \\\n",
       "0           3.10          1.37         91.78          6.50  ...          14   \n",
       "1           2.82          0.80         95.57          3.44  ...          57   \n",
       "2           2.43          0.74         94.33          3.43  ...         274   \n",
       "3           2.40          1.70         97.35          0.50  ...         225   \n",
       "4           2.76          0.53         89.16          1.17  ...          91   \n",
       "\n",
       "   burglPerPop  larcenies  larcPerPop  autoTheft  autoTheftPerPop  arsons  \\\n",
       "0       114.85        138     1132.08         16           131.26       2   \n",
       "1       242.37        376     1598.78         26           110.55       1   \n",
       "2       758.14       1797     4972.19        136            376.3      22   \n",
       "3      1301.78        716     4142.56         47           271.93     NaN   \n",
       "4       728.93       1060     8490.87         91           728.93       5   \n",
       "\n",
       "   arsonsPerPop  ViolentCrimesPerPop  nonViolPerPop  \n",
       "0         16.41                41.02        1394.59  \n",
       "1          4.25               127.56        1955.95  \n",
       "2         60.87               218.59        6167.51  \n",
       "3           NaN               306.64            NaN  \n",
       "4         40.05                  NaN        9988.79  \n",
       "\n",
       "[5 rows x 147 columns]"
      ]
     },
     "execution_count": 11,
     "metadata": {},
     "output_type": "execute_result"
    }
   ],
   "source": [
    "df = df.replace('?', np.nan)\n",
    "df.head()"
   ]
  },
  {
   "cell_type": "markdown",
   "metadata": {},
   "source": [
    "### Question 5"
   ]
  },
  {
   "cell_type": "code",
   "execution_count": 15,
   "metadata": {},
   "outputs": [
    {
     "name": "stdout",
     "output_type": "stream",
     "text": [
      "communityname 0\n",
      "state 0\n",
      "countyCode 1221\n",
      "communityCode 1224\n",
      "fold 0\n",
      "population 0\n",
      "householdsize 0\n",
      "racepctblack 0\n",
      "racePctWhite 0\n",
      "racePctAsian 0\n",
      "racePctHisp 0\n",
      "agePct12t21 0\n",
      "agePct12t29 0\n",
      "agePct16t24 0\n",
      "agePct65up 0\n",
      "numbUrban 0\n",
      "pctUrban 0\n",
      "medIncome 0\n",
      "pctWWage 0\n",
      "pctWFarmSelf 0\n",
      "pctWInvInc 0\n",
      "pctWSocSec 0\n",
      "pctWPubAsst 0\n",
      "pctWRetire 0\n",
      "medFamInc 0\n",
      "perCapInc 0\n",
      "whitePerCap 0\n",
      "blackPerCap 0\n",
      "indianPerCap 0\n",
      "AsianPerCap 0\n",
      "OtherPerCap 1\n",
      "HispPerCap 0\n",
      "NumUnderPov 0\n",
      "PctPopUnderPov 0\n",
      "PctLess9thGrade 0\n",
      "PctNotHSGrad 0\n",
      "PctBSorMore 0\n",
      "PctUnemployed 0\n",
      "PctEmploy 0\n",
      "PctEmplManu 0\n",
      "PctEmplProfServ 0\n",
      "PctOccupManu 0\n",
      "PctOccupMgmtProf 0\n",
      "MalePctDivorce 0\n",
      "MalePctNevMarr 0\n",
      "FemalePctDiv 0\n",
      "TotalPctDiv 0\n",
      "PersPerFam 0\n",
      "PctFam2Par 0\n",
      "PctKids2Par 0\n",
      "PctYoungKids2Par 0\n",
      "PctTeen2Par 0\n",
      "PctWorkMomYoungKids 0\n",
      "PctWorkMom 0\n",
      "NumKidsBornNeverMar 0\n",
      "PctKidsBornNeverMar 0\n",
      "NumImmig 0\n",
      "PctImmigRecent 0\n",
      "PctImmigRec5 0\n",
      "PctImmigRec8 0\n",
      "PctImmigRec10 0\n",
      "PctRecentImmig 0\n",
      "PctRecImmig5 0\n",
      "PctRecImmig8 0\n",
      "PctRecImmig10 0\n",
      "PctSpeakEnglOnly 0\n",
      "PctNotSpeakEnglWell 0\n",
      "PctLargHouseFam 0\n",
      "PctLargHouseOccup 0\n",
      "PersPerOccupHous 0\n",
      "PersPerOwnOccHous 0\n",
      "PersPerRentOccHous 0\n",
      "PctPersOwnOccup 0\n",
      "PctPersDenseHous 0\n",
      "PctHousLess3BR 0\n",
      "MedNumBR 0\n",
      "HousVacant 0\n",
      "PctHousOccup 0\n",
      "PctHousOwnOcc 0\n",
      "PctVacantBoarded 0\n",
      "PctVacMore6Mos 0\n",
      "MedYrHousBuilt 0\n",
      "PctHousNoPhone 0\n",
      "PctWOFullPlumb 0\n",
      "OwnOccLowQuart 0\n",
      "OwnOccMedVal 0\n",
      "OwnOccHiQuart 0\n",
      "OwnOccQrange 0\n",
      "RentLowQ 0\n",
      "RentMedian 0\n",
      "RentHighQ 0\n",
      "RentQrange 0\n",
      "MedRent 0\n",
      "MedRentPctHousInc 0\n",
      "MedOwnCostPctInc 0\n",
      "MedOwnCostPctIncNoMtg 0\n",
      "NumInShelters 0\n",
      "NumStreet 0\n",
      "PctForeignBorn 0\n",
      "PctBornSameState 0\n",
      "PctSameHouse85 0\n",
      "PctSameCity85 0\n",
      "PctSameState85 0\n",
      "LemasSwornFT 1872\n",
      "LemasSwFTPerPop 1872\n",
      "LemasSwFTFieldOps 1872\n",
      "LemasSwFTFieldPerPop 1872\n",
      "LemasTotalReq 1872\n",
      "LemasTotReqPerPop 1872\n",
      "PolicReqPerOffic 1872\n",
      "PolicPerPop 1872\n",
      "RacialMatchCommPol 1872\n",
      "PctPolicWhite 1872\n",
      "PctPolicBlack 1872\n",
      "PctPolicHisp 1872\n",
      "PctPolicAsian 1872\n",
      "PctPolicMinor 1872\n",
      "OfficAssgnDrugUnits 1872\n",
      "NumKindsDrugsSeiz 1872\n",
      "PolicAveOTWorked 1872\n",
      "LandArea 0\n",
      "PopDens 0\n",
      "PctUsePubTrans 0\n",
      "PolicCars 1872\n",
      "PolicOperBudg 1872\n",
      "LemasPctPolicOnPatr 1872\n",
      "LemasGangUnitDeploy 1872\n",
      "LemasPctOfficDrugUn 0\n",
      "PolicBudgPerPop 1872\n",
      "murders 0\n",
      "murdPerPop 0\n",
      "rapes 208\n",
      "rapesPerPop 208\n",
      "robberies 1\n",
      "robbbPerPop 1\n",
      "assaults 13\n",
      "assaultPerPop 13\n",
      "burglaries 3\n",
      "burglPerPop 3\n",
      "larcenies 3\n",
      "larcPerPop 3\n",
      "autoTheft 3\n",
      "autoTheftPerPop 3\n",
      "arsons 91\n",
      "arsonsPerPop 91\n",
      "ViolentCrimesPerPop 221\n",
      "nonViolPerPop 97\n"
     ]
    }
   ],
   "source": [
    "for col, nb_miss_val  in zip(df.columns, df.isnull().sum()):\n",
    "    print(col, nb_miss_val)\n"
   ]
  },
  {
   "cell_type": "markdown",
   "metadata": {},
   "source": [
    "### Question 6"
   ]
  },
  {
   "cell_type": "code",
   "execution_count": 16,
   "metadata": {},
   "outputs": [
    {
     "data": {
      "text/plain": [
       "0"
      ]
     },
     "execution_count": 16,
     "metadata": {},
     "output_type": "execute_result"
    }
   ],
   "source": [
    "df.isnull().sum()['NumStreet']"
   ]
  },
  {
   "cell_type": "code",
   "execution_count": 17,
   "metadata": {},
   "outputs": [
    {
     "data": {
      "text/plain": [
       "1872"
      ]
     },
     "execution_count": 17,
     "metadata": {},
     "output_type": "execute_result"
    }
   ],
   "source": [
    "df.isnull().sum()['PolicPerPop']"
   ]
  },
  {
   "cell_type": "markdown",
   "metadata": {},
   "source": [
    "### Question 7"
   ]
  },
  {
   "cell_type": "code",
   "execution_count": 25,
   "metadata": {},
   "outputs": [
    {
     "data": {
      "text/plain": [
       "CA    279\n",
       "NJ    211\n",
       "TX    162\n",
       "MA    123\n",
       "OH    111\n",
       "MI    108\n",
       "PA    101\n",
       "FL     90\n",
       "CT     71\n",
       "MN     66\n",
       "WI     60\n",
       "IN     48\n",
       "NY     46\n",
       "NC     46\n",
       "AL     43\n",
       "MO     42\n",
       "WA     40\n",
       "IL     40\n",
       "GA     37\n",
       "OK     36\n",
       "TN     35\n",
       "VA     33\n",
       "OR     31\n",
       "SC     28\n",
       "RI     26\n",
       "KY     26\n",
       "AR     25\n",
       "CO     25\n",
       "UT     24\n",
       "LA     22\n",
       "NH     21\n",
       "AZ     20\n",
       "MS     20\n",
       "IA     20\n",
       "ME     17\n",
       "WV     14\n",
       "MD     12\n",
       "NM     10\n",
       "SD      9\n",
       "ND      8\n",
       "WY      7\n",
       "ID      7\n",
       "NV      5\n",
       "VT      4\n",
       "AK      3\n",
       "KS      1\n",
       "DE      1\n",
       "DC      1\n",
       "Name: state, dtype: int64"
      ]
     },
     "execution_count": 25,
     "metadata": {},
     "output_type": "execute_result"
    }
   ],
   "source": [
    "state_count = df['state'].value_counts()\n",
    "state_count"
   ]
  },
  {
   "cell_type": "code",
   "execution_count": 28,
   "metadata": {},
   "outputs": [
    {
     "data": {
      "image/png": "[encoded data removed]",
      "text/plain": [
       "<Figure size 432x288 with 1 Axes>"
      ]
     },
     "metadata": {
      "needs_background": "light"
     },
     "output_type": "display_data"
    }
   ],
   "source": [
    "state_count.plot.bar()\n",
    "plt.show()"
   ]
  },
  {
   "cell_type": "markdown",
   "metadata": {},
   "source": [
    "### Question 8"
   ]
  },
  {
   "cell_type": "code",
   "execution_count": 29,
   "metadata": {},
   "outputs": [
    {
     "data": {
      "image/png": "[encoded data removed]",
      "text/plain": [
       "<Figure size 1080x720 with 1 Axes>"
      ]
     },
     "metadata": {
      "needs_background": "light"
     },
     "output_type": "display_data"
    }
   ],
   "source": [
    "f, ax = plt.subplots(figsize=(15, 10))\n",
    "state_count.plot.bar()\n",
    "plt.show()"
   ]
  },
  {
   "cell_type": "markdown",
   "metadata": {},
   "source": [
    "### Question 9"
   ]
  },
  {
   "cell_type": "code",
   "execution_count": 31,
   "metadata": {},
   "outputs": [
    {
     "data": {
      "image/png": "[encoded data removed]",
      "text/plain": [
       "<Figure size 1080x720 with 1 Axes>"
      ]
     },
     "metadata": {},
     "output_type": "display_data"
    }
   ],
   "source": [
    "f, ax = plt.subplots(figsize=(15, 10))\n",
    "state_count.plot.pie()\n",
    "plt.show()"
   ]
  },
  {
   "cell_type": "markdown",
   "metadata": {},
   "source": [
    "### Question 10"
   ]
  },
  {
   "cell_type": "code",
   "execution_count": 35,
   "metadata": {},
   "outputs": [
    {
     "data": {
      "text/plain": [
       "<function matplotlib.pyplot.show(close=None, block=None)>"
      ]
     },
     "execution_count": 35,
     "metadata": {},
     "output_type": "execute_result"
    },
    {
     "data": {
      "image/png": "[encoded data removed]",
      "text/plain": [
       "<Figure size 1080x720 with 1 Axes>"
      ]
     },
     "metadata": {
      "needs_background": "light"
     },
     "output_type": "display_data"
    }
   ],
   "source": [
    "f, ax = plt.subplots(figsize=(15, 10))\n",
    "df['population'].hist(bins=200)\n",
    "plt.show"
   ]
  },
  {
   "cell_type": "markdown",
   "metadata": {},
   "source": [
    "### Question 11"
   ]
  },
  {
   "cell_type": "code",
   "execution_count": 36,
   "metadata": {},
   "outputs": [
    {
     "data": {
      "image/png": "[encoded data removed]",
      "text/plain": [
       "<Figure size 1080x720 with 1 Axes>"
      ]
     },
     "metadata": {
      "needs_background": "light"
     },
     "output_type": "display_data"
    }
   ],
   "source": [
    "f, ax = plt.subplots(figsize=(15, 10))\n",
    "\n",
    "df['householdsize'].hist(bins=200)\n",
    "plt.show()"
   ]
  }
 ],
 "metadata": {
  "kernelspec": {
   "display_name": "Python 3",
   "language": "python",
   "name": "python3"
  },
  "language_info": {
   "codemirror_mode": {
    "name": "ipython",
    "version": 3
   },
   "file_extension": ".py",
   "mimetype": "text/x-python",
   "name": "python",
   "nbconvert_exporter": "python",
   "pygments_lexer": "ipython3",
   "version": "3.8.3"
  }
 },
 "nbformat": 4,
 "nbformat_minor": 4
}
