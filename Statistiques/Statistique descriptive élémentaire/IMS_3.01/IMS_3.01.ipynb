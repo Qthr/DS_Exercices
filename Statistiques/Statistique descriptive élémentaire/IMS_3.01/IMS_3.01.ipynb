{
 "cells": [
  {
   "cell_type": "markdown",
   "metadata": {},
   "source": [
    "# IMS_3.01\n",
    "- **Description** : Calcul de distributions à deux variables (conjointes, marginales, conditionnelles) et de leurs indicateurs de tendance centrale\n",
    "- **Source** : Introduction à la méthode statistique - Catherine Pardoux  \n",
    "- **Chapitre** :  3 - Distributions statistiques à deux caractères\n",
    "- **Exercice** : 3.1  "
   ]
  },
  {
   "cell_type": "markdown",
   "metadata": {},
   "source": [
    "## Enoncé\n",
    "![Enonce IMS_3.01](../images/Enonces/IMS_3.01_enonce.PNG)"
   ]
  },
  {
   "cell_type": "markdown",
   "metadata": {},
   "source": [
    "## Question 1\n",
    "- Population : 30 000 assurés pour le risque \"véhicules à moteur\".\n",
    "- Caractères étudiés : \n",
    "    - X : Puissance fiscale (en chevaux fiscaux)\n",
    "    - Y : Kilométrage parcouru au cours de la dernière année (en milliers de km)\n",
    "- Natures des caractères étudiés : \n",
    "    - X : Variable quantitative discrète\n",
    "    - Y : Variable quantitative continue\n",
    "\n",
    "*Cheval fiscal* : Il s’agit d’une unité de mesure du droit fiscal permettant d’établir la puissance théorique ou administrative d’un moteur. Cette unité de mesure permet de calculer la taxe fiscale à appliquer lors de l’immatriculation du véhicule. "
   ]
  },
  {
   "cell_type": "code",
   "execution_count": 7,
   "metadata": {},
   "outputs": [],
   "source": [
    "#from pathlib import Path\n",
    "\n",
    "import pandas as pd\n",
    "import numpy as np\n",
    "import math\n",
    "import re\n",
    "\n",
    "DATA = \"donnees.csv\""
   ]
  },
  {
   "cell_type": "code",
   "execution_count": 4,
   "metadata": {},
   "outputs": [
    {
     "data": {
      "text/html": [
       "<div>\n",
       "<style scoped>\n",
       "    .dataframe tbody tr th:only-of-type {\n",
       "        vertical-align: middle;\n",
       "    }\n",
       "\n",
       "    .dataframe tbody tr th {\n",
       "        vertical-align: top;\n",
       "    }\n",
       "\n",
       "    .dataframe thead th {\n",
       "        text-align: right;\n",
       "    }\n",
       "</style>\n",
       "<table border=\"1\" class=\"dataframe\">\n",
       "  <thead>\n",
       "    <tr style=\"text-align: right;\">\n",
       "      <th></th>\n",
       "      <th>&lt; 10</th>\n",
       "      <th>[10:20[</th>\n",
       "      <th>[20:30[</th>\n",
       "      <th>[30:40[</th>\n",
       "      <th>&gt;= 40</th>\n",
       "    </tr>\n",
       "    <tr>\n",
       "      <th>Y (milliers de km) X (chevaux fiscaux)</th>\n",
       "      <th></th>\n",
       "      <th></th>\n",
       "      <th></th>\n",
       "      <th></th>\n",
       "      <th></th>\n",
       "    </tr>\n",
       "  </thead>\n",
       "  <tbody>\n",
       "    <tr>\n",
       "      <th>&lt;= 4</th>\n",
       "      <td>4.4</td>\n",
       "      <td>1.6</td>\n",
       "      <td>0.0</td>\n",
       "      <td>0.0</td>\n",
       "      <td>0.0</td>\n",
       "    </tr>\n",
       "    <tr>\n",
       "      <th>5-6</th>\n",
       "      <td>7.2</td>\n",
       "      <td>8.2</td>\n",
       "      <td>4.0</td>\n",
       "      <td>2.6</td>\n",
       "      <td>0.0</td>\n",
       "    </tr>\n",
       "    <tr>\n",
       "      <th>7-8</th>\n",
       "      <td>2.4</td>\n",
       "      <td>7.2</td>\n",
       "      <td>13.6</td>\n",
       "      <td>14.4</td>\n",
       "      <td>4.4</td>\n",
       "    </tr>\n",
       "    <tr>\n",
       "      <th>9-10</th>\n",
       "      <td>0.0</td>\n",
       "      <td>0.0</td>\n",
       "      <td>2.4</td>\n",
       "      <td>11.6</td>\n",
       "      <td>6.0</td>\n",
       "    </tr>\n",
       "    <tr>\n",
       "      <th>&gt; 10</th>\n",
       "      <td>0.0</td>\n",
       "      <td>0.0</td>\n",
       "      <td>0.0</td>\n",
       "      <td>4.4</td>\n",
       "      <td>5.6</td>\n",
       "    </tr>\n",
       "  </tbody>\n",
       "</table>\n",
       "</div>"
      ],
      "text/plain": [
       "                                        < 10  [10:20[  [20:30[  [30:40[  >= 40\n",
       "Y (milliers de km) X (chevaux fiscaux)                                        \n",
       "<= 4                                     4.4      1.6      0.0      0.0    0.0\n",
       "5-6                                      7.2      8.2      4.0      2.6    0.0\n",
       "7-8                                      2.4      7.2     13.6     14.4    4.4\n",
       "9-10                                     0.0      0.0      2.4     11.6    6.0\n",
       "> 10                                     0.0      0.0      0.0      4.4    5.6"
      ]
     },
     "execution_count": 4,
     "metadata": {},
     "output_type": "execute_result"
    }
   ],
   "source": [
    "# Data Wrangling\n",
    "def convert_string_column_to_numeric(colonne):\n",
    "    colonne_string_avec_point = colonne.str.replace(\",\",\".\")\n",
    "    colonne_numerique = pd.to_numeric(colonne_string_avec_point)\n",
    "    colonne_numerique = colonne_numerique.fillna(0) # remplace NaN par 0\n",
    "    return colonne_numerique\n",
    "\n",
    "donnees = pd.read_csv(DATA, index_col=0)\n",
    "labels_y = donnees.columns\n",
    "for l in labels_y:\n",
    "    donnees[l] = convert_string_column_to_numeric(donnees[l])\n",
    "donnees"
   ]
  },
  {
   "cell_type": "markdown",
   "metadata": {},
   "source": [
    "## Question 2\n",
    "La distribution du kilométrage parcourue est appelée distribution marginale de Y."
   ]
  },
  {
   "cell_type": "code",
   "execution_count": 5,
   "metadata": {},
   "outputs": [
    {
     "data": {
      "text/html": [
       "<div>\n",
       "<style scoped>\n",
       "    .dataframe tbody tr th:only-of-type {\n",
       "        vertical-align: middle;\n",
       "    }\n",
       "\n",
       "    .dataframe tbody tr th {\n",
       "        vertical-align: top;\n",
       "    }\n",
       "\n",
       "    .dataframe thead th {\n",
       "        text-align: right;\n",
       "    }\n",
       "</style>\n",
       "<table border=\"1\" class=\"dataframe\">\n",
       "  <thead>\n",
       "    <tr style=\"text-align: right;\">\n",
       "      <th></th>\n",
       "      <th>&lt; 10</th>\n",
       "      <th>[10:20[</th>\n",
       "      <th>[20:30[</th>\n",
       "      <th>[30:40[</th>\n",
       "      <th>&gt;= 40</th>\n",
       "    </tr>\n",
       "  </thead>\n",
       "  <tbody>\n",
       "    <tr>\n",
       "      <th>f .j</th>\n",
       "      <td>14.0</td>\n",
       "      <td>17.0</td>\n",
       "      <td>20.0</td>\n",
       "      <td>33.0</td>\n",
       "      <td>16.0</td>\n",
       "    </tr>\n",
       "  </tbody>\n",
       "</table>\n",
       "</div>"
      ],
      "text/plain": [
       "      < 10  [10:20[  [20:30[  [30:40[  >= 40\n",
       "f .j  14.0     17.0     20.0     33.0   16.0"
      ]
     },
     "execution_count": 5,
     "metadata": {},
     "output_type": "execute_result"
    }
   ],
   "source": [
    "# Création d'un dictionnaire avec key:y et value:valeur_marginale_de_y.\n",
    "# On met cette valeur dans une liste pour faciliter la conversion dict -> dataframe\n",
    "distribution_marginale_y =  {l:[donnees[l].sum()] for l in labels_y} \n",
    "distribution_marginale_y  = pd.DataFrame.from_dict(distribution_marginale_y, orient='index', columns=['f .j'])\n",
    "distribution_marginale_y.T"
   ]
  },
  {
   "cell_type": "markdown",
   "metadata": {},
   "source": [
    "### Calcul de la moyenne et ecart-type de la distribution marginale de Y\n"
   ]
  },
  {
   "cell_type": "markdown",
   "metadata": {},
   "source": [
    "***Rappel - Moyenne pondérée variable quantitative continue*** \n",
    "\n",
    "![Rappel - Moyenne pondérée variable quantitative continue](../images/Rappels/rappel_moyenne_variable_quantitative_continue.PNG)"
   ]
  },
  {
   "cell_type": "markdown",
   "metadata": {},
   "source": [
    "La question 2 de l'énoncé nous apprend :\n",
    "- 1ere classe : \\[2;10\\[\n",
    "- dernière classe : \\[40;50\\[  \n",
    "\n",
    "On a donc pour chaque classe, les centres suivants :\n",
    "- 1ere classe : 6\n",
    "- 2eme classe : 15\n",
    "- 3eme classe : 25\n",
    "- 4eme classe : 35\n",
    "- 5eme classe : 45"
   ]
  },
  {
   "cell_type": "code",
   "execution_count": 21,
   "metadata": {},
   "outputs": [
    {
     "data": {
      "text/html": [
       "<div>\n",
       "<style scoped>\n",
       "    .dataframe tbody tr th:only-of-type {\n",
       "        vertical-align: middle;\n",
       "    }\n",
       "\n",
       "    .dataframe tbody tr th {\n",
       "        vertical-align: top;\n",
       "    }\n",
       "\n",
       "    .dataframe thead th {\n",
       "        text-align: right;\n",
       "    }\n",
       "</style>\n",
       "<table border=\"1\" class=\"dataframe\">\n",
       "  <thead>\n",
       "    <tr style=\"text-align: right;\">\n",
       "      <th></th>\n",
       "      <th>f .j</th>\n",
       "      <th>Centre</th>\n",
       "    </tr>\n",
       "  </thead>\n",
       "  <tbody>\n",
       "    <tr>\n",
       "      <th>&lt; 10</th>\n",
       "      <td>14.0</td>\n",
       "      <td>6.0</td>\n",
       "    </tr>\n",
       "    <tr>\n",
       "      <th>[10:20[</th>\n",
       "      <td>17.0</td>\n",
       "      <td>15.0</td>\n",
       "    </tr>\n",
       "    <tr>\n",
       "      <th>[20:30[</th>\n",
       "      <td>20.0</td>\n",
       "      <td>25.0</td>\n",
       "    </tr>\n",
       "    <tr>\n",
       "      <th>[30:40[</th>\n",
       "      <td>33.0</td>\n",
       "      <td>35.0</td>\n",
       "    </tr>\n",
       "    <tr>\n",
       "      <th>&gt;= 40</th>\n",
       "      <td>16.0</td>\n",
       "      <td>45.0</td>\n",
       "    </tr>\n",
       "  </tbody>\n",
       "</table>\n",
       "</div>"
      ],
      "text/plain": [
       "         f .j  Centre\n",
       "< 10     14.0     6.0\n",
       "[10:20[  17.0    15.0\n",
       "[20:30[  20.0    25.0\n",
       "[30:40[  33.0    35.0\n",
       ">= 40    16.0    45.0"
      ]
     },
     "execution_count": 21,
     "metadata": {},
     "output_type": "execute_result"
    }
   ],
   "source": [
    "def centres_classes(list_bornes_classes):\n",
    "    centres_classes = []\n",
    "    # filtre les nombres d'une liste de bornes de classes\n",
    "    for s in list_bornes_classes:\n",
    "        deux_bornes =  re.findall(\"\\d+\",s)\n",
    "        centre_classe = (float(deux_bornes[0]) + float(deux_bornes[1]))/2\n",
    "        centres_classes.append(centre_classe)\n",
    "    return centres_classes\n",
    "\n",
    "bornes_classes = list(donnees.columns)\n",
    "bornes_classes[0] = \"2-10\"\n",
    "bornes_classes[-1] = \"40-50\"\n",
    "distribution_marginale_y['Centre'] = centres_classes(bornes_classes)\n",
    "distribution_marginale_y"
   ]
  },
  {
   "cell_type": "code",
   "execution_count": 7,
   "metadata": {},
   "outputs": [
    {
     "name": "stdout",
     "output_type": "stream",
     "text": [
      "La moyenne de la distribution marginale de Y est de 27.14 km et son ecart-type de 12.647545216365112 km\n"
     ]
    }
   ],
   "source": [
    "def weighted_avg_and_std(values, weights):\n",
    "    \"\"\"\n",
    "    Return the weighted average and standard deviation.\n",
    "\n",
    "    values, weights -- Numpy ndarrays with the same shape.\n",
    "    \"\"\"\n",
    "    average = np.average(values, weights=weights)\n",
    "    # Fast and numerically precise:\n",
    "    variance = np.average((values-average)**2, weights=weights)\n",
    "    return (average, math.sqrt(variance))\n",
    "\n",
    "moyenne_y, ecart_type_y = weighted_avg_and_std(distribution_marginale_y['Centre'], distribution_marginale_y['f .j'])\n",
    "print(\"La moyenne de la distribution marginale de Y est de {} km et son ecart-type de {} km\".format(moyenne_y, ecart_type_y))"
   ]
  },
  {
   "cell_type": "markdown",
   "metadata": {},
   "source": [
    "### Calcul de la médiane de la distribution marginale de Y"
   ]
  },
  {
   "cell_type": "markdown",
   "metadata": {},
   "source": [
    "***Rappel - Médiane variable quantitative continue*** \n",
    "\n",
    "![Rappel - Médiane variable quantitative continue](../images/Rappels/rappel_mediane_variable_quantitative_continue.PNG)\n",
    "![Rappel - Médiane variable quantitative continue 2](../images/Rappels/rappel_mediane_variable_quantitative_continue_2.PNG)"
   ]
  },
  {
   "cell_type": "markdown",
   "metadata": {},
   "source": [
    "**Remarque** :\n",
    "- **x <sub>i</sub>** : borne supérieure de la classe. Ex : x<sub>2</sub> = 20 milliers de km\n",
    "- **f <sub>i</sub>** : fréquence d'une classe. Ex : f<sub>2</sub> = 17%\n",
    "- **F <sub>i</sub>** : fréquence cumulée. Ex: F<sub>2</sub> = f<sub>1</sub> + f<sub>2</sub> = 14 + 17 = 31%"
   ]
  },
  {
   "cell_type": "markdown",
   "metadata": {},
   "source": [
    "La médiane de la distribution marginale de Y est :\n",
    "\n",
    "Me = 20 + 10 $\\times$ $\\frac{50 - 31}{20}$ = 29.5 milliers de km"
   ]
  },
  {
   "cell_type": "code",
   "execution_count": null,
   "metadata": {},
   "outputs": [],
   "source": []
  },
  {
   "cell_type": "markdown",
   "metadata": {},
   "source": [
    "## Question 3\n",
    "La distribution du kilométrage parcouru par les possesseurs d'une voiture d'une puissance fiscale d'au plus 6 CV est appelée distribution conditionnelle de Y.\n",
    "On peut la noter : Y | X<=6"
   ]
  },
  {
   "cell_type": "markdown",
   "metadata": {},
   "source": [
    "### Distribution conjointe : Y ^ (X<=6)\n",
    "> Utile pour calculer la distribution conditionnelle (numérateur)"
   ]
  },
  {
   "cell_type": "code",
   "execution_count": 15,
   "metadata": {},
   "outputs": [
    {
     "data": {
      "text/html": [
       "<div>\n",
       "<style scoped>\n",
       "    .dataframe tbody tr th:only-of-type {\n",
       "        vertical-align: middle;\n",
       "    }\n",
       "\n",
       "    .dataframe tbody tr th {\n",
       "        vertical-align: top;\n",
       "    }\n",
       "\n",
       "    .dataframe thead th {\n",
       "        text-align: right;\n",
       "    }\n",
       "</style>\n",
       "<table border=\"1\" class=\"dataframe\">\n",
       "  <thead>\n",
       "    <tr style=\"text-align: right;\">\n",
       "      <th></th>\n",
       "      <th>&lt; 10</th>\n",
       "      <th>[10:20[</th>\n",
       "      <th>[20:30[</th>\n",
       "      <th>[30:40[</th>\n",
       "      <th>&gt;= 40</th>\n",
       "    </tr>\n",
       "  </thead>\n",
       "  <tbody>\n",
       "    <tr>\n",
       "      <th>Frequence</th>\n",
       "      <td>11.6</td>\n",
       "      <td>9.8</td>\n",
       "      <td>4.0</td>\n",
       "      <td>2.6</td>\n",
       "      <td>0.0</td>\n",
       "    </tr>\n",
       "  </tbody>\n",
       "</table>\n",
       "</div>"
      ],
      "text/plain": [
       "           < 10  [10:20[  [20:30[  [30:40[  >= 40\n",
       "Frequence  11.6      9.8      4.0      2.6    0.0"
      ]
     },
     "execution_count": 15,
     "metadata": {},
     "output_type": "execute_result"
    }
   ],
   "source": [
    "dict_distribution_conjointe_y_x =  {l:[donnees[l][\"<= 4\"]+donnees[l][\"5-6\"]] for l in labels_y} \n",
    "distribution_conjointe_y_x  = pd.DataFrame.from_dict(dict_distribution_conjointe_y_x, orient='index', columns=['Frequence'])\n",
    "distribution_conjointe_y_x.T"
   ]
  },
  {
   "cell_type": "markdown",
   "metadata": {},
   "source": [
    "### Fréquence marginale de X <= 6\n",
    "> Utile pour calculer la distribution conditionnelle (dénominateur)"
   ]
  },
  {
   "cell_type": "code",
   "execution_count": 16,
   "metadata": {},
   "outputs": [
    {
     "data": {
      "text/html": [
       "<div>\n",
       "<style scoped>\n",
       "    .dataframe tbody tr th:only-of-type {\n",
       "        vertical-align: middle;\n",
       "    }\n",
       "\n",
       "    .dataframe tbody tr th {\n",
       "        vertical-align: top;\n",
       "    }\n",
       "\n",
       "    .dataframe thead th {\n",
       "        text-align: right;\n",
       "    }\n",
       "</style>\n",
       "<table border=\"1\" class=\"dataframe\">\n",
       "  <thead>\n",
       "    <tr style=\"text-align: right;\">\n",
       "      <th></th>\n",
       "      <th>&lt; 10</th>\n",
       "      <th>[10:20[</th>\n",
       "      <th>[20:30[</th>\n",
       "      <th>[30:40[</th>\n",
       "      <th>&gt;= 40</th>\n",
       "      <th>Frequences marginales X</th>\n",
       "    </tr>\n",
       "    <tr>\n",
       "      <th>Y (milliers de km) X (chevaux fiscaux)</th>\n",
       "      <th></th>\n",
       "      <th></th>\n",
       "      <th></th>\n",
       "      <th></th>\n",
       "      <th></th>\n",
       "      <th></th>\n",
       "    </tr>\n",
       "  </thead>\n",
       "  <tbody>\n",
       "    <tr>\n",
       "      <th>&lt;= 4</th>\n",
       "      <td>4.4</td>\n",
       "      <td>1.6</td>\n",
       "      <td>0.0</td>\n",
       "      <td>0.0</td>\n",
       "      <td>0.0</td>\n",
       "      <td>12.0</td>\n",
       "    </tr>\n",
       "    <tr>\n",
       "      <th>5-6</th>\n",
       "      <td>7.2</td>\n",
       "      <td>8.2</td>\n",
       "      <td>4.0</td>\n",
       "      <td>2.6</td>\n",
       "      <td>0.0</td>\n",
       "      <td>44.0</td>\n",
       "    </tr>\n",
       "    <tr>\n",
       "      <th>7-8</th>\n",
       "      <td>2.4</td>\n",
       "      <td>7.2</td>\n",
       "      <td>13.6</td>\n",
       "      <td>14.4</td>\n",
       "      <td>4.4</td>\n",
       "      <td>84.0</td>\n",
       "    </tr>\n",
       "    <tr>\n",
       "      <th>9-10</th>\n",
       "      <td>0.0</td>\n",
       "      <td>0.0</td>\n",
       "      <td>2.4</td>\n",
       "      <td>11.6</td>\n",
       "      <td>6.0</td>\n",
       "      <td>40.0</td>\n",
       "    </tr>\n",
       "    <tr>\n",
       "      <th>&gt; 10</th>\n",
       "      <td>0.0</td>\n",
       "      <td>0.0</td>\n",
       "      <td>0.0</td>\n",
       "      <td>4.4</td>\n",
       "      <td>5.6</td>\n",
       "      <td>20.0</td>\n",
       "    </tr>\n",
       "  </tbody>\n",
       "</table>\n",
       "</div>"
      ],
      "text/plain": [
       "                                        < 10  [10:20[  [20:30[  [30:40[  \\\n",
       "Y (milliers de km) X (chevaux fiscaux)                                    \n",
       "<= 4                                     4.4      1.6      0.0      0.0   \n",
       "5-6                                      7.2      8.2      4.0      2.6   \n",
       "7-8                                      2.4      7.2     13.6     14.4   \n",
       "9-10                                     0.0      0.0      2.4     11.6   \n",
       "> 10                                     0.0      0.0      0.0      4.4   \n",
       "\n",
       "                                        >= 40  Frequences marginales X  \n",
       "Y (milliers de km) X (chevaux fiscaux)                                  \n",
       "<= 4                                      0.0                     12.0  \n",
       "5-6                                       0.0                     44.0  \n",
       "7-8                                       4.4                     84.0  \n",
       "9-10                                      6.0                     40.0  \n",
       "> 10                                      5.6                     20.0  "
      ]
     },
     "execution_count": 16,
     "metadata": {},
     "output_type": "execute_result"
    }
   ],
   "source": [
    "# Données avec fréquences marginales de X\n",
    "donnees[\"Frequences marginales X\"] = donnees.sum(axis=1)\n",
    "donnees"
   ]
  },
  {
   "cell_type": "code",
   "execution_count": 18,
   "metadata": {},
   "outputs": [
    {
     "data": {
      "text/plain": [
       "56.0"
      ]
     },
     "execution_count": 18,
     "metadata": {},
     "output_type": "execute_result"
    }
   ],
   "source": [
    "# Fréquence marginale de X <= 4\n",
    "frequence_marginale_x_inf_4 = donnees[\"Frequences marginales X\"][\"<= 4\"]\n",
    "# Fréquence marginale de X = 5-6\n",
    "frequence_marginale_x_5_6 = donnees[\"Frequences marginales X\"][\"5-6\"]\n",
    "#Fréquence marginale de X <= 6\n",
    "frequence_marginale_x_inf_6 = frequence_marginale_x_inf_4 + frequence_marginale_x_5_6\n",
    "frequence_marginale_x_inf_6"
   ]
  },
  {
   "cell_type": "markdown",
   "metadata": {},
   "source": [
    "### Distribution conditionnelle : Y | X<=6"
   ]
  },
  {
   "cell_type": "code",
   "execution_count": 19,
   "metadata": {},
   "outputs": [
    {
     "data": {
      "text/html": [
       "<div>\n",
       "<style scoped>\n",
       "    .dataframe tbody tr th:only-of-type {\n",
       "        vertical-align: middle;\n",
       "    }\n",
       "\n",
       "    .dataframe tbody tr th {\n",
       "        vertical-align: top;\n",
       "    }\n",
       "\n",
       "    .dataframe thead th {\n",
       "        text-align: right;\n",
       "    }\n",
       "</style>\n",
       "<table border=\"1\" class=\"dataframe\">\n",
       "  <thead>\n",
       "    <tr style=\"text-align: right;\">\n",
       "      <th></th>\n",
       "      <th>&lt; 10</th>\n",
       "      <th>[10:20[</th>\n",
       "      <th>[20:30[</th>\n",
       "      <th>[30:40[</th>\n",
       "      <th>&gt;= 40</th>\n",
       "    </tr>\n",
       "  </thead>\n",
       "  <tbody>\n",
       "    <tr>\n",
       "      <th>Frequence</th>\n",
       "      <td>20.714286</td>\n",
       "      <td>17.5</td>\n",
       "      <td>7.142857</td>\n",
       "      <td>4.642857</td>\n",
       "      <td>0.0</td>\n",
       "    </tr>\n",
       "  </tbody>\n",
       "</table>\n",
       "</div>"
      ],
      "text/plain": [
       "                < 10  [10:20[   [20:30[   [30:40[  >= 40\n",
       "Frequence  20.714286     17.5  7.142857  4.642857    0.0"
      ]
     },
     "execution_count": 19,
     "metadata": {},
     "output_type": "execute_result"
    }
   ],
   "source": [
    "# Distribution conditionnelle (Y | X<=6) = Distribution conjointe (Y ^ (X<=6)) / Fréquence marginale (X <= 6)\n",
    "distribution_conditionnelle_y =  {item[0]:[(item[1][0]/frequence_marginale_x_inf_6)*100] for item in dict_distribution_conjointe_y_x.items()} \n",
    "distribution_conditionnelle_y  = pd.DataFrame.from_dict(distribution_conditionnelle_y, orient='index', columns=['Frequence'])\n",
    "distribution_conditionnelle_y.T"
   ]
  },
  {
   "cell_type": "markdown",
   "metadata": {},
   "source": [
    "### Calcul de la moyenne et ecart-type de la distribution conditionnelle"
   ]
  },
  {
   "cell_type": "code",
   "execution_count": 20,
   "metadata": {},
   "outputs": [
    {
     "data": {
      "text/html": [
       "<div>\n",
       "<style scoped>\n",
       "    .dataframe tbody tr th:only-of-type {\n",
       "        vertical-align: middle;\n",
       "    }\n",
       "\n",
       "    .dataframe tbody tr th {\n",
       "        vertical-align: top;\n",
       "    }\n",
       "\n",
       "    .dataframe thead th {\n",
       "        text-align: right;\n",
       "    }\n",
       "</style>\n",
       "<table border=\"1\" class=\"dataframe\">\n",
       "  <thead>\n",
       "    <tr style=\"text-align: right;\">\n",
       "      <th></th>\n",
       "      <th>Frequence</th>\n",
       "      <th>Centre</th>\n",
       "    </tr>\n",
       "  </thead>\n",
       "  <tbody>\n",
       "    <tr>\n",
       "      <th>&lt; 10</th>\n",
       "      <td>20.714286</td>\n",
       "      <td>6</td>\n",
       "    </tr>\n",
       "    <tr>\n",
       "      <th>[10:20[</th>\n",
       "      <td>17.500000</td>\n",
       "      <td>15</td>\n",
       "    </tr>\n",
       "    <tr>\n",
       "      <th>[20:30[</th>\n",
       "      <td>7.142857</td>\n",
       "      <td>25</td>\n",
       "    </tr>\n",
       "    <tr>\n",
       "      <th>[30:40[</th>\n",
       "      <td>4.642857</td>\n",
       "      <td>35</td>\n",
       "    </tr>\n",
       "    <tr>\n",
       "      <th>&gt;= 40</th>\n",
       "      <td>0.000000</td>\n",
       "      <td>45</td>\n",
       "    </tr>\n",
       "  </tbody>\n",
       "</table>\n",
       "</div>"
      ],
      "text/plain": [
       "         Frequence  Centre\n",
       "< 10     20.714286       6\n",
       "[10:20[  17.500000      15\n",
       "[20:30[   7.142857      25\n",
       "[30:40[   4.642857      35\n",
       ">= 40     0.000000      45"
      ]
     },
     "execution_count": 20,
     "metadata": {},
     "output_type": "execute_result"
    }
   ],
   "source": [
    "distribution_conditionnelle_y['Centre'] = centre_classe\n",
    "distribution_conditionnelle_y"
   ]
  },
  {
   "cell_type": "code",
   "execution_count": 21,
   "metadata": {},
   "outputs": [
    {
     "name": "stdout",
     "output_type": "stream",
     "text": [
      "La moyenne de la distribution condtionnelle de Y sachant X <= 6 est de 14.557142857142855 km et son ecart-type de 9.208126402082819 km\n"
     ]
    }
   ],
   "source": [
    "moyenne_y_sachant_x_inf_6, ecart_type_y_sachant_x_inf_6 = weighted_avg_and_std(distribution_conditionnelle_y['Centre'], distribution_conditionnelle_y['Frequence'])\n",
    "print(\"La moyenne de la distribution condtionnelle de Y sachant X <= 6 est de {} km et son ecart-type de {} km\".format(moyenne_y_sachant_x_inf_6, ecart_type_y_sachant_x_inf_6))"
   ]
  }
 ],
 "metadata": {
  "kernelspec": {
   "display_name": "Python 3",
   "language": "python",
   "name": "python3"
  },
  "language_info": {
   "codemirror_mode": {
    "name": "ipython",
    "version": 3
   },
   "file_extension": ".py",
   "mimetype": "text/x-python",
   "name": "python",
   "nbconvert_exporter": "python",
   "pygments_lexer": "ipython3",
   "version": "3.8.3"
  }
 },
 "nbformat": 4,
 "nbformat_minor": 4
}
