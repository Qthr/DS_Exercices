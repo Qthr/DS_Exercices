{
 "cells": [
  {
   "cell_type": "markdown",
   "metadata": {},
   "source": [
    "# IMS_3.04\n",
    "- **Description** : Etude de deux variables qualitatives\n",
    "- **Source** : Introduction à la méthode statistique - Catherine Pardoux  \n",
    "- **Chapitre** :  3 - Distributions statistiques à deux caractères\n",
    "- **Exercice** : 3.4"
   ]
  },
  {
   "cell_type": "markdown",
   "metadata": {},
   "source": [
    "## Enoncé\n",
    "![Enonce IMS_3.04](../images/Enonces/IMS_3.04_enonce.PNG)"
   ]
  },
  {
   "cell_type": "markdown",
   "metadata": {},
   "source": [
    "**Question supplémentaire**   \n",
    "Evaluer la dépendance des deux variables avec les méthodes suivantes :\n",
    "- Méthode 1 : comparaison des effectifs théoriques et effectifs observés\n",
    "- Méthode 2 : Méthode du khi-deux\n",
    "- Méthode 3 : Méthode du phi-deux\n",
    "- Méthode 4 : Coefficient de Cramer   \n",
    "\n",
    "Pour cela commencer par réaliser le tableau des effectifs théoriques (cad tableau des valeurs conjointes de X et Y selon l'hypothèse d'indépendance)"
   ]
  },
  {
   "cell_type": "markdown",
   "metadata": {},
   "source": [
    "## Chargement des données"
   ]
  },
  {
   "cell_type": "code",
   "execution_count": 59,
   "metadata": {},
   "outputs": [],
   "source": [
    "import pandas as pd\n",
    "import numpy as np\n",
    "import math\n",
    "\n",
    "DATA = \"IMS_3.04_donnees.csv\""
   ]
  },
  {
   "cell_type": "code",
   "execution_count": 20,
   "metadata": {},
   "outputs": [
    {
     "data": {
      "text/html": [
       "<div>\n",
       "<style scoped>\n",
       "    .dataframe tbody tr th:only-of-type {\n",
       "        vertical-align: middle;\n",
       "    }\n",
       "\n",
       "    .dataframe tbody tr th {\n",
       "        vertical-align: top;\n",
       "    }\n",
       "\n",
       "    .dataframe thead th {\n",
       "        text-align: right;\n",
       "    }\n",
       "</style>\n",
       "<table border=\"1\" class=\"dataframe\">\n",
       "  <thead>\n",
       "    <tr style=\"text-align: right;\">\n",
       "      <th></th>\n",
       "      <th>Pas du tout satisfait</th>\n",
       "      <th>Plutôt pas satisfait</th>\n",
       "      <th>Plutôt satisfait</th>\n",
       "      <th>Très satisfait</th>\n",
       "    </tr>\n",
       "  </thead>\n",
       "  <tbody>\n",
       "    <tr>\n",
       "      <th>Clients de plus de 2 ans d'ancienneté</th>\n",
       "      <td>10</td>\n",
       "      <td>50</td>\n",
       "      <td>245</td>\n",
       "      <td>195</td>\n",
       "    </tr>\n",
       "    <tr>\n",
       "      <th>Clients d'au plus 2 ans d'ancienneté</th>\n",
       "      <td>40</td>\n",
       "      <td>90</td>\n",
       "      <td>205</td>\n",
       "      <td>165</td>\n",
       "    </tr>\n",
       "  </tbody>\n",
       "</table>\n",
       "</div>"
      ],
      "text/plain": [
       "                                       Pas du tout satisfait  \\\n",
       "Clients de plus de 2 ans d'ancienneté                     10   \n",
       "Clients d'au plus 2 ans d'ancienneté                      40   \n",
       "\n",
       "                                       Plutôt pas satisfait  Plutôt satisfait  \\\n",
       "Clients de plus de 2 ans d'ancienneté                    50               245   \n",
       "Clients d'au plus 2 ans d'ancienneté                     90               205   \n",
       "\n",
       "                                       Très satisfait  \n",
       "Clients de plus de 2 ans d'ancienneté             195  \n",
       "Clients d'au plus 2 ans d'ancienneté              165  "
      ]
     },
     "execution_count": 20,
     "metadata": {},
     "output_type": "execute_result"
    }
   ],
   "source": [
    "donnees = pd.read_csv(DATA, index_col=0)\n",
    "donnees"
   ]
  },
  {
   "cell_type": "markdown",
   "metadata": {},
   "source": [
    "## Question 1"
   ]
  },
  {
   "cell_type": "markdown",
   "metadata": {},
   "source": [
    "### Calcul de l'effectif total"
   ]
  },
  {
   "cell_type": "code",
   "execution_count": 21,
   "metadata": {},
   "outputs": [
    {
     "data": {
      "text/html": [
       "<div>\n",
       "<style scoped>\n",
       "    .dataframe tbody tr th:only-of-type {\n",
       "        vertical-align: middle;\n",
       "    }\n",
       "\n",
       "    .dataframe tbody tr th {\n",
       "        vertical-align: top;\n",
       "    }\n",
       "\n",
       "    .dataframe thead th {\n",
       "        text-align: right;\n",
       "    }\n",
       "</style>\n",
       "<table border=\"1\" class=\"dataframe\">\n",
       "  <thead>\n",
       "    <tr style=\"text-align: right;\">\n",
       "      <th></th>\n",
       "      <th>Pas du tout satisfait</th>\n",
       "      <th>Plutôt pas satisfait</th>\n",
       "      <th>Plutôt satisfait</th>\n",
       "      <th>Très satisfait</th>\n",
       "      <th>Total X</th>\n",
       "    </tr>\n",
       "  </thead>\n",
       "  <tbody>\n",
       "    <tr>\n",
       "      <th>Clients de plus de 2 ans d'ancienneté</th>\n",
       "      <td>10.0</td>\n",
       "      <td>50.0</td>\n",
       "      <td>245.0</td>\n",
       "      <td>195.0</td>\n",
       "      <td>500.0</td>\n",
       "    </tr>\n",
       "    <tr>\n",
       "      <th>Clients d'au plus 2 ans d'ancienneté</th>\n",
       "      <td>40.0</td>\n",
       "      <td>90.0</td>\n",
       "      <td>205.0</td>\n",
       "      <td>165.0</td>\n",
       "      <td>500.0</td>\n",
       "    </tr>\n",
       "    <tr>\n",
       "      <th>Total Y</th>\n",
       "      <td>50.0</td>\n",
       "      <td>140.0</td>\n",
       "      <td>450.0</td>\n",
       "      <td>360.0</td>\n",
       "      <td>1000.0</td>\n",
       "    </tr>\n",
       "  </tbody>\n",
       "</table>\n",
       "</div>"
      ],
      "text/plain": [
       "                                       Pas du tout satisfait  \\\n",
       "Clients de plus de 2 ans d'ancienneté                   10.0   \n",
       "Clients d'au plus 2 ans d'ancienneté                    40.0   \n",
       "Total Y                                                 50.0   \n",
       "\n",
       "                                       Plutôt pas satisfait  Plutôt satisfait  \\\n",
       "Clients de plus de 2 ans d'ancienneté                  50.0             245.0   \n",
       "Clients d'au plus 2 ans d'ancienneté                   90.0             205.0   \n",
       "Total Y                                               140.0             450.0   \n",
       "\n",
       "                                       Très satisfait  Total X  \n",
       "Clients de plus de 2 ans d'ancienneté           195.0    500.0  \n",
       "Clients d'au plus 2 ans d'ancienneté            165.0    500.0  \n",
       "Total Y                                         360.0   1000.0  "
      ]
     },
     "execution_count": 21,
     "metadata": {},
     "output_type": "execute_result"
    }
   ],
   "source": [
    "donnees_totaux = donnees.copy()\n",
    "#Total sum per column: \n",
    "donnees_totaux.loc['Total Y',:] = donnees_totaux.sum(axis=0)\n",
    "#Total sum per row: \n",
    "donnees_totaux.loc[:,'Total X'] = donnees_totaux.sum(axis=1)\n",
    "donnees_totaux"
   ]
  },
  {
   "cell_type": "markdown",
   "metadata": {},
   "source": [
    "### Tableau de fréquence"
   ]
  },
  {
   "cell_type": "code",
   "execution_count": 22,
   "metadata": {},
   "outputs": [
    {
     "data": {
      "text/html": [
       "<div>\n",
       "<style scoped>\n",
       "    .dataframe tbody tr th:only-of-type {\n",
       "        vertical-align: middle;\n",
       "    }\n",
       "\n",
       "    .dataframe tbody tr th {\n",
       "        vertical-align: top;\n",
       "    }\n",
       "\n",
       "    .dataframe thead th {\n",
       "        text-align: right;\n",
       "    }\n",
       "</style>\n",
       "<table border=\"1\" class=\"dataframe\">\n",
       "  <thead>\n",
       "    <tr style=\"text-align: right;\">\n",
       "      <th></th>\n",
       "      <th>Pas du tout satisfait</th>\n",
       "      <th>Plutôt pas satisfait</th>\n",
       "      <th>Plutôt satisfait</th>\n",
       "      <th>Très satisfait</th>\n",
       "      <th>Total X</th>\n",
       "    </tr>\n",
       "  </thead>\n",
       "  <tbody>\n",
       "    <tr>\n",
       "      <th>Clients de plus de 2 ans d'ancienneté</th>\n",
       "      <td>1.0</td>\n",
       "      <td>5.0</td>\n",
       "      <td>24.5</td>\n",
       "      <td>19.5</td>\n",
       "      <td>50.0</td>\n",
       "    </tr>\n",
       "    <tr>\n",
       "      <th>Clients d'au plus 2 ans d'ancienneté</th>\n",
       "      <td>4.0</td>\n",
       "      <td>9.0</td>\n",
       "      <td>20.5</td>\n",
       "      <td>16.5</td>\n",
       "      <td>50.0</td>\n",
       "    </tr>\n",
       "    <tr>\n",
       "      <th>Total Y</th>\n",
       "      <td>5.0</td>\n",
       "      <td>14.0</td>\n",
       "      <td>45.0</td>\n",
       "      <td>36.0</td>\n",
       "      <td>100.0</td>\n",
       "    </tr>\n",
       "  </tbody>\n",
       "</table>\n",
       "</div>"
      ],
      "text/plain": [
       "                                       Pas du tout satisfait  \\\n",
       "Clients de plus de 2 ans d'ancienneté                    1.0   \n",
       "Clients d'au plus 2 ans d'ancienneté                     4.0   \n",
       "Total Y                                                  5.0   \n",
       "\n",
       "                                       Plutôt pas satisfait  Plutôt satisfait  \\\n",
       "Clients de plus de 2 ans d'ancienneté                   5.0              24.5   \n",
       "Clients d'au plus 2 ans d'ancienneté                    9.0              20.5   \n",
       "Total Y                                                14.0              45.0   \n",
       "\n",
       "                                       Très satisfait  Total X  \n",
       "Clients de plus de 2 ans d'ancienneté            19.5     50.0  \n",
       "Clients d'au plus 2 ans d'ancienneté             16.5     50.0  \n",
       "Total Y                                          36.0    100.0  "
      ]
     },
     "execution_count": 22,
     "metadata": {},
     "output_type": "execute_result"
    }
   ],
   "source": [
    "tableau_frequence = (donnees_totaux / donnees_totaux['Total X']['Total Y']) * 100\n",
    "tableau_frequence"
   ]
  },
  {
   "cell_type": "markdown",
   "metadata": {},
   "source": [
    "### Distribution marginale Y"
   ]
  },
  {
   "cell_type": "code",
   "execution_count": 23,
   "metadata": {},
   "outputs": [
    {
     "data": {
      "text/html": [
       "<div>\n",
       "<style scoped>\n",
       "    .dataframe tbody tr th:only-of-type {\n",
       "        vertical-align: middle;\n",
       "    }\n",
       "\n",
       "    .dataframe tbody tr th {\n",
       "        vertical-align: top;\n",
       "    }\n",
       "\n",
       "    .dataframe thead th {\n",
       "        text-align: right;\n",
       "    }\n",
       "</style>\n",
       "<table border=\"1\" class=\"dataframe\">\n",
       "  <thead>\n",
       "    <tr style=\"text-align: right;\">\n",
       "      <th></th>\n",
       "      <th>Pas du tout satisfait</th>\n",
       "      <th>Plutôt pas satisfait</th>\n",
       "      <th>Plutôt satisfait</th>\n",
       "      <th>Très satisfait</th>\n",
       "    </tr>\n",
       "  </thead>\n",
       "  <tbody>\n",
       "    <tr>\n",
       "      <th>Total Y</th>\n",
       "      <td>5.0</td>\n",
       "      <td>14.0</td>\n",
       "      <td>45.0</td>\n",
       "      <td>36.0</td>\n",
       "    </tr>\n",
       "  </tbody>\n",
       "</table>\n",
       "</div>"
      ],
      "text/plain": [
       "         Pas du tout satisfait  Plutôt pas satisfait  Plutôt satisfait  \\\n",
       "Total Y                    5.0                  14.0              45.0   \n",
       "\n",
       "         Très satisfait  \n",
       "Total Y            36.0  "
      ]
     },
     "execution_count": 23,
     "metadata": {},
     "output_type": "execute_result"
    }
   ],
   "source": [
    "distribution_marginale_y = pd.DataFrame(tableau_frequence.iloc[:-1,:-1].sum(axis=0), donnees.columns, columns=['Total Y'])\n",
    "distribution_marginale_y = distribution_marginale_y.transpose()\n",
    "distribution_marginale_y"
   ]
  },
  {
   "cell_type": "markdown",
   "metadata": {},
   "source": [
    "### Pourcentage de clients satisfaits : (Y = \"Plutôt satisfait\" V \"Très satisfait\")"
   ]
  },
  {
   "cell_type": "code",
   "execution_count": 24,
   "metadata": {},
   "outputs": [
    {
     "data": {
      "text/plain": [
       "81.0"
      ]
     },
     "execution_count": 24,
     "metadata": {},
     "output_type": "execute_result"
    }
   ],
   "source": [
    "pourcentage_clients_satisfaits = float(distribution_marginale_y[\"Plutôt satisfait\"] + distribution_marginale_y[\"Très satisfait\"])\n",
    "pourcentage_clients_satisfaits"
   ]
  },
  {
   "cell_type": "markdown",
   "metadata": {},
   "source": [
    "## Question 2"
   ]
  },
  {
   "cell_type": "markdown",
   "metadata": {},
   "source": [
    "### Distribution conditionnelle : (X = \"> 2 ans ancienneté\") | (Y = \"Plutôt satisfait\" V \"Très satisfait\")"
   ]
  },
  {
   "cell_type": "code",
   "execution_count": 25,
   "metadata": {},
   "outputs": [
    {
     "data": {
      "text/html": [
       "<div>\n",
       "<style scoped>\n",
       "    .dataframe tbody tr th:only-of-type {\n",
       "        vertical-align: middle;\n",
       "    }\n",
       "\n",
       "    .dataframe tbody tr th {\n",
       "        vertical-align: top;\n",
       "    }\n",
       "\n",
       "    .dataframe thead th {\n",
       "        text-align: right;\n",
       "    }\n",
       "</style>\n",
       "<table border=\"1\" class=\"dataframe\">\n",
       "  <thead>\n",
       "    <tr style=\"text-align: right;\">\n",
       "      <th></th>\n",
       "      <th>Plutôt satisfait</th>\n",
       "      <th>Très satisfait</th>\n",
       "    </tr>\n",
       "  </thead>\n",
       "  <tbody>\n",
       "    <tr>\n",
       "      <th>Clients de plus de 2 ans d'ancienneté</th>\n",
       "      <td>30.246914</td>\n",
       "      <td>24.074074</td>\n",
       "    </tr>\n",
       "  </tbody>\n",
       "</table>\n",
       "</div>"
      ],
      "text/plain": [
       "                                       Plutôt satisfait  Très satisfait\n",
       "Clients de plus de 2 ans d'ancienneté         30.246914       24.074074"
      ]
     },
     "execution_count": 25,
     "metadata": {},
     "output_type": "execute_result"
    }
   ],
   "source": [
    "distribution_conditionnelle_x_sachant_y = (tableau_frequence.iloc[0:1,2:4] / pourcentage_clients_satisfaits) * 100\n",
    "distribution_conditionnelle_x_sachant_y"
   ]
  },
  {
   "cell_type": "markdown",
   "metadata": {},
   "source": [
    "### Pourcentage de clients de plus de 2 ans d'acienneté parmi les clients satisfaits : (X = \"> 2 ans ancienneté\") | (Y = \"Plutôt satisfait\" V \"Très satisfait\")"
   ]
  },
  {
   "cell_type": "code",
   "execution_count": 26,
   "metadata": {},
   "outputs": [
    {
     "data": {
      "text/plain": [
       "54.32098765432099"
      ]
     },
     "execution_count": 26,
     "metadata": {},
     "output_type": "execute_result"
    }
   ],
   "source": [
    "pourcentage_clients_plus_2ans_satisfaits = float(distribution_conditionnelle_x_sachant_y[\"Plutôt satisfait\"] + distribution_conditionnelle_x_sachant_y[\"Très satisfait\"])\n",
    "pourcentage_clients_plus_2ans_satisfaits"
   ]
  },
  {
   "cell_type": "markdown",
   "metadata": {},
   "source": [
    "## Question 3"
   ]
  },
  {
   "cell_type": "markdown",
   "metadata": {},
   "source": [
    "### Tableau des profils en ligne : Distribution conditionnelle (Y | X)"
   ]
  },
  {
   "cell_type": "code",
   "execution_count": 27,
   "metadata": {},
   "outputs": [
    {
     "data": {
      "text/html": [
       "<div>\n",
       "<style scoped>\n",
       "    .dataframe tbody tr th:only-of-type {\n",
       "        vertical-align: middle;\n",
       "    }\n",
       "\n",
       "    .dataframe tbody tr th {\n",
       "        vertical-align: top;\n",
       "    }\n",
       "\n",
       "    .dataframe thead th {\n",
       "        text-align: right;\n",
       "    }\n",
       "</style>\n",
       "<table border=\"1\" class=\"dataframe\">\n",
       "  <thead>\n",
       "    <tr style=\"text-align: right;\">\n",
       "      <th></th>\n",
       "      <th>Pas du tout satisfait</th>\n",
       "      <th>Plutôt pas satisfait</th>\n",
       "      <th>Plutôt satisfait</th>\n",
       "      <th>Très satisfait</th>\n",
       "      <th>Total X</th>\n",
       "    </tr>\n",
       "  </thead>\n",
       "  <tbody>\n",
       "    <tr>\n",
       "      <th>Clients de plus de 2 ans d'ancienneté</th>\n",
       "      <td>2.0</td>\n",
       "      <td>10.0</td>\n",
       "      <td>49.0</td>\n",
       "      <td>39.0</td>\n",
       "      <td>100.0</td>\n",
       "    </tr>\n",
       "    <tr>\n",
       "      <th>Clients d'au plus 2 ans d'ancienneté</th>\n",
       "      <td>8.0</td>\n",
       "      <td>18.0</td>\n",
       "      <td>41.0</td>\n",
       "      <td>33.0</td>\n",
       "      <td>100.0</td>\n",
       "    </tr>\n",
       "  </tbody>\n",
       "</table>\n",
       "</div>"
      ],
      "text/plain": [
       "                                       Pas du tout satisfait  \\\n",
       "Clients de plus de 2 ans d'ancienneté                    2.0   \n",
       "Clients d'au plus 2 ans d'ancienneté                     8.0   \n",
       "\n",
       "                                       Plutôt pas satisfait  Plutôt satisfait  \\\n",
       "Clients de plus de 2 ans d'ancienneté                  10.0              49.0   \n",
       "Clients d'au plus 2 ans d'ancienneté                   18.0              41.0   \n",
       "\n",
       "                                       Très satisfait  Total X  \n",
       "Clients de plus de 2 ans d'ancienneté            39.0    100.0  \n",
       "Clients d'au plus 2 ans d'ancienneté             33.0    100.0  "
      ]
     },
     "execution_count": 27,
     "metadata": {},
     "output_type": "execute_result"
    }
   ],
   "source": [
    "profils_ligne = (tableau_frequence.iloc[0:2].div(tableau_frequence.iloc[0:2][\"Total X\"], axis=0)) * 100\n",
    "profils_ligne"
   ]
  },
  {
   "cell_type": "markdown",
   "metadata": {},
   "source": [
    "## Question 4"
   ]
  },
  {
   "cell_type": "markdown",
   "metadata": {},
   "source": [
    "### Tableau de contingence (X ^ (Y = \"Satisfaits\" V Y = \"Insatisfaits\"))"
   ]
  },
  {
   "cell_type": "code",
   "execution_count": 28,
   "metadata": {},
   "outputs": [
    {
     "data": {
      "text/html": [
       "<div>\n",
       "<style scoped>\n",
       "    .dataframe tbody tr th:only-of-type {\n",
       "        vertical-align: middle;\n",
       "    }\n",
       "\n",
       "    .dataframe tbody tr th {\n",
       "        vertical-align: top;\n",
       "    }\n",
       "\n",
       "    .dataframe thead th {\n",
       "        text-align: right;\n",
       "    }\n",
       "</style>\n",
       "<table border=\"1\" class=\"dataframe\">\n",
       "  <thead>\n",
       "    <tr style=\"text-align: right;\">\n",
       "      <th></th>\n",
       "      <th>Insatisfaits</th>\n",
       "      <th>Satisfaits</th>\n",
       "    </tr>\n",
       "  </thead>\n",
       "  <tbody>\n",
       "    <tr>\n",
       "      <th>Clients de plus de 2 ans d'ancienneté</th>\n",
       "      <td>60</td>\n",
       "      <td>440</td>\n",
       "    </tr>\n",
       "    <tr>\n",
       "      <th>Clients d'au plus 2 ans d'ancienneté</th>\n",
       "      <td>130</td>\n",
       "      <td>370</td>\n",
       "    </tr>\n",
       "  </tbody>\n",
       "</table>\n",
       "</div>"
      ],
      "text/plain": [
       "                                       Insatisfaits  Satisfaits\n",
       "Clients de plus de 2 ans d'ancienneté            60         440\n",
       "Clients d'au plus 2 ans d'ancienneté            130         370"
      ]
     },
     "execution_count": 28,
     "metadata": {},
     "output_type": "execute_result"
    }
   ],
   "source": [
    "tableau_contingence = donnees.copy()\n",
    "tableau_contingence[\"Insatisfaits\"] = tableau_contingence[\"Pas du tout satisfait\"] + tableau_contingence[\"Plutôt pas satisfait\"]\n",
    "tableau_contingence[\"Satisfaits\"] = tableau_contingence[\"Plutôt satisfait\"] + tableau_contingence[\"Très satisfait\"]\n",
    "tableau_contingence = tableau_contingence.iloc[0:,4:]\n",
    "tableau_contingence"
   ]
  },
  {
   "cell_type": "markdown",
   "metadata": {},
   "source": [
    "## Question 5"
   ]
  },
  {
   "cell_type": "markdown",
   "metadata": {},
   "source": [
    "### Calcul des effectifs marginaux"
   ]
  },
  {
   "cell_type": "code",
   "execution_count": 29,
   "metadata": {},
   "outputs": [
    {
     "data": {
      "text/html": [
       "<div>\n",
       "<style scoped>\n",
       "    .dataframe tbody tr th:only-of-type {\n",
       "        vertical-align: middle;\n",
       "    }\n",
       "\n",
       "    .dataframe tbody tr th {\n",
       "        vertical-align: top;\n",
       "    }\n",
       "\n",
       "    .dataframe thead th {\n",
       "        text-align: right;\n",
       "    }\n",
       "</style>\n",
       "<table border=\"1\" class=\"dataframe\">\n",
       "  <thead>\n",
       "    <tr style=\"text-align: right;\">\n",
       "      <th></th>\n",
       "      <th>Insatisfaits</th>\n",
       "      <th>Satisfaits</th>\n",
       "      <th>i.</th>\n",
       "    </tr>\n",
       "  </thead>\n",
       "  <tbody>\n",
       "    <tr>\n",
       "      <th>Clients de plus de 2 ans d'ancienneté</th>\n",
       "      <td>60.0</td>\n",
       "      <td>440.0</td>\n",
       "      <td>500.0</td>\n",
       "    </tr>\n",
       "    <tr>\n",
       "      <th>Clients d'au plus 2 ans d'ancienneté</th>\n",
       "      <td>130.0</td>\n",
       "      <td>370.0</td>\n",
       "      <td>500.0</td>\n",
       "    </tr>\n",
       "    <tr>\n",
       "      <th>.j</th>\n",
       "      <td>190.0</td>\n",
       "      <td>810.0</td>\n",
       "      <td>1000.0</td>\n",
       "    </tr>\n",
       "  </tbody>\n",
       "</table>\n",
       "</div>"
      ],
      "text/plain": [
       "                                       Insatisfaits  Satisfaits      i.\n",
       "Clients de plus de 2 ans d'ancienneté          60.0       440.0   500.0\n",
       "Clients d'au plus 2 ans d'ancienneté          130.0       370.0   500.0\n",
       ".j                                            190.0       810.0  1000.0"
      ]
     },
     "execution_count": 29,
     "metadata": {},
     "output_type": "execute_result"
    }
   ],
   "source": [
    "tableau_contingence_marginaux = tableau_contingence.copy()\n",
    "#Total sum per column: \n",
    "tableau_contingence_marginaux.loc['.j',:] = tableau_contingence_marginaux.sum(axis=0)\n",
    "#Total sum per row: \n",
    "tableau_contingence_marginaux.loc[:,'i.'] = tableau_contingence_marginaux.sum(axis=1)\n",
    "tableau_contingence_marginaux\n"
   ]
  },
  {
   "cell_type": "markdown",
   "metadata": {},
   "source": [
    "### Valeur de contingence si les deux variables étaient indépendantes : X = \"clients de plus de 2 ans d'ancienneté\" ^ Y = \"satisfaits\""
   ]
  },
  {
   "cell_type": "markdown",
   "metadata": {},
   "source": [
    "***Rappel : Calculer la valeur conjointe de deux variables qualitatives sous hypothèse d'indépendance***   \n",
    "\n",
    "![Rappel - Moyenne pondérée variable quantitative continue](../images/Rappels/rappel_valeur_conjointe_2_variables_qualitatives_independantes.PNG)   \n",
    "\n",
    "**En d'autres termes** : Valeur théorique selon hypothèse indépendance = (valeur marginale de X * valeur marginale de Y) / effectif total\n",
    "\n"
   ]
  },
  {
   "cell_type": "markdown",
   "metadata": {},
   "source": [
    "Si les deux caractères étaient indépendants, le nombre de clients de plus de 2 ans d'ancienneté satisfaits serait :   \n",
    "\n",
    "n<sub>ij</sub> = (n<sub>i.</sub> . n <sub>.j</sub>) / n = (500 . 810) / 1000 =  405   \n",
    "\n",
    "avec :\n",
    "- i = 1 : clients de plus de 2 ans d'ancienneté \n",
    "- j = 2 : clients satisfaits\n",
    "- n : nombre total de clients\n"
   ]
  },
  {
   "cell_type": "markdown",
   "metadata": {},
   "source": [
    "## Question supplémentaire"
   ]
  },
  {
   "cell_type": "markdown",
   "metadata": {},
   "source": [
    "### Tableau des effectifs théoriques\n",
    "\n",
    "On généralise le calcul précédent aux autres cellules du tableau."
   ]
  },
  {
   "cell_type": "code",
   "execution_count": 39,
   "metadata": {},
   "outputs": [
    {
     "data": {
      "text/html": [
       "<div>\n",
       "<style scoped>\n",
       "    .dataframe tbody tr th:only-of-type {\n",
       "        vertical-align: middle;\n",
       "    }\n",
       "\n",
       "    .dataframe tbody tr th {\n",
       "        vertical-align: top;\n",
       "    }\n",
       "\n",
       "    .dataframe thead th {\n",
       "        text-align: right;\n",
       "    }\n",
       "</style>\n",
       "<table border=\"1\" class=\"dataframe\">\n",
       "  <thead>\n",
       "    <tr style=\"text-align: right;\">\n",
       "      <th></th>\n",
       "      <th>Insatisfaits</th>\n",
       "      <th>Satisfaits</th>\n",
       "    </tr>\n",
       "  </thead>\n",
       "  <tbody>\n",
       "    <tr>\n",
       "      <th>Clients de plus de 2 ans d'ancienneté</th>\n",
       "      <td>95.0</td>\n",
       "      <td>405.0</td>\n",
       "    </tr>\n",
       "    <tr>\n",
       "      <th>Clients d'au plus 2 ans d'ancienneté</th>\n",
       "      <td>95.0</td>\n",
       "      <td>405.0</td>\n",
       "    </tr>\n",
       "  </tbody>\n",
       "</table>\n",
       "</div>"
      ],
      "text/plain": [
       "                                       Insatisfaits  Satisfaits\n",
       "Clients de plus de 2 ans d'ancienneté          95.0       405.0\n",
       "Clients d'au plus 2 ans d'ancienneté           95.0       405.0"
      ]
     },
     "execution_count": 39,
     "metadata": {},
     "output_type": "execute_result"
    }
   ],
   "source": [
    "tableau_effectifs_theoriques = tableau_contingence_marginaux.copy()\n",
    "n = tableau_contingence_marginaux.loc['.j', 'i.']\n",
    "tableau_effectifs_theoriques.iloc[0, 0] = (tableau_contingence_marginaux.loc['.j', 'Insatisfaits'] * tableau_contingence_marginaux.loc['Clients de plus de 2 ans d\\'ancienneté','i.']) / n\n",
    "tableau_effectifs_theoriques.iloc[1, 0] = tableau_effectifs_theoriques.iloc[0, 0] \n",
    "tableau_effectifs_theoriques.iloc[0, 1] = (tableau_contingence_marginaux.loc['.j', 'Satisfaits'] * tableau_contingence_marginaux.loc['Clients d\\'au plus 2 ans d\\'ancienneté','i.']) / n\n",
    "tableau_effectifs_theoriques.iloc[1, 1] = tableau_effectifs_theoriques.iloc[0, 1]\n",
    "del tableau_effectifs_theoriques['i.']\n",
    "tableau_effectifs_theoriques.drop(['.j'], inplace = True)\n",
    "tableau_effectifs_theoriques"
   ]
  },
  {
   "cell_type": "markdown",
   "metadata": {},
   "source": [
    "***Rappel : Etude de la laison entre deux variables qualitatives (Méthode 1 - Comparaison effectifs théoriques et effectifs observés)***   \n",
    "\n",
    "![Rappel - Méthode 1 - Effectifs théoriques / effectifs observés ](../images/Rappels/rappel_relation_2_variables_qualitatives_methode1.PNG)   \n"
   ]
  },
  {
   "cell_type": "code",
   "execution_count": 52,
   "metadata": {},
   "outputs": [
    {
     "data": {
      "text/html": [
       "<div>\n",
       "<style scoped>\n",
       "    .dataframe tbody tr th:only-of-type {\n",
       "        vertical-align: middle;\n",
       "    }\n",
       "\n",
       "    .dataframe tbody tr th {\n",
       "        vertical-align: top;\n",
       "    }\n",
       "\n",
       "    .dataframe thead th {\n",
       "        text-align: right;\n",
       "    }\n",
       "</style>\n",
       "<table border=\"1\" class=\"dataframe\">\n",
       "  <thead>\n",
       "    <tr style=\"text-align: right;\">\n",
       "      <th></th>\n",
       "      <th>Insatisfaits</th>\n",
       "      <th>Satisfaits</th>\n",
       "    </tr>\n",
       "  </thead>\n",
       "  <tbody>\n",
       "    <tr>\n",
       "      <th>Clients de plus de 2 ans d'ancienneté</th>\n",
       "      <td>0.631579</td>\n",
       "      <td>1.08642</td>\n",
       "    </tr>\n",
       "    <tr>\n",
       "      <th>Clients d'au plus 2 ans d'ancienneté</th>\n",
       "      <td>1.368421</td>\n",
       "      <td>0.91358</td>\n",
       "    </tr>\n",
       "  </tbody>\n",
       "</table>\n",
       "</div>"
      ],
      "text/plain": [
       "                                       Insatisfaits  Satisfaits\n",
       "Clients de plus de 2 ans d'ancienneté      0.631579     1.08642\n",
       "Clients d'au plus 2 ans d'ancienneté       1.368421     0.91358"
      ]
     },
     "execution_count": 52,
     "metadata": {},
     "output_type": "execute_result"
    }
   ],
   "source": [
    "tableau_ratio = tableau_contingence / tableau_effectifs_theoriques\n",
    "tableau_ratio"
   ]
  },
  {
   "cell_type": "markdown",
   "metadata": {},
   "source": [
    "### Méthode 2 : Méthode du khi-deux"
   ]
  },
  {
   "cell_type": "markdown",
   "metadata": {},
   "source": [
    "***Rappel : Etude de la laison entre deux variables qualitatives (Méthode 2 - Khi-deux)***   \n",
    "\n",
    "![Rappel - Méthode 2 - Khi-deux ](../images/Rappels/rappel_relation_2_variables_qualitatives_methode2.PNG)   \n"
   ]
  },
  {
   "cell_type": "code",
   "execution_count": 67,
   "metadata": {},
   "outputs": [
    {
     "data": {
      "text/plain": [
       "31.838856400259907"
      ]
     },
     "execution_count": 67,
     "metadata": {},
     "output_type": "execute_result"
    }
   ],
   "source": [
    "tableau_khi_deux = ((tableau_contingence - tableau_effectifs_theoriques)**2) / tableau_effectifs_theoriques\n",
    "khi_deux = tableau_khi_deux.to_numpy().sum()\n",
    "khi_deux"
   ]
  },
  {
   "cell_type": "markdown",
   "metadata": {},
   "source": [
    "### Méthode 3 : Méthode du phi-deux\n"
   ]
  },
  {
   "cell_type": "markdown",
   "metadata": {},
   "source": [
    "***Rappel : Etude de la laison entre deux variables qualitatives (Méthode 3 - Phi-deux)***   \n",
    "\n",
    "![Rappel - Méthode 3 - Phi-deux ](../images/Rappels/rappel_relation_2_variables_qualitatives_methode3.PNG)   \n",
    "\n",
    "**Remarque** : On l'utilise surtout pour des tables 2x2 car alors il est compris entre 0 et 1"
   ]
  },
  {
   "cell_type": "code",
   "execution_count": 68,
   "metadata": {},
   "outputs": [
    {
     "data": {
      "text/plain": [
       "0.03183885640025991"
      ]
     },
     "execution_count": 68,
     "metadata": {},
     "output_type": "execute_result"
    }
   ],
   "source": [
    "n = donnees_totaux.loc['Total Y','Total X']\n",
    "phi_deux = khi_deux / n\n",
    "phi_deux"
   ]
  },
  {
   "cell_type": "markdown",
   "metadata": {},
   "source": [
    "### Méthode 4 : Coefficient de Cramer"
   ]
  },
  {
   "cell_type": "markdown",
   "metadata": {},
   "source": [
    "***Rappel : Etude de la laison entre deux variables qualitatives (Méthode 4 - Coefficient de Cramer)***    \n",
    "\n",
    "**A partir du khi deux**\n",
    "\n",
    "![Rappel - Méthode 4 - Khi-deux ](../images/Rappels/rappel_relation_2_variables_qualitatives_methode4.PNG)   \n",
    "\n",
    "**A partir du phi deux**   \n",
    "\n",
    "\\begin{align}\n",
    "C = \\sqrt{\\frac{\\phi ^{2}}{min(p,q) - 1}}\n",
    "\\end{align}"
   ]
  },
  {
   "cell_type": "markdown",
   "metadata": {},
   "source": [
    "#### A partir du khi deux"
   ]
  },
  {
   "cell_type": "code",
   "execution_count": 69,
   "metadata": {},
   "outputs": [
    {
     "data": {
      "text/plain": [
       "0.17843445967710359"
      ]
     },
     "execution_count": 69,
     "metadata": {},
     "output_type": "execute_result"
    }
   ],
   "source": [
    "p = 2 # nombre de modalités de X\n",
    "q = 2 # Nombre de modalités de Y\n",
    "\n",
    "\n",
    "numerateur = khi_deux\n",
    "denominateur = n * (min(p, q) - 1) \n",
    "coeff_cramer = math.sqrt(numerateur/denominateur)\n",
    "coeff_cramer"
   ]
  },
  {
   "cell_type": "markdown",
   "metadata": {},
   "source": [
    "#### A partir du phi deux"
   ]
  },
  {
   "cell_type": "code",
   "execution_count": 71,
   "metadata": {},
   "outputs": [
    {
     "data": {
      "text/plain": [
       "0.17843445967710359"
      ]
     },
     "execution_count": 71,
     "metadata": {},
     "output_type": "execute_result"
    }
   ],
   "source": [
    "numerateur = phi_deux\n",
    "denominateur = min(p, q) - 1\n",
    "coeff_cramer = math.sqrt(numerateur / denominateur)\n",
    "coeff_cramer"
   ]
  }
 ],
 "metadata": {
  "kernelspec": {
   "display_name": "Python 3",
   "language": "python",
   "name": "python3"
  },
  "language_info": {
   "codemirror_mode": {
    "name": "ipython",
    "version": 3
   },
   "file_extension": ".py",
   "mimetype": "text/x-python",
   "name": "python",
   "nbconvert_exporter": "python",
   "pygments_lexer": "ipython3",
   "version": "3.8.3"
  }
 },
 "nbformat": 4,
 "nbformat_minor": 4
}
