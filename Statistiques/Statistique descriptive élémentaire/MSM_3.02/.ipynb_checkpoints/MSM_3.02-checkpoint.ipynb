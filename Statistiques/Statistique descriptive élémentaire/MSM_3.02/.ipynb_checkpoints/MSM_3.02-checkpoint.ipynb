{
 "cells": [
  {
   "cell_type": "markdown",
   "metadata": {},
   "source": [
    "# MSM_3.02\n",
    "- **Description** : Etude de corrélation entre une variable qualitative avec une variable quantitative\n",
    "- **Source** : Méthodes statistiques appliquées au management - C. Hann et S. Macé\n",
    "- **Chapitre** :  3 - Etudier le lien entre deux variables sur une population\n",
    "- **Exercice** : 3.2"
   ]
  },
  {
   "cell_type": "markdown",
   "metadata": {},
   "source": [
    "## Enoncé\n",
    "![Enonce MSM_3.02](../images/Enonces/MSM_3.02_enonce.PNG)"
   ]
  },
  {
   "cell_type": "markdown",
   "metadata": {},
   "source": [
    "## Chargement des données"
   ]
  },
  {
   "cell_type": "code",
   "execution_count": 7,
   "metadata": {},
   "outputs": [],
   "source": [
    "import pandas as pd\n",
    "import numpy as np\n",
    "\n",
    "DATA = \"MSM_3.02_donnees.csv\""
   ]
  },
  {
   "cell_type": "code",
   "execution_count": 8,
   "metadata": {},
   "outputs": [
    {
     "data": {
      "text/html": [
       "<div>\n",
       "<style scoped>\n",
       "    .dataframe tbody tr th:only-of-type {\n",
       "        vertical-align: middle;\n",
       "    }\n",
       "\n",
       "    .dataframe tbody tr th {\n",
       "        vertical-align: top;\n",
       "    }\n",
       "\n",
       "    .dataframe thead th {\n",
       "        text-align: right;\n",
       "    }\n",
       "</style>\n",
       "<table border=\"1\" class=\"dataframe\">\n",
       "  <thead>\n",
       "    <tr style=\"text-align: right;\">\n",
       "      <th></th>\n",
       "      <th>Effectifs</th>\n",
       "      <th>Moyenne</th>\n",
       "      <th>Variance</th>\n",
       "    </tr>\n",
       "    <tr>\n",
       "      <th>Salaire</th>\n",
       "      <th></th>\n",
       "      <th></th>\n",
       "      <th></th>\n",
       "    </tr>\n",
       "  </thead>\n",
       "  <tbody>\n",
       "    <tr>\n",
       "      <th>Femme</th>\n",
       "      <td>40</td>\n",
       "      <td>4200</td>\n",
       "      <td>2160000</td>\n",
       "    </tr>\n",
       "    <tr>\n",
       "      <th>Homme</th>\n",
       "      <td>60</td>\n",
       "      <td>5000</td>\n",
       "      <td>2000000</td>\n",
       "    </tr>\n",
       "    <tr>\n",
       "      <th>Ensemble du groupe</th>\n",
       "      <td>100</td>\n",
       "      <td>4680</td>\n",
       "      <td>2217600</td>\n",
       "    </tr>\n",
       "  </tbody>\n",
       "</table>\n",
       "</div>"
      ],
      "text/plain": [
       "                    Effectifs  Moyenne  Variance\n",
       "Salaire                                         \n",
       "Femme                      40     4200   2160000\n",
       "Homme                      60     5000   2000000\n",
       "Ensemble du groupe        100     4680   2217600"
      ]
     },
     "execution_count": 8,
     "metadata": {},
     "output_type": "execute_result"
    }
   ],
   "source": [
    "donnees = pd.read_csv(DATA, index_col=0)\n",
    "donnees"
   ]
  },
  {
   "cell_type": "markdown",
   "metadata": {},
   "source": [
    "## Question 1"
   ]
  },
  {
   "cell_type": "markdown",
   "metadata": {},
   "source": [
    "La variable Y représentant le salaire est une variable quantitative.\n",
    "La variable X réprensetant le genre est une variable qualitative.\n",
    "\n",
    "On peut donc calculer le rapport de corrélation de Y en X, mais pas celui de x en Y."
   ]
  },
  {
   "cell_type": "markdown",
   "metadata": {},
   "source": [
    "## Question 2"
   ]
  },
  {
   "cell_type": "markdown",
   "metadata": {},
   "source": [
    "***Rappel : Corrélation d'une variable quantitative Y selon les modalités d'une variable qualitative X***\n",
    "\n",
    "corr = variance inter de Y / variance marginale de Y\n"
   ]
  },
  {
   "cell_type": "markdown",
   "metadata": {},
   "source": [
    "### 1ere technique : En se servant des moyennes conditionnelles"
   ]
  },
  {
   "cell_type": "markdown",
   "metadata": {},
   "source": [
    "variance intergroupe = variance pondérée des moyennes conditionnelles \n",
    "\n",
    "On a : \n",
    "- moyenne conditionnelle (femme) = 4200\n",
    "- moyenne conditionnelle (homme) = 5000\n",
    "\n",
    "variance intergroupe = ((4200 - 4680)^2 * 40 + (5000 - 4680)^2 * 60) / 100   \n",
    "variance intergroupe = 153 600\n",
    "\n",
    "corr = variance inter de Y / variance marginale de Y   \n",
    "\n",
    "On a : variance marginale (ensemble du groupe) = 2 217 600\n",
    "\n",
    "corr = 153 600 / 2 217 600   \n",
    "corr = 0.069   \n",
    "\n",
    "La variance du salaire selon le genre ne réprénsete donc que 6.9% de la variance marginale. L'intensité du salaire selon le genre est donc faible."
   ]
  },
  {
   "cell_type": "markdown",
   "metadata": {},
   "source": [
    "### 2eme technique : En utilisant la relation entre variance marginale et variances conditionnelles"
   ]
  },
  {
   "cell_type": "markdown",
   "metadata": {},
   "source": [
    "***Rappel : Relation entre variance marginale et variances conditionnelles***"
   ]
  },
  {
   "cell_type": "markdown",
   "metadata": {},
   "source": [
    "variance marginale de Y = variance pondérée des moyennes conditionnelles (= variance intergroupe) + moyenne pondérée des variances conditionnelles (= variance intragroupe)   \n",
    "variance intergroupe = variance marginale de Y - moyenne pondérée des variances conditionnelles (= variance intragroupe)\n",
    "\n",
    "On a : \n",
    "- variance conditionnelle (femme) = 2 160 000\n",
    "- variance conditionnelle (homme) = 2 000 000\n",
    "- variance marginale (ensemble du groupe) = 2 217 600\n",
    "\n",
    "\n",
    "variance intragroupe = (2 160 000 * 40 + 2 000 000 * 60) / 100 = 2 064 000\n",
    "\n",
    "variance integroupe =  2 217 600 - 2 064 000 = 153600\n",
    "\n",
    "corr = variance inter de Y / variance marginale de Y   \n",
    "corr = 153 600 / 2 217 600   \n",
    "corr = 0.069   \n",
    "\n",
    "On retrouve bien le même résultat."
   ]
  }
 ],
 "metadata": {
  "kernelspec": {
   "display_name": "Python 3",
   "language": "python",
   "name": "python3"
  },
  "language_info": {
   "codemirror_mode": {
    "name": "ipython",
    "version": 3
   },
   "file_extension": ".py",
   "mimetype": "text/x-python",
   "name": "python",
   "nbconvert_exporter": "python",
   "pygments_lexer": "ipython3",
   "version": "3.8.3"
  }
 },
 "nbformat": 4,
 "nbformat_minor": 4
}
