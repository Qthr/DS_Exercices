{
 "cells": [
  {
   "cell_type": "markdown",
   "metadata": {},
   "source": [
    "# IMS_3.07\n",
    "- **Description** : Comparaison du coefficient de corrélation linéaire et des rapports de corrélation\n",
    "- **Source** : Introduction à la méthode statistique - Catherine Pardoux  \n",
    "- **Chapitre** :  3 - Distributions statistiques à deux caractères\n",
    "- **Exercice** : 3.7"
   ]
  },
  {
   "cell_type": "markdown",
   "metadata": {},
   "source": [
    "## Enoncé\n",
    "![Enonce IMS_3.07](../images/Enonces/IMS_3.07_enonce.PNG)"
   ]
  },
  {
   "cell_type": "markdown",
   "metadata": {},
   "source": [
    "## Chargement des données"
   ]
  },
  {
   "cell_type": "code",
   "execution_count": 295,
   "metadata": {},
   "outputs": [],
   "source": [
    "import pandas as pd\n",
    "import numpy as np\n",
    "import matplotlib.pyplot as plt\n",
    "import re\n",
    "\n",
    "DATA = \"IMS_3.07_donnees.csv\""
   ]
  },
  {
   "cell_type": "code",
   "execution_count": 296,
   "metadata": {},
   "outputs": [
    {
     "data": {
      "text/html": [
       "<div>\n",
       "<style scoped>\n",
       "    .dataframe tbody tr th:only-of-type {\n",
       "        vertical-align: middle;\n",
       "    }\n",
       "\n",
       "    .dataframe tbody tr th {\n",
       "        vertical-align: top;\n",
       "    }\n",
       "\n",
       "    .dataframe thead th {\n",
       "        text-align: right;\n",
       "    }\n",
       "</style>\n",
       "<table border=\"1\" class=\"dataframe\">\n",
       "  <thead>\n",
       "    <tr style=\"text-align: right;\">\n",
       "      <th></th>\n",
       "      <th>[5,7[</th>\n",
       "      <th>[7,9[</th>\n",
       "      <th>[9,11[</th>\n",
       "      <th>[11,13[</th>\n",
       "      <th>[13,15[</th>\n",
       "      <th>[15,17[</th>\n",
       "      <th>[17,19]</th>\n",
       "    </tr>\n",
       "    <tr>\n",
       "      <th>X\\Y</th>\n",
       "      <th></th>\n",
       "      <th></th>\n",
       "      <th></th>\n",
       "      <th></th>\n",
       "      <th></th>\n",
       "      <th></th>\n",
       "      <th></th>\n",
       "    </tr>\n",
       "  </thead>\n",
       "  <tbody>\n",
       "    <tr>\n",
       "      <th>[5,7[</th>\n",
       "      <td>7.0</td>\n",
       "      <td>3.0</td>\n",
       "      <td>2.0</td>\n",
       "      <td>0.0</td>\n",
       "      <td>0.0</td>\n",
       "      <td>0.0</td>\n",
       "      <td>0.0</td>\n",
       "    </tr>\n",
       "    <tr>\n",
       "      <th>[7,9[</th>\n",
       "      <td>2.0</td>\n",
       "      <td>12.0</td>\n",
       "      <td>12.0</td>\n",
       "      <td>2.0</td>\n",
       "      <td>0.0</td>\n",
       "      <td>0.0</td>\n",
       "      <td>0.0</td>\n",
       "    </tr>\n",
       "    <tr>\n",
       "      <th>[9,11[</th>\n",
       "      <td>1.0</td>\n",
       "      <td>10.0</td>\n",
       "      <td>18.0</td>\n",
       "      <td>8.0</td>\n",
       "      <td>2.0</td>\n",
       "      <td>0.0</td>\n",
       "      <td>0.0</td>\n",
       "    </tr>\n",
       "    <tr>\n",
       "      <th>[11,13[</th>\n",
       "      <td>0.0</td>\n",
       "      <td>7.0</td>\n",
       "      <td>15.0</td>\n",
       "      <td>21.0</td>\n",
       "      <td>10.0</td>\n",
       "      <td>1.0</td>\n",
       "      <td>0.0</td>\n",
       "    </tr>\n",
       "    <tr>\n",
       "      <th>[13,15[</th>\n",
       "      <td>0.0</td>\n",
       "      <td>0.0</td>\n",
       "      <td>11.0</td>\n",
       "      <td>12.0</td>\n",
       "      <td>13.0</td>\n",
       "      <td>5.0</td>\n",
       "      <td>0.0</td>\n",
       "    </tr>\n",
       "    <tr>\n",
       "      <th>[15,17[</th>\n",
       "      <td>0.0</td>\n",
       "      <td>0.0</td>\n",
       "      <td>1.0</td>\n",
       "      <td>3.0</td>\n",
       "      <td>10.0</td>\n",
       "      <td>7.0</td>\n",
       "      <td>1.0</td>\n",
       "    </tr>\n",
       "    <tr>\n",
       "      <th>[17,19]</th>\n",
       "      <td>0.0</td>\n",
       "      <td>0.0</td>\n",
       "      <td>0.0</td>\n",
       "      <td>0.0</td>\n",
       "      <td>1.0</td>\n",
       "      <td>1.0</td>\n",
       "      <td>2.0</td>\n",
       "    </tr>\n",
       "  </tbody>\n",
       "</table>\n",
       "</div>"
      ],
      "text/plain": [
       "         [5,7[  [7,9[  [9,11[  [11,13[  [13,15[  [15,17[  [17,19]\n",
       "X\\Y                                                              \n",
       "[5,7[      7.0    3.0     2.0      0.0      0.0      0.0      0.0\n",
       "[7,9[      2.0   12.0    12.0      2.0      0.0      0.0      0.0\n",
       "[9,11[     1.0   10.0    18.0      8.0      2.0      0.0      0.0\n",
       "[11,13[    0.0    7.0    15.0     21.0     10.0      1.0      0.0\n",
       "[13,15[    0.0    0.0    11.0     12.0     13.0      5.0      0.0\n",
       "[15,17[    0.0    0.0     1.0      3.0     10.0      7.0      1.0\n",
       "[17,19]    0.0    0.0     0.0      0.0      1.0      1.0      2.0"
      ]
     },
     "execution_count": 296,
     "metadata": {},
     "output_type": "execute_result"
    }
   ],
   "source": [
    "donnees = pd.read_csv(DATA, index_col=0)\n",
    "donnees = donnees.fillna(0)\n",
    "donnees"
   ]
  },
  {
   "cell_type": "markdown",
   "metadata": {},
   "source": [
    "## Question 1"
   ]
  },
  {
   "cell_type": "markdown",
   "metadata": {},
   "source": [
    "***Rappel : Définition du rapport de corrélation***   \n",
    "![Rappel - Définition du rapport de corrélation](../images/Rappels/rappel_definition_rapport_correlation.PNG)   \n",
    "***Rappel : Interprétation du rapport de corrélation***"
   ]
  },
  {
   "cell_type": "markdown",
   "metadata": {},
   "source": [
    "### Rapport de corrélation de Y en X"
   ]
  },
  {
   "cell_type": "markdown",
   "metadata": {},
   "source": [
    "#### Création du tableau"
   ]
  },
  {
   "cell_type": "code",
   "execution_count": 297,
   "metadata": {},
   "outputs": [
    {
     "data": {
      "text/html": [
       "<div>\n",
       "<style scoped>\n",
       "    .dataframe tbody tr th:only-of-type {\n",
       "        vertical-align: middle;\n",
       "    }\n",
       "\n",
       "    .dataframe tbody tr th {\n",
       "        vertical-align: top;\n",
       "    }\n",
       "\n",
       "    .dataframe thead th {\n",
       "        text-align: right;\n",
       "    }\n",
       "</style>\n",
       "<table border=\"1\" class=\"dataframe\">\n",
       "  <thead>\n",
       "    <tr style=\"text-align: right;\">\n",
       "      <th></th>\n",
       "      <th>Effectifs</th>\n",
       "      <th>Moyennes conditionnelles</th>\n",
       "      <th>Carrés intra-classe</th>\n",
       "      <th>Carrés inter-classe</th>\n",
       "    </tr>\n",
       "    <tr>\n",
       "      <th>X</th>\n",
       "      <th></th>\n",
       "      <th></th>\n",
       "      <th></th>\n",
       "      <th></th>\n",
       "    </tr>\n",
       "  </thead>\n",
       "  <tbody>\n",
       "    <tr>\n",
       "      <th>[5,7[</th>\n",
       "      <td>NaN</td>\n",
       "      <td>NaN</td>\n",
       "      <td>NaN</td>\n",
       "      <td>NaN</td>\n",
       "    </tr>\n",
       "    <tr>\n",
       "      <th>[7,9[</th>\n",
       "      <td>NaN</td>\n",
       "      <td>NaN</td>\n",
       "      <td>NaN</td>\n",
       "      <td>NaN</td>\n",
       "    </tr>\n",
       "    <tr>\n",
       "      <th>[9,11[</th>\n",
       "      <td>NaN</td>\n",
       "      <td>NaN</td>\n",
       "      <td>NaN</td>\n",
       "      <td>NaN</td>\n",
       "    </tr>\n",
       "    <tr>\n",
       "      <th>[11,13[</th>\n",
       "      <td>NaN</td>\n",
       "      <td>NaN</td>\n",
       "      <td>NaN</td>\n",
       "      <td>NaN</td>\n",
       "    </tr>\n",
       "    <tr>\n",
       "      <th>[13,15[</th>\n",
       "      <td>NaN</td>\n",
       "      <td>NaN</td>\n",
       "      <td>NaN</td>\n",
       "      <td>NaN</td>\n",
       "    </tr>\n",
       "    <tr>\n",
       "      <th>[15,17[</th>\n",
       "      <td>NaN</td>\n",
       "      <td>NaN</td>\n",
       "      <td>NaN</td>\n",
       "      <td>NaN</td>\n",
       "    </tr>\n",
       "    <tr>\n",
       "      <th>[17,19]</th>\n",
       "      <td>NaN</td>\n",
       "      <td>NaN</td>\n",
       "      <td>NaN</td>\n",
       "      <td>NaN</td>\n",
       "    </tr>\n",
       "  </tbody>\n",
       "</table>\n",
       "</div>"
      ],
      "text/plain": [
       "        Effectifs Moyennes conditionnelles Carrés intra-classe  \\\n",
       "X                                                                \n",
       "[5,7[         NaN                      NaN                 NaN   \n",
       "[7,9[         NaN                      NaN                 NaN   \n",
       "[9,11[        NaN                      NaN                 NaN   \n",
       "[11,13[       NaN                      NaN                 NaN   \n",
       "[13,15[       NaN                      NaN                 NaN   \n",
       "[15,17[       NaN                      NaN                 NaN   \n",
       "[17,19]       NaN                      NaN                 NaN   \n",
       "\n",
       "        Carrés inter-classe  \n",
       "X                            \n",
       "[5,7[                   NaN  \n",
       "[7,9[                   NaN  \n",
       "[9,11[                  NaN  \n",
       "[11,13[                 NaN  \n",
       "[13,15[                 NaN  \n",
       "[15,17[                 NaN  \n",
       "[17,19]                 NaN  "
      ]
     },
     "execution_count": 297,
     "metadata": {},
     "output_type": "execute_result"
    }
   ],
   "source": [
    "caracteristiques_Y_X = pd.DataFrame(columns = ['X', 'Effectifs', 'Moyennes conditionnelles', 'Carrés intra-classe', 'Carrés inter-classe'])\n",
    "caracteristiques_Y_X['X'] = donnees.index\n",
    "caracteristiques_Y_X = caracteristiques_Y_X.set_index('X')\n",
    "caracteristiques_Y_X "
   ]
  },
  {
   "cell_type": "markdown",
   "metadata": {},
   "source": [
    "#### Calcul des effectifs"
   ]
  },
  {
   "cell_type": "code",
   "execution_count": 298,
   "metadata": {},
   "outputs": [
    {
     "data": {
      "text/html": [
       "<div>\n",
       "<style scoped>\n",
       "    .dataframe tbody tr th:only-of-type {\n",
       "        vertical-align: middle;\n",
       "    }\n",
       "\n",
       "    .dataframe tbody tr th {\n",
       "        vertical-align: top;\n",
       "    }\n",
       "\n",
       "    .dataframe thead th {\n",
       "        text-align: right;\n",
       "    }\n",
       "</style>\n",
       "<table border=\"1\" class=\"dataframe\">\n",
       "  <thead>\n",
       "    <tr style=\"text-align: right;\">\n",
       "      <th></th>\n",
       "      <th>Effectifs</th>\n",
       "      <th>Moyennes conditionnelles</th>\n",
       "      <th>Carrés intra-classe</th>\n",
       "      <th>Carrés inter-classe</th>\n",
       "    </tr>\n",
       "    <tr>\n",
       "      <th>X</th>\n",
       "      <th></th>\n",
       "      <th></th>\n",
       "      <th></th>\n",
       "      <th></th>\n",
       "    </tr>\n",
       "  </thead>\n",
       "  <tbody>\n",
       "    <tr>\n",
       "      <th>[5,7[</th>\n",
       "      <td>12.0</td>\n",
       "      <td>NaN</td>\n",
       "      <td>NaN</td>\n",
       "      <td>NaN</td>\n",
       "    </tr>\n",
       "    <tr>\n",
       "      <th>[7,9[</th>\n",
       "      <td>28.0</td>\n",
       "      <td>NaN</td>\n",
       "      <td>NaN</td>\n",
       "      <td>NaN</td>\n",
       "    </tr>\n",
       "    <tr>\n",
       "      <th>[9,11[</th>\n",
       "      <td>39.0</td>\n",
       "      <td>NaN</td>\n",
       "      <td>NaN</td>\n",
       "      <td>NaN</td>\n",
       "    </tr>\n",
       "    <tr>\n",
       "      <th>[11,13[</th>\n",
       "      <td>54.0</td>\n",
       "      <td>NaN</td>\n",
       "      <td>NaN</td>\n",
       "      <td>NaN</td>\n",
       "    </tr>\n",
       "    <tr>\n",
       "      <th>[13,15[</th>\n",
       "      <td>41.0</td>\n",
       "      <td>NaN</td>\n",
       "      <td>NaN</td>\n",
       "      <td>NaN</td>\n",
       "    </tr>\n",
       "    <tr>\n",
       "      <th>[15,17[</th>\n",
       "      <td>22.0</td>\n",
       "      <td>NaN</td>\n",
       "      <td>NaN</td>\n",
       "      <td>NaN</td>\n",
       "    </tr>\n",
       "    <tr>\n",
       "      <th>[17,19]</th>\n",
       "      <td>4.0</td>\n",
       "      <td>NaN</td>\n",
       "      <td>NaN</td>\n",
       "      <td>NaN</td>\n",
       "    </tr>\n",
       "  </tbody>\n",
       "</table>\n",
       "</div>"
      ],
      "text/plain": [
       "         Effectifs Moyennes conditionnelles Carrés intra-classe  \\\n",
       "X                                                                 \n",
       "[5,7[         12.0                      NaN                 NaN   \n",
       "[7,9[         28.0                      NaN                 NaN   \n",
       "[9,11[        39.0                      NaN                 NaN   \n",
       "[11,13[       54.0                      NaN                 NaN   \n",
       "[13,15[       41.0                      NaN                 NaN   \n",
       "[15,17[       22.0                      NaN                 NaN   \n",
       "[17,19]        4.0                      NaN                 NaN   \n",
       "\n",
       "        Carrés inter-classe  \n",
       "X                            \n",
       "[5,7[                   NaN  \n",
       "[7,9[                   NaN  \n",
       "[9,11[                  NaN  \n",
       "[11,13[                 NaN  \n",
       "[13,15[                 NaN  \n",
       "[15,17[                 NaN  \n",
       "[17,19]                 NaN  "
      ]
     },
     "execution_count": 298,
     "metadata": {},
     "output_type": "execute_result"
    }
   ],
   "source": [
    "caracteristiques_Y_X['Effectifs'] = donnees.sum(axis=1)\n",
    "caracteristiques_Y_X "
   ]
  },
  {
   "cell_type": "markdown",
   "metadata": {},
   "source": [
    "#### Calcul des moyennes conditionnelles"
   ]
  },
  {
   "cell_type": "code",
   "execution_count": 299,
   "metadata": {},
   "outputs": [],
   "source": [
    "def centres_classes(list_bornes_classes):\n",
    "    centres_classes = []\n",
    "    # filtre les nombres d'une liste de bornes de classes\n",
    "    for s in list_bornes_classes:\n",
    "        deux_bornes =  re.findall(\"\\d+\",s)\n",
    "        centre_classe = (float(deux_bornes[0]) + float(deux_bornes[1]))/2\n",
    "        centres_classes.append(centre_classe)\n",
    "    return centres_classes"
   ]
  },
  {
   "cell_type": "code",
   "execution_count": 300,
   "metadata": {},
   "outputs": [
    {
     "data": {
      "text/html": [
       "<div>\n",
       "<style scoped>\n",
       "    .dataframe tbody tr th:only-of-type {\n",
       "        vertical-align: middle;\n",
       "    }\n",
       "\n",
       "    .dataframe tbody tr th {\n",
       "        vertical-align: top;\n",
       "    }\n",
       "\n",
       "    .dataframe thead th {\n",
       "        text-align: right;\n",
       "    }\n",
       "</style>\n",
       "<table border=\"1\" class=\"dataframe\">\n",
       "  <thead>\n",
       "    <tr style=\"text-align: right;\">\n",
       "      <th></th>\n",
       "      <th>Effectifs</th>\n",
       "      <th>Moyennes conditionnelles</th>\n",
       "      <th>Carrés intra-classe</th>\n",
       "      <th>Carrés inter-classe</th>\n",
       "    </tr>\n",
       "    <tr>\n",
       "      <th>X</th>\n",
       "      <th></th>\n",
       "      <th></th>\n",
       "      <th></th>\n",
       "      <th></th>\n",
       "    </tr>\n",
       "  </thead>\n",
       "  <tbody>\n",
       "    <tr>\n",
       "      <th>[5,7[</th>\n",
       "      <td>12.0</td>\n",
       "      <td>7.166667</td>\n",
       "      <td>NaN</td>\n",
       "      <td>NaN</td>\n",
       "    </tr>\n",
       "    <tr>\n",
       "      <th>[7,9[</th>\n",
       "      <td>28.0</td>\n",
       "      <td>9.000000</td>\n",
       "      <td>NaN</td>\n",
       "      <td>NaN</td>\n",
       "    </tr>\n",
       "    <tr>\n",
       "      <th>[9,11[</th>\n",
       "      <td>39.0</td>\n",
       "      <td>10.000000</td>\n",
       "      <td>NaN</td>\n",
       "      <td>NaN</td>\n",
       "    </tr>\n",
       "    <tr>\n",
       "      <th>[11,13[</th>\n",
       "      <td>54.0</td>\n",
       "      <td>11.370370</td>\n",
       "      <td>NaN</td>\n",
       "      <td>NaN</td>\n",
       "    </tr>\n",
       "    <tr>\n",
       "      <th>[13,15[</th>\n",
       "      <td>41.0</td>\n",
       "      <td>12.585366</td>\n",
       "      <td>NaN</td>\n",
       "      <td>NaN</td>\n",
       "    </tr>\n",
       "    <tr>\n",
       "      <th>[15,17[</th>\n",
       "      <td>22.0</td>\n",
       "      <td>14.363636</td>\n",
       "      <td>NaN</td>\n",
       "      <td>NaN</td>\n",
       "    </tr>\n",
       "    <tr>\n",
       "      <th>[17,19]</th>\n",
       "      <td>4.0</td>\n",
       "      <td>16.500000</td>\n",
       "      <td>NaN</td>\n",
       "      <td>NaN</td>\n",
       "    </tr>\n",
       "  </tbody>\n",
       "</table>\n",
       "</div>"
      ],
      "text/plain": [
       "         Effectifs  Moyennes conditionnelles Carrés intra-classe  \\\n",
       "X                                                                  \n",
       "[5,7[         12.0                  7.166667                 NaN   \n",
       "[7,9[         28.0                  9.000000                 NaN   \n",
       "[9,11[        39.0                 10.000000                 NaN   \n",
       "[11,13[       54.0                 11.370370                 NaN   \n",
       "[13,15[       41.0                 12.585366                 NaN   \n",
       "[15,17[       22.0                 14.363636                 NaN   \n",
       "[17,19]        4.0                 16.500000                 NaN   \n",
       "\n",
       "        Carrés inter-classe  \n",
       "X                            \n",
       "[5,7[                   NaN  \n",
       "[7,9[                   NaN  \n",
       "[9,11[                  NaN  \n",
       "[11,13[                 NaN  \n",
       "[13,15[                 NaN  \n",
       "[15,17[                 NaN  \n",
       "[17,19]                 NaN  "
      ]
     },
     "execution_count": 300,
     "metadata": {},
     "output_type": "execute_result"
    }
   ],
   "source": [
    "## Calcul des moyennes de Y conditionnellement à X grâce à la méthode apply() à laquelle on passe une expression lambda\n",
    "# L'expression lambda calcule la moyenne des centres des classes pondérée par les effectifs présents dans chaque ligne du tableau de données\n",
    "caracteristiques_Y_X['Moyennes conditionnelles'] = donnees.apply(lambda row : np.average(centres_classes(donnees.columns), weights=row), axis=1)\n",
    "caracteristiques_Y_X "
   ]
  },
  {
   "cell_type": "markdown",
   "metadata": {},
   "source": [
    "#### Somme des carrés intra-classe"
   ]
  },
  {
   "cell_type": "markdown",
   "metadata": {},
   "source": [
    "##### Calcul des carrés intra-classe (variances pondérées des valeurs par rapport à la moyenne conditionnelle)"
   ]
  },
  {
   "cell_type": "code",
   "execution_count": 301,
   "metadata": {},
   "outputs": [
    {
     "data": {
      "text/html": [
       "<div>\n",
       "<style scoped>\n",
       "    .dataframe tbody tr th:only-of-type {\n",
       "        vertical-align: middle;\n",
       "    }\n",
       "\n",
       "    .dataframe tbody tr th {\n",
       "        vertical-align: top;\n",
       "    }\n",
       "\n",
       "    .dataframe thead th {\n",
       "        text-align: right;\n",
       "    }\n",
       "</style>\n",
       "<table border=\"1\" class=\"dataframe\">\n",
       "  <thead>\n",
       "    <tr style=\"text-align: right;\">\n",
       "      <th></th>\n",
       "      <th>Effectifs</th>\n",
       "      <th>Moyennes conditionnelles</th>\n",
       "      <th>Carrés intra-classe</th>\n",
       "      <th>Carrés inter-classe</th>\n",
       "    </tr>\n",
       "    <tr>\n",
       "      <th>X</th>\n",
       "      <th></th>\n",
       "      <th></th>\n",
       "      <th></th>\n",
       "      <th></th>\n",
       "    </tr>\n",
       "  </thead>\n",
       "  <tbody>\n",
       "    <tr>\n",
       "      <th>[5,7[</th>\n",
       "      <td>12.0</td>\n",
       "      <td>7.166667</td>\n",
       "      <td>27.666667</td>\n",
       "      <td>NaN</td>\n",
       "    </tr>\n",
       "    <tr>\n",
       "      <th>[7,9[</th>\n",
       "      <td>28.0</td>\n",
       "      <td>9.000000</td>\n",
       "      <td>60.000000</td>\n",
       "      <td>NaN</td>\n",
       "    </tr>\n",
       "    <tr>\n",
       "      <th>[9,11[</th>\n",
       "      <td>39.0</td>\n",
       "      <td>10.000000</td>\n",
       "      <td>120.000000</td>\n",
       "      <td>NaN</td>\n",
       "    </tr>\n",
       "    <tr>\n",
       "      <th>[11,13[</th>\n",
       "      <td>54.0</td>\n",
       "      <td>11.370370</td>\n",
       "      <td>206.592593</td>\n",
       "      <td>NaN</td>\n",
       "    </tr>\n",
       "    <tr>\n",
       "      <th>[13,15[</th>\n",
       "      <td>41.0</td>\n",
       "      <td>12.585366</td>\n",
       "      <td>161.951220</td>\n",
       "      <td>NaN</td>\n",
       "    </tr>\n",
       "    <tr>\n",
       "      <th>[15,17[</th>\n",
       "      <td>22.0</td>\n",
       "      <td>14.363636</td>\n",
       "      <td>69.090909</td>\n",
       "      <td>NaN</td>\n",
       "    </tr>\n",
       "    <tr>\n",
       "      <th>[17,19]</th>\n",
       "      <td>4.0</td>\n",
       "      <td>16.500000</td>\n",
       "      <td>11.000000</td>\n",
       "      <td>NaN</td>\n",
       "    </tr>\n",
       "  </tbody>\n",
       "</table>\n",
       "</div>"
      ],
      "text/plain": [
       "         Effectifs  Moyennes conditionnelles  Carrés intra-classe  \\\n",
       "X                                                                   \n",
       "[5,7[         12.0                  7.166667            27.666667   \n",
       "[7,9[         28.0                  9.000000            60.000000   \n",
       "[9,11[        39.0                 10.000000           120.000000   \n",
       "[11,13[       54.0                 11.370370           206.592593   \n",
       "[13,15[       41.0                 12.585366           161.951220   \n",
       "[15,17[       22.0                 14.363636            69.090909   \n",
       "[17,19]        4.0                 16.500000            11.000000   \n",
       "\n",
       "        Carrés inter-classe  \n",
       "X                            \n",
       "[5,7[                   NaN  \n",
       "[7,9[                   NaN  \n",
       "[9,11[                  NaN  \n",
       "[11,13[                 NaN  \n",
       "[13,15[                 NaN  \n",
       "[15,17[                 NaN  \n",
       "[17,19]                 NaN  "
      ]
     },
     "execution_count": 301,
     "metadata": {},
     "output_type": "execute_result"
    }
   ],
   "source": [
    "liste_carrés_intra = []\n",
    "centres = centres_classes(donnees.columns)\n",
    "moyennes = caracteristiques_Y_X['Moyennes conditionnelles']\n",
    "effectifs = donnees.values.tolist()\n",
    "# On calcule pour chaque modalité de X : sum[nombre_effectifs * (valeur (centrée) de Y - moyenne conditionnelle de Y)^2]\n",
    "for row, moyenne in zip(effectifs, moyennes):\n",
    "    carré_intra = sum([n*(centre - moyenne)**2 for n, centre in zip(row,centres)])\n",
    "    liste_carrés_intra.append(carré_intra)   \n",
    "caracteristiques_Y_X['Carrés intra-classe'] = liste_carrés_intra\n",
    "caracteristiques_Y_X "
   ]
  },
  {
   "cell_type": "markdown",
   "metadata": {},
   "source": [
    "##### Calcul de la somme des carrés intra-classe"
   ]
  },
  {
   "cell_type": "code",
   "execution_count": 302,
   "metadata": {},
   "outputs": [
    {
     "data": {
      "text/plain": [
       "656.3013878623635"
      ]
     },
     "execution_count": 302,
     "metadata": {},
     "output_type": "execute_result"
    }
   ],
   "source": [
    "sc_intra = caracteristiques_Y_X['Carrés intra-classe'].sum()\n",
    "sc_intra"
   ]
  },
  {
   "cell_type": "markdown",
   "metadata": {},
   "source": [
    "#### Somme des carrés inter-classe"
   ]
  },
  {
   "cell_type": "markdown",
   "metadata": {},
   "source": [
    "##### Calcul de la moyenne marginale de Y"
   ]
  },
  {
   "cell_type": "code",
   "execution_count": 303,
   "metadata": {},
   "outputs": [
    {
     "data": {
      "text/html": [
       "<div>\n",
       "<style scoped>\n",
       "    .dataframe tbody tr th:only-of-type {\n",
       "        vertical-align: middle;\n",
       "    }\n",
       "\n",
       "    .dataframe tbody tr th {\n",
       "        vertical-align: top;\n",
       "    }\n",
       "\n",
       "    .dataframe thead th {\n",
       "        text-align: right;\n",
       "    }\n",
       "</style>\n",
       "<table border=\"1\" class=\"dataframe\">\n",
       "  <thead>\n",
       "    <tr style=\"text-align: right;\">\n",
       "      <th></th>\n",
       "      <th>[5,7[</th>\n",
       "      <th>[7,9[</th>\n",
       "      <th>[9,11[</th>\n",
       "      <th>[11,13[</th>\n",
       "      <th>[13,15[</th>\n",
       "      <th>[15,17[</th>\n",
       "      <th>[17,19]</th>\n",
       "    </tr>\n",
       "  </thead>\n",
       "  <tbody>\n",
       "    <tr>\n",
       "      <th>Total Y</th>\n",
       "      <td>10.0</td>\n",
       "      <td>32.0</td>\n",
       "      <td>59.0</td>\n",
       "      <td>46.0</td>\n",
       "      <td>36.0</td>\n",
       "      <td>14.0</td>\n",
       "      <td>3.0</td>\n",
       "    </tr>\n",
       "  </tbody>\n",
       "</table>\n",
       "</div>"
      ],
      "text/plain": [
       "         [5,7[  [7,9[  [9,11[  [11,13[  [13,15[  [15,17[  [17,19]\n",
       "Total Y   10.0   32.0    59.0     46.0     36.0     14.0      3.0"
      ]
     },
     "execution_count": 303,
     "metadata": {},
     "output_type": "execute_result"
    }
   ],
   "source": [
    "distribution_marginale_Y = pd.DataFrame(donnees.sum(axis=0), donnees.columns, columns=['Total Y'])\n",
    "distribution_marginale_Y.T"
   ]
  },
  {
   "cell_type": "code",
   "execution_count": 304,
   "metadata": {},
   "outputs": [
    {
     "name": "stdout",
     "output_type": "stream",
     "text": [
      "La moyenne marginale de Y est : 11.2\n"
     ]
    }
   ],
   "source": [
    "moyenne_marginale_Y = np.average(centres_classes(donnees.columns), weights=distribution_marginale_Y['Total Y'])\n",
    "print(\"La moyenne marginale de Y est :\", moyenne_marginale_Y)"
   ]
  },
  {
   "cell_type": "markdown",
   "metadata": {},
   "source": [
    "##### Calcul des carrés inter-classe (variances pondérées des moyennes conditionnelles de chaque groupe par rapport à la moyenne marginale)"
   ]
  },
  {
   "cell_type": "code",
   "execution_count": 305,
   "metadata": {},
   "outputs": [
    {
     "data": {
      "text/html": [
       "<div>\n",
       "<style scoped>\n",
       "    .dataframe tbody tr th:only-of-type {\n",
       "        vertical-align: middle;\n",
       "    }\n",
       "\n",
       "    .dataframe tbody tr th {\n",
       "        vertical-align: top;\n",
       "    }\n",
       "\n",
       "    .dataframe thead th {\n",
       "        text-align: right;\n",
       "    }\n",
       "</style>\n",
       "<table border=\"1\" class=\"dataframe\">\n",
       "  <thead>\n",
       "    <tr style=\"text-align: right;\">\n",
       "      <th></th>\n",
       "      <th>Effectifs</th>\n",
       "      <th>Moyennes conditionnelles</th>\n",
       "      <th>Carrés intra-classe</th>\n",
       "      <th>Carrés inter-classe</th>\n",
       "    </tr>\n",
       "    <tr>\n",
       "      <th>X</th>\n",
       "      <th></th>\n",
       "      <th></th>\n",
       "      <th></th>\n",
       "      <th></th>\n",
       "    </tr>\n",
       "  </thead>\n",
       "  <tbody>\n",
       "    <tr>\n",
       "      <th>[5,7[</th>\n",
       "      <td>12.0</td>\n",
       "      <td>7.166667</td>\n",
       "      <td>27.666667</td>\n",
       "      <td>195.213333</td>\n",
       "    </tr>\n",
       "    <tr>\n",
       "      <th>[7,9[</th>\n",
       "      <td>28.0</td>\n",
       "      <td>9.000000</td>\n",
       "      <td>60.000000</td>\n",
       "      <td>135.520000</td>\n",
       "    </tr>\n",
       "    <tr>\n",
       "      <th>[9,11[</th>\n",
       "      <td>39.0</td>\n",
       "      <td>10.000000</td>\n",
       "      <td>120.000000</td>\n",
       "      <td>56.160000</td>\n",
       "    </tr>\n",
       "    <tr>\n",
       "      <th>[11,13[</th>\n",
       "      <td>54.0</td>\n",
       "      <td>11.370370</td>\n",
       "      <td>206.592593</td>\n",
       "      <td>1.567407</td>\n",
       "    </tr>\n",
       "    <tr>\n",
       "      <th>[13,15[</th>\n",
       "      <td>41.0</td>\n",
       "      <td>12.585366</td>\n",
       "      <td>161.951220</td>\n",
       "      <td>78.688780</td>\n",
       "    </tr>\n",
       "    <tr>\n",
       "      <th>[15,17[</th>\n",
       "      <td>22.0</td>\n",
       "      <td>14.363636</td>\n",
       "      <td>69.090909</td>\n",
       "      <td>220.189091</td>\n",
       "    </tr>\n",
       "    <tr>\n",
       "      <th>[17,19]</th>\n",
       "      <td>4.0</td>\n",
       "      <td>16.500000</td>\n",
       "      <td>11.000000</td>\n",
       "      <td>112.360000</td>\n",
       "    </tr>\n",
       "  </tbody>\n",
       "</table>\n",
       "</div>"
      ],
      "text/plain": [
       "         Effectifs  Moyennes conditionnelles  Carrés intra-classe  \\\n",
       "X                                                                   \n",
       "[5,7[         12.0                  7.166667            27.666667   \n",
       "[7,9[         28.0                  9.000000            60.000000   \n",
       "[9,11[        39.0                 10.000000           120.000000   \n",
       "[11,13[       54.0                 11.370370           206.592593   \n",
       "[13,15[       41.0                 12.585366           161.951220   \n",
       "[15,17[       22.0                 14.363636            69.090909   \n",
       "[17,19]        4.0                 16.500000            11.000000   \n",
       "\n",
       "         Carrés inter-classe  \n",
       "X                             \n",
       "[5,7[             195.213333  \n",
       "[7,9[             135.520000  \n",
       "[9,11[             56.160000  \n",
       "[11,13[             1.567407  \n",
       "[13,15[            78.688780  \n",
       "[15,17[           220.189091  \n",
       "[17,19]           112.360000  "
      ]
     },
     "execution_count": 305,
     "metadata": {},
     "output_type": "execute_result"
    }
   ],
   "source": [
    "## Calcul des moyennes de Y conditionnellement à X grâce à la méthode apply() à laquelle on passe une expression lambda\n",
    "# L'expression lambda calcule la moyenne des centres des classes pondérée par les effectifs présents dans chaque ligne du tableau de données\n",
    "caracteristiques_Y_X['Carrés inter-classe'] = caracteristiques_Y_X .apply(lambda row : row['Effectifs'] * (row['Moyennes conditionnelles'] - moyenne_marginale_Y)**2, axis=1)\n",
    "caracteristiques_Y_X "
   ]
  },
  {
   "cell_type": "markdown",
   "metadata": {},
   "source": [
    "##### Calcul de la somme des carrés inter-classe"
   ]
  },
  {
   "cell_type": "code",
   "execution_count": 306,
   "metadata": {},
   "outputs": [
    {
     "data": {
      "text/plain": [
       "799.6986121376365"
      ]
     },
     "execution_count": 306,
     "metadata": {},
     "output_type": "execute_result"
    }
   ],
   "source": [
    "sc_inter= caracteristiques_Y_X['Carrés inter-classe'].sum()\n",
    "sc_inter"
   ]
  },
  {
   "cell_type": "markdown",
   "metadata": {},
   "source": [
    "#### Calcul du rapport de corrélation de Y en X"
   ]
  },
  {
   "cell_type": "code",
   "execution_count": 307,
   "metadata": {},
   "outputs": [
    {
     "data": {
      "text/plain": [
       "0.5492435522923328"
      ]
     },
     "execution_count": 307,
     "metadata": {},
     "output_type": "execute_result"
    }
   ],
   "source": [
    "sc_total = sc_intra + sc_inter\n",
    "rapport_corrélation_Y_X = sc_inter / sc_total\n",
    "rapport_corrélation_Y_X"
   ]
  },
  {
   "cell_type": "markdown",
   "metadata": {},
   "source": [
    "### Rapport de corrélation de X en Y\n",
    "On réalise les mêmes opérations pour trouver le rapport de corrélation de X en Y."
   ]
  },
  {
   "cell_type": "code",
   "execution_count": 308,
   "metadata": {},
   "outputs": [
    {
     "data": {
      "text/html": [
       "<div>\n",
       "<style scoped>\n",
       "    .dataframe tbody tr th:only-of-type {\n",
       "        vertical-align: middle;\n",
       "    }\n",
       "\n",
       "    .dataframe tbody tr th {\n",
       "        vertical-align: top;\n",
       "    }\n",
       "\n",
       "    .dataframe thead th {\n",
       "        text-align: right;\n",
       "    }\n",
       "</style>\n",
       "<table border=\"1\" class=\"dataframe\">\n",
       "  <thead>\n",
       "    <tr style=\"text-align: right;\">\n",
       "      <th></th>\n",
       "      <th>Effectifs</th>\n",
       "      <th>Moyennes conditionnelles</th>\n",
       "      <th>Carrés intra-classe</th>\n",
       "      <th>Carrés inter-classe</th>\n",
       "    </tr>\n",
       "    <tr>\n",
       "      <th>Y</th>\n",
       "      <th></th>\n",
       "      <th></th>\n",
       "      <th></th>\n",
       "      <th></th>\n",
       "    </tr>\n",
       "  </thead>\n",
       "  <tbody>\n",
       "    <tr>\n",
       "      <th>[5,7[</th>\n",
       "      <td>NaN</td>\n",
       "      <td>NaN</td>\n",
       "      <td>NaN</td>\n",
       "      <td>NaN</td>\n",
       "    </tr>\n",
       "    <tr>\n",
       "      <th>[7,9[</th>\n",
       "      <td>NaN</td>\n",
       "      <td>NaN</td>\n",
       "      <td>NaN</td>\n",
       "      <td>NaN</td>\n",
       "    </tr>\n",
       "    <tr>\n",
       "      <th>[9,11[</th>\n",
       "      <td>NaN</td>\n",
       "      <td>NaN</td>\n",
       "      <td>NaN</td>\n",
       "      <td>NaN</td>\n",
       "    </tr>\n",
       "    <tr>\n",
       "      <th>[11,13[</th>\n",
       "      <td>NaN</td>\n",
       "      <td>NaN</td>\n",
       "      <td>NaN</td>\n",
       "      <td>NaN</td>\n",
       "    </tr>\n",
       "    <tr>\n",
       "      <th>[13,15[</th>\n",
       "      <td>NaN</td>\n",
       "      <td>NaN</td>\n",
       "      <td>NaN</td>\n",
       "      <td>NaN</td>\n",
       "    </tr>\n",
       "    <tr>\n",
       "      <th>[15,17[</th>\n",
       "      <td>NaN</td>\n",
       "      <td>NaN</td>\n",
       "      <td>NaN</td>\n",
       "      <td>NaN</td>\n",
       "    </tr>\n",
       "    <tr>\n",
       "      <th>[17,19]</th>\n",
       "      <td>NaN</td>\n",
       "      <td>NaN</td>\n",
       "      <td>NaN</td>\n",
       "      <td>NaN</td>\n",
       "    </tr>\n",
       "  </tbody>\n",
       "</table>\n",
       "</div>"
      ],
      "text/plain": [
       "        Effectifs Moyennes conditionnelles Carrés intra-classe  \\\n",
       "Y                                                                \n",
       "[5,7[         NaN                      NaN                 NaN   \n",
       "[7,9[         NaN                      NaN                 NaN   \n",
       "[9,11[        NaN                      NaN                 NaN   \n",
       "[11,13[       NaN                      NaN                 NaN   \n",
       "[13,15[       NaN                      NaN                 NaN   \n",
       "[15,17[       NaN                      NaN                 NaN   \n",
       "[17,19]       NaN                      NaN                 NaN   \n",
       "\n",
       "        Carrés inter-classe  \n",
       "Y                            \n",
       "[5,7[                   NaN  \n",
       "[7,9[                   NaN  \n",
       "[9,11[                  NaN  \n",
       "[11,13[                 NaN  \n",
       "[13,15[                 NaN  \n",
       "[15,17[                 NaN  \n",
       "[17,19]                 NaN  "
      ]
     },
     "execution_count": 308,
     "metadata": {},
     "output_type": "execute_result"
    }
   ],
   "source": [
    "caracteristiques_X_Y = pd.DataFrame(columns = ['Y', 'Effectifs', 'Moyennes conditionnelles', 'Carrés intra-classe', 'Carrés inter-classe'])\n",
    "caracteristiques_X_Y['Y'] = donnees.columns\n",
    "caracteristiques_X_Y = caracteristiques_X_Y.set_index('Y')\n",
    "caracteristiques_X_Y "
   ]
  },
  {
   "cell_type": "code",
   "execution_count": 309,
   "metadata": {},
   "outputs": [
    {
     "data": {
      "text/html": [
       "<div>\n",
       "<style scoped>\n",
       "    .dataframe tbody tr th:only-of-type {\n",
       "        vertical-align: middle;\n",
       "    }\n",
       "\n",
       "    .dataframe tbody tr th {\n",
       "        vertical-align: top;\n",
       "    }\n",
       "\n",
       "    .dataframe thead th {\n",
       "        text-align: right;\n",
       "    }\n",
       "</style>\n",
       "<table border=\"1\" class=\"dataframe\">\n",
       "  <thead>\n",
       "    <tr style=\"text-align: right;\">\n",
       "      <th></th>\n",
       "      <th>Effectifs</th>\n",
       "      <th>Moyennes conditionnelles</th>\n",
       "      <th>Carrés intra-classe</th>\n",
       "      <th>Carrés inter-classe</th>\n",
       "    </tr>\n",
       "    <tr>\n",
       "      <th>Y</th>\n",
       "      <th></th>\n",
       "      <th></th>\n",
       "      <th></th>\n",
       "      <th></th>\n",
       "    </tr>\n",
       "  </thead>\n",
       "  <tbody>\n",
       "    <tr>\n",
       "      <th>[5,7[</th>\n",
       "      <td>10.0</td>\n",
       "      <td>NaN</td>\n",
       "      <td>NaN</td>\n",
       "      <td>NaN</td>\n",
       "    </tr>\n",
       "    <tr>\n",
       "      <th>[7,9[</th>\n",
       "      <td>32.0</td>\n",
       "      <td>NaN</td>\n",
       "      <td>NaN</td>\n",
       "      <td>NaN</td>\n",
       "    </tr>\n",
       "    <tr>\n",
       "      <th>[9,11[</th>\n",
       "      <td>59.0</td>\n",
       "      <td>NaN</td>\n",
       "      <td>NaN</td>\n",
       "      <td>NaN</td>\n",
       "    </tr>\n",
       "    <tr>\n",
       "      <th>[11,13[</th>\n",
       "      <td>46.0</td>\n",
       "      <td>NaN</td>\n",
       "      <td>NaN</td>\n",
       "      <td>NaN</td>\n",
       "    </tr>\n",
       "    <tr>\n",
       "      <th>[13,15[</th>\n",
       "      <td>36.0</td>\n",
       "      <td>NaN</td>\n",
       "      <td>NaN</td>\n",
       "      <td>NaN</td>\n",
       "    </tr>\n",
       "    <tr>\n",
       "      <th>[15,17[</th>\n",
       "      <td>14.0</td>\n",
       "      <td>NaN</td>\n",
       "      <td>NaN</td>\n",
       "      <td>NaN</td>\n",
       "    </tr>\n",
       "    <tr>\n",
       "      <th>[17,19]</th>\n",
       "      <td>3.0</td>\n",
       "      <td>NaN</td>\n",
       "      <td>NaN</td>\n",
       "      <td>NaN</td>\n",
       "    </tr>\n",
       "  </tbody>\n",
       "</table>\n",
       "</div>"
      ],
      "text/plain": [
       "         Effectifs Moyennes conditionnelles Carrés intra-classe  \\\n",
       "Y                                                                 \n",
       "[5,7[         10.0                      NaN                 NaN   \n",
       "[7,9[         32.0                      NaN                 NaN   \n",
       "[9,11[        59.0                      NaN                 NaN   \n",
       "[11,13[       46.0                      NaN                 NaN   \n",
       "[13,15[       36.0                      NaN                 NaN   \n",
       "[15,17[       14.0                      NaN                 NaN   \n",
       "[17,19]        3.0                      NaN                 NaN   \n",
       "\n",
       "        Carrés inter-classe  \n",
       "Y                            \n",
       "[5,7[                   NaN  \n",
       "[7,9[                   NaN  \n",
       "[9,11[                  NaN  \n",
       "[11,13[                 NaN  \n",
       "[13,15[                 NaN  \n",
       "[15,17[                 NaN  \n",
       "[17,19]                 NaN  "
      ]
     },
     "execution_count": 309,
     "metadata": {},
     "output_type": "execute_result"
    }
   ],
   "source": [
    "caracteristiques_X_Y['Effectifs'] = donnees.sum(axis=0)\n",
    "caracteristiques_X_Y "
   ]
  },
  {
   "cell_type": "code",
   "execution_count": 310,
   "metadata": {},
   "outputs": [
    {
     "data": {
      "text/html": [
       "<div>\n",
       "<style scoped>\n",
       "    .dataframe tbody tr th:only-of-type {\n",
       "        vertical-align: middle;\n",
       "    }\n",
       "\n",
       "    .dataframe tbody tr th {\n",
       "        vertical-align: top;\n",
       "    }\n",
       "\n",
       "    .dataframe thead th {\n",
       "        text-align: right;\n",
       "    }\n",
       "</style>\n",
       "<table border=\"1\" class=\"dataframe\">\n",
       "  <thead>\n",
       "    <tr style=\"text-align: right;\">\n",
       "      <th></th>\n",
       "      <th>Effectifs</th>\n",
       "      <th>Moyennes conditionnelles</th>\n",
       "      <th>Carrés intra-classe</th>\n",
       "      <th>Carrés inter-classe</th>\n",
       "    </tr>\n",
       "    <tr>\n",
       "      <th>Y</th>\n",
       "      <th></th>\n",
       "      <th></th>\n",
       "      <th></th>\n",
       "      <th></th>\n",
       "    </tr>\n",
       "  </thead>\n",
       "  <tbody>\n",
       "    <tr>\n",
       "      <th>[5,7[</th>\n",
       "      <td>10.0</td>\n",
       "      <td>6.800000</td>\n",
       "      <td>NaN</td>\n",
       "      <td>NaN</td>\n",
       "    </tr>\n",
       "    <tr>\n",
       "      <th>[7,9[</th>\n",
       "      <td>32.0</td>\n",
       "      <td>9.312500</td>\n",
       "      <td>NaN</td>\n",
       "      <td>NaN</td>\n",
       "    </tr>\n",
       "    <tr>\n",
       "      <th>[9,11[</th>\n",
       "      <td>59.0</td>\n",
       "      <td>10.813559</td>\n",
       "      <td>NaN</td>\n",
       "      <td>NaN</td>\n",
       "    </tr>\n",
       "    <tr>\n",
       "      <th>[11,13[</th>\n",
       "      <td>46.0</td>\n",
       "      <td>12.260870</td>\n",
       "      <td>NaN</td>\n",
       "      <td>NaN</td>\n",
       "    </tr>\n",
       "    <tr>\n",
       "      <th>[13,15[</th>\n",
       "      <td>36.0</td>\n",
       "      <td>13.888889</td>\n",
       "      <td>NaN</td>\n",
       "      <td>NaN</td>\n",
       "    </tr>\n",
       "    <tr>\n",
       "      <th>[15,17[</th>\n",
       "      <td>14.0</td>\n",
       "      <td>15.142857</td>\n",
       "      <td>NaN</td>\n",
       "      <td>NaN</td>\n",
       "    </tr>\n",
       "    <tr>\n",
       "      <th>[17,19]</th>\n",
       "      <td>3.0</td>\n",
       "      <td>17.333333</td>\n",
       "      <td>NaN</td>\n",
       "      <td>NaN</td>\n",
       "    </tr>\n",
       "  </tbody>\n",
       "</table>\n",
       "</div>"
      ],
      "text/plain": [
       "         Effectifs  Moyennes conditionnelles Carrés intra-classe  \\\n",
       "Y                                                                  \n",
       "[5,7[         10.0                  6.800000                 NaN   \n",
       "[7,9[         32.0                  9.312500                 NaN   \n",
       "[9,11[        59.0                 10.813559                 NaN   \n",
       "[11,13[       46.0                 12.260870                 NaN   \n",
       "[13,15[       36.0                 13.888889                 NaN   \n",
       "[15,17[       14.0                 15.142857                 NaN   \n",
       "[17,19]        3.0                 17.333333                 NaN   \n",
       "\n",
       "        Carrés inter-classe  \n",
       "Y                            \n",
       "[5,7[                   NaN  \n",
       "[7,9[                   NaN  \n",
       "[9,11[                  NaN  \n",
       "[11,13[                 NaN  \n",
       "[13,15[                 NaN  \n",
       "[15,17[                 NaN  \n",
       "[17,19]                 NaN  "
      ]
     },
     "execution_count": 310,
     "metadata": {},
     "output_type": "execute_result"
    }
   ],
   "source": [
    "caracteristiques_X_Y['Moyennes conditionnelles'] = donnees.apply(lambda row : np.average(centres_classes(donnees.index), weights=row), axis=0)\n",
    "caracteristiques_X_Y "
   ]
  },
  {
   "cell_type": "code",
   "execution_count": 311,
   "metadata": {},
   "outputs": [
    {
     "data": {
      "text/html": [
       "<div>\n",
       "<style scoped>\n",
       "    .dataframe tbody tr th:only-of-type {\n",
       "        vertical-align: middle;\n",
       "    }\n",
       "\n",
       "    .dataframe tbody tr th {\n",
       "        vertical-align: top;\n",
       "    }\n",
       "\n",
       "    .dataframe thead th {\n",
       "        text-align: right;\n",
       "    }\n",
       "</style>\n",
       "<table border=\"1\" class=\"dataframe\">\n",
       "  <thead>\n",
       "    <tr style=\"text-align: right;\">\n",
       "      <th></th>\n",
       "      <th>Effectifs</th>\n",
       "      <th>Moyennes conditionnelles</th>\n",
       "      <th>Carrés intra-classe</th>\n",
       "      <th>Carrés inter-classe</th>\n",
       "    </tr>\n",
       "    <tr>\n",
       "      <th>Y</th>\n",
       "      <th></th>\n",
       "      <th></th>\n",
       "      <th></th>\n",
       "      <th></th>\n",
       "    </tr>\n",
       "  </thead>\n",
       "  <tbody>\n",
       "    <tr>\n",
       "      <th>[5,7[</th>\n",
       "      <td>10.0</td>\n",
       "      <td>6.800000</td>\n",
       "      <td>17.600000</td>\n",
       "      <td>NaN</td>\n",
       "    </tr>\n",
       "    <tr>\n",
       "      <th>[7,9[</th>\n",
       "      <td>32.0</td>\n",
       "      <td>9.312500</td>\n",
       "      <td>108.875000</td>\n",
       "      <td>NaN</td>\n",
       "    </tr>\n",
       "    <tr>\n",
       "      <th>[9,11[</th>\n",
       "      <td>59.0</td>\n",
       "      <td>10.813559</td>\n",
       "      <td>312.949153</td>\n",
       "      <td>NaN</td>\n",
       "    </tr>\n",
       "    <tr>\n",
       "      <th>[11,13[</th>\n",
       "      <td>46.0</td>\n",
       "      <td>12.260870</td>\n",
       "      <td>156.869565</td>\n",
       "      <td>NaN</td>\n",
       "    </tr>\n",
       "    <tr>\n",
       "      <th>[13,15[</th>\n",
       "      <td>36.0</td>\n",
       "      <td>13.888889</td>\n",
       "      <td>127.555556</td>\n",
       "      <td>NaN</td>\n",
       "    </tr>\n",
       "    <tr>\n",
       "      <th>[15,17[</th>\n",
       "      <td>14.0</td>\n",
       "      <td>15.142857</td>\n",
       "      <td>29.714286</td>\n",
       "      <td>NaN</td>\n",
       "    </tr>\n",
       "    <tr>\n",
       "      <th>[17,19]</th>\n",
       "      <td>3.0</td>\n",
       "      <td>17.333333</td>\n",
       "      <td>2.666667</td>\n",
       "      <td>NaN</td>\n",
       "    </tr>\n",
       "  </tbody>\n",
       "</table>\n",
       "</div>"
      ],
      "text/plain": [
       "         Effectifs  Moyennes conditionnelles  Carrés intra-classe  \\\n",
       "Y                                                                   \n",
       "[5,7[         10.0                  6.800000            17.600000   \n",
       "[7,9[         32.0                  9.312500           108.875000   \n",
       "[9,11[        59.0                 10.813559           312.949153   \n",
       "[11,13[       46.0                 12.260870           156.869565   \n",
       "[13,15[       36.0                 13.888889           127.555556   \n",
       "[15,17[       14.0                 15.142857            29.714286   \n",
       "[17,19]        3.0                 17.333333             2.666667   \n",
       "\n",
       "        Carrés inter-classe  \n",
       "Y                            \n",
       "[5,7[                   NaN  \n",
       "[7,9[                   NaN  \n",
       "[9,11[                  NaN  \n",
       "[11,13[                 NaN  \n",
       "[13,15[                 NaN  \n",
       "[15,17[                 NaN  \n",
       "[17,19]                 NaN  "
      ]
     },
     "execution_count": 311,
     "metadata": {},
     "output_type": "execute_result"
    }
   ],
   "source": [
    "liste_carrés_intra = []\n",
    "centres = centres_classes(donnees.index)\n",
    "moyennes = caracteristiques_X_Y['Moyennes conditionnelles']\n",
    "effectifs = donnees.values.transpose().tolist()\n",
    "for row, moyenne in zip(effectifs, moyennes):\n",
    "    carré_intra = sum([n*(centre - moyenne)**2 for n, centre in zip(row,centres)])\n",
    "    liste_carrés_intra.append(carré_intra)   \n",
    "caracteristiques_X_Y['Carrés intra-classe'] = liste_carrés_intra\n",
    "caracteristiques_X_Y "
   ]
  },
  {
   "cell_type": "code",
   "execution_count": 312,
   "metadata": {},
   "outputs": [
    {
     "data": {
      "text/plain": [
       "756.230225696272"
      ]
     },
     "execution_count": 312,
     "metadata": {},
     "output_type": "execute_result"
    }
   ],
   "source": [
    "sc_intra = caracteristiques_X_Y['Carrés intra-classe'].sum()\n",
    "sc_intra"
   ]
  },
  {
   "cell_type": "code",
   "execution_count": 313,
   "metadata": {},
   "outputs": [
    {
     "data": {
      "text/html": [
       "<div>\n",
       "<style scoped>\n",
       "    .dataframe tbody tr th:only-of-type {\n",
       "        vertical-align: middle;\n",
       "    }\n",
       "\n",
       "    .dataframe tbody tr th {\n",
       "        vertical-align: top;\n",
       "    }\n",
       "\n",
       "    .dataframe thead th {\n",
       "        text-align: right;\n",
       "    }\n",
       "</style>\n",
       "<table border=\"1\" class=\"dataframe\">\n",
       "  <thead>\n",
       "    <tr style=\"text-align: right;\">\n",
       "      <th></th>\n",
       "      <th>[5,7[</th>\n",
       "      <th>[7,9[</th>\n",
       "      <th>[9,11[</th>\n",
       "      <th>[11,13[</th>\n",
       "      <th>[13,15[</th>\n",
       "      <th>[15,17[</th>\n",
       "      <th>[17,19]</th>\n",
       "    </tr>\n",
       "  </thead>\n",
       "  <tbody>\n",
       "    <tr>\n",
       "      <th>Total X</th>\n",
       "      <td>12.0</td>\n",
       "      <td>28.0</td>\n",
       "      <td>39.0</td>\n",
       "      <td>54.0</td>\n",
       "      <td>41.0</td>\n",
       "      <td>22.0</td>\n",
       "      <td>4.0</td>\n",
       "    </tr>\n",
       "  </tbody>\n",
       "</table>\n",
       "</div>"
      ],
      "text/plain": [
       "         [5,7[  [7,9[  [9,11[  [11,13[  [13,15[  [15,17[  [17,19]\n",
       "Total X   12.0   28.0    39.0     54.0     41.0     22.0      4.0"
      ]
     },
     "execution_count": 313,
     "metadata": {},
     "output_type": "execute_result"
    }
   ],
   "source": [
    "distribution_marginale_X = pd.DataFrame(donnees.sum(axis=1), donnees.columns, columns=['Total X'])\n",
    "distribution_marginale_X.T"
   ]
  },
  {
   "cell_type": "code",
   "execution_count": 314,
   "metadata": {},
   "outputs": [
    {
     "name": "stdout",
     "output_type": "stream",
     "text": [
      "La moyenne marginale de X est : 11.66\n"
     ]
    }
   ],
   "source": [
    "moyenne_marginale_X = np.average(centres_classes(donnees.index), weights=distribution_marginale_X['Total X'])\n",
    "print(\"La moyenne marginale de X est :\", moyenne_marginale_X)"
   ]
  },
  {
   "cell_type": "code",
   "execution_count": 315,
   "metadata": {},
   "outputs": [
    {
     "data": {
      "text/html": [
       "<div>\n",
       "<style scoped>\n",
       "    .dataframe tbody tr th:only-of-type {\n",
       "        vertical-align: middle;\n",
       "    }\n",
       "\n",
       "    .dataframe tbody tr th {\n",
       "        vertical-align: top;\n",
       "    }\n",
       "\n",
       "    .dataframe thead th {\n",
       "        text-align: right;\n",
       "    }\n",
       "</style>\n",
       "<table border=\"1\" class=\"dataframe\">\n",
       "  <thead>\n",
       "    <tr style=\"text-align: right;\">\n",
       "      <th></th>\n",
       "      <th>Effectifs</th>\n",
       "      <th>Moyennes conditionnelles</th>\n",
       "      <th>Carrés intra-classe</th>\n",
       "      <th>Carrés inter-classe</th>\n",
       "    </tr>\n",
       "    <tr>\n",
       "      <th>Y</th>\n",
       "      <th></th>\n",
       "      <th></th>\n",
       "      <th></th>\n",
       "      <th></th>\n",
       "    </tr>\n",
       "  </thead>\n",
       "  <tbody>\n",
       "    <tr>\n",
       "      <th>[5,7[</th>\n",
       "      <td>10.0</td>\n",
       "      <td>6.800000</td>\n",
       "      <td>17.600000</td>\n",
       "      <td>236.196000</td>\n",
       "    </tr>\n",
       "    <tr>\n",
       "      <th>[7,9[</th>\n",
       "      <td>32.0</td>\n",
       "      <td>9.312500</td>\n",
       "      <td>108.875000</td>\n",
       "      <td>176.344200</td>\n",
       "    </tr>\n",
       "    <tr>\n",
       "      <th>[9,11[</th>\n",
       "      <td>59.0</td>\n",
       "      <td>10.813559</td>\n",
       "      <td>312.949153</td>\n",
       "      <td>42.271247</td>\n",
       "    </tr>\n",
       "    <tr>\n",
       "      <th>[11,13[</th>\n",
       "      <td>46.0</td>\n",
       "      <td>12.260870</td>\n",
       "      <td>156.869565</td>\n",
       "      <td>16.608035</td>\n",
       "    </tr>\n",
       "    <tr>\n",
       "      <th>[13,15[</th>\n",
       "      <td>36.0</td>\n",
       "      <td>13.888889</td>\n",
       "      <td>127.555556</td>\n",
       "      <td>178.846044</td>\n",
       "    </tr>\n",
       "    <tr>\n",
       "      <th>[15,17[</th>\n",
       "      <td>14.0</td>\n",
       "      <td>15.142857</td>\n",
       "      <td>29.714286</td>\n",
       "      <td>169.824114</td>\n",
       "    </tr>\n",
       "    <tr>\n",
       "      <th>[17,19]</th>\n",
       "      <td>3.0</td>\n",
       "      <td>17.333333</td>\n",
       "      <td>2.666667</td>\n",
       "      <td>96.560133</td>\n",
       "    </tr>\n",
       "  </tbody>\n",
       "</table>\n",
       "</div>"
      ],
      "text/plain": [
       "         Effectifs  Moyennes conditionnelles  Carrés intra-classe  \\\n",
       "Y                                                                   \n",
       "[5,7[         10.0                  6.800000            17.600000   \n",
       "[7,9[         32.0                  9.312500           108.875000   \n",
       "[9,11[        59.0                 10.813559           312.949153   \n",
       "[11,13[       46.0                 12.260870           156.869565   \n",
       "[13,15[       36.0                 13.888889           127.555556   \n",
       "[15,17[       14.0                 15.142857            29.714286   \n",
       "[17,19]        3.0                 17.333333             2.666667   \n",
       "\n",
       "         Carrés inter-classe  \n",
       "Y                             \n",
       "[5,7[             236.196000  \n",
       "[7,9[             176.344200  \n",
       "[9,11[             42.271247  \n",
       "[11,13[            16.608035  \n",
       "[13,15[           178.846044  \n",
       "[15,17[           169.824114  \n",
       "[17,19]            96.560133  "
      ]
     },
     "execution_count": 315,
     "metadata": {},
     "output_type": "execute_result"
    }
   ],
   "source": [
    "caracteristiques_X_Y['Carrés inter-classe'] = caracteristiques_X_Y .apply(lambda row : row['Effectifs'] * (row['Moyennes conditionnelles'] - moyenne_marginale_X)**2, axis=1)\n",
    "caracteristiques_X_Y "
   ]
  },
  {
   "cell_type": "code",
   "execution_count": 316,
   "metadata": {},
   "outputs": [
    {
     "data": {
      "text/plain": [
       "916.6497743037278"
      ]
     },
     "execution_count": 316,
     "metadata": {},
     "output_type": "execute_result"
    }
   ],
   "source": [
    "sc_inter = caracteristiques_X_Y['Carrés inter-classe'].sum()\n",
    "sc_inter"
   ]
  },
  {
   "cell_type": "code",
   "execution_count": 317,
   "metadata": {},
   "outputs": [
    {
     "data": {
      "text/plain": [
       "0.5479471177273493"
      ]
     },
     "execution_count": 317,
     "metadata": {},
     "output_type": "execute_result"
    }
   ],
   "source": [
    "sc_total = sc_intra + sc_inter\n",
    "rapport_corrélation_X_Y = sc_inter / sc_total\n",
    "rapport_corrélation_X_Y"
   ]
  },
  {
   "cell_type": "markdown",
   "metadata": {},
   "source": [
    "## Question 2"
   ]
  },
  {
   "cell_type": "markdown",
   "metadata": {},
   "source": [
    "***Rappel : Tracer la courbe de régression de Y en X***   \n",
    "![Rappel - Corubre de régression](../images/Rappels/rappel_courbe_de_regression.PNG)   \n"
   ]
  },
  {
   "cell_type": "code",
   "execution_count": 318,
   "metadata": {},
   "outputs": [
    {
     "data": {
      "image/png": "[encoded data removed]",
      "text/plain": [
       "<Figure size 864x504 with 1 Axes>"
      ]
     },
     "metadata": {
      "needs_background": "light"
     },
     "output_type": "display_data"
    }
   ],
   "source": [
    "X = centres_classes(donnees.index)\n",
    "Y = caracteristiques_Y_X['Moyennes conditionnelles']\n",
    "plt.figure(figsize=(12, 7))\n",
    "plt.plot(X, Y,'-o')\n",
    "plt.yticks(range(5,21,2))\n",
    "plt.title(\"Courbe de régression de Y en X\")\n",
    "plt.xlabel(\"Notes en économie X (centre des classes)\")\n",
    "plt.ylabel(\"Notes en statistique Y (moyennes de Y cond. à X)\")\n",
    "plt.show() "
   ]
  },
  {
   "cell_type": "markdown",
   "metadata": {},
   "source": [
    "## Question 3"
   ]
  },
  {
   "cell_type": "markdown",
   "metadata": {},
   "source": [
    "***Rappel : Comparaison du coefficient de corrélation linéaire et des rapports de corrélation***   \n",
    "![Rappel - Comparaison du coefficient de corrélation linéaire et des rapports de corrélation](../images/Rappels/rappel_comparaison_coefficient_correlation_lineaire_rapports_correlation.PNG)   \n"
   ]
  },
  {
   "cell_type": "markdown",
   "metadata": {},
   "source": [
    "Les variables X et Y étant quantitatives, on peut mesurer leur liaison à l’aide du coefficient de corrélation linéaire."
   ]
  },
  {
   "cell_type": "markdown",
   "metadata": {},
   "source": [
    "### Coefficient de corrélation linéaire"
   ]
  },
  {
   "cell_type": "markdown",
   "metadata": {},
   "source": [
    "***Rappel : Coefficient de corrélation linéaire - Définition***  \n",
    "![Rappel - Coefficient de corrélation linéaire](../images/Rappels/rappel_coefficient_correlation_lineaire_definition.PNG)"
   ]
  },
  {
   "cell_type": "markdown",
   "metadata": {},
   "source": [
    "#### Calcul des ecart-type"
   ]
  },
  {
   "cell_type": "code",
   "execution_count": 319,
   "metadata": {},
   "outputs": [],
   "source": [
    "def ecart_type_pondere(values, weights):\n",
    "    average = np.average(values, weights=weights)\n",
    "    variance = np.average((values-average)**2, weights=weights)\n",
    "    return  math.sqrt(variance)"
   ]
  },
  {
   "cell_type": "markdown",
   "metadata": {},
   "source": [
    "##### Ecart-type de X"
   ]
  },
  {
   "cell_type": "code",
   "execution_count": 320,
   "metadata": {},
   "outputs": [
    {
     "data": {
      "text/html": [
       "<div>\n",
       "<style scoped>\n",
       "    .dataframe tbody tr th:only-of-type {\n",
       "        vertical-align: middle;\n",
       "    }\n",
       "\n",
       "    .dataframe tbody tr th {\n",
       "        vertical-align: top;\n",
       "    }\n",
       "\n",
       "    .dataframe thead th {\n",
       "        text-align: right;\n",
       "    }\n",
       "</style>\n",
       "<table border=\"1\" class=\"dataframe\">\n",
       "  <thead>\n",
       "    <tr style=\"text-align: right;\">\n",
       "      <th></th>\n",
       "      <th>Total X</th>\n",
       "    </tr>\n",
       "  </thead>\n",
       "  <tbody>\n",
       "    <tr>\n",
       "      <th>[5,7[</th>\n",
       "      <td>12.0</td>\n",
       "    </tr>\n",
       "    <tr>\n",
       "      <th>[7,9[</th>\n",
       "      <td>28.0</td>\n",
       "    </tr>\n",
       "    <tr>\n",
       "      <th>[9,11[</th>\n",
       "      <td>39.0</td>\n",
       "    </tr>\n",
       "    <tr>\n",
       "      <th>[11,13[</th>\n",
       "      <td>54.0</td>\n",
       "    </tr>\n",
       "    <tr>\n",
       "      <th>[13,15[</th>\n",
       "      <td>41.0</td>\n",
       "    </tr>\n",
       "    <tr>\n",
       "      <th>[15,17[</th>\n",
       "      <td>22.0</td>\n",
       "    </tr>\n",
       "    <tr>\n",
       "      <th>[17,19]</th>\n",
       "      <td>4.0</td>\n",
       "    </tr>\n",
       "  </tbody>\n",
       "</table>\n",
       "</div>"
      ],
      "text/plain": [
       "         Total X\n",
       "[5,7[       12.0\n",
       "[7,9[       28.0\n",
       "[9,11[      39.0\n",
       "[11,13[     54.0\n",
       "[13,15[     41.0\n",
       "[15,17[     22.0\n",
       "[17,19]      4.0"
      ]
     },
     "execution_count": 320,
     "metadata": {},
     "output_type": "execute_result"
    }
   ],
   "source": [
    "distribution_marginale_X"
   ]
  },
  {
   "cell_type": "code",
   "execution_count": 321,
   "metadata": {},
   "outputs": [
    {
     "data": {
      "text/plain": [
       "2.8921272447802155"
      ]
     },
     "execution_count": 321,
     "metadata": {},
     "output_type": "execute_result"
    }
   ],
   "source": [
    "X = centres_classes(distribution_marginale_x.index)\n",
    "weights_X = distribution_marginale_X['Total X']\n",
    "ecart_type_X = ecart_type_pondere(X, weights_X)\n",
    "ecart_type_X"
   ]
  },
  {
   "cell_type": "markdown",
   "metadata": {},
   "source": [
    "##### Ecart-type de Y"
   ]
  },
  {
   "cell_type": "code",
   "execution_count": 322,
   "metadata": {},
   "outputs": [
    {
     "data": {
      "text/html": [
       "<div>\n",
       "<style scoped>\n",
       "    .dataframe tbody tr th:only-of-type {\n",
       "        vertical-align: middle;\n",
       "    }\n",
       "\n",
       "    .dataframe tbody tr th {\n",
       "        vertical-align: top;\n",
       "    }\n",
       "\n",
       "    .dataframe thead th {\n",
       "        text-align: right;\n",
       "    }\n",
       "</style>\n",
       "<table border=\"1\" class=\"dataframe\">\n",
       "  <thead>\n",
       "    <tr style=\"text-align: right;\">\n",
       "      <th></th>\n",
       "      <th>Total Y</th>\n",
       "    </tr>\n",
       "  </thead>\n",
       "  <tbody>\n",
       "    <tr>\n",
       "      <th>[5,7[</th>\n",
       "      <td>10.0</td>\n",
       "    </tr>\n",
       "    <tr>\n",
       "      <th>[7,9[</th>\n",
       "      <td>32.0</td>\n",
       "    </tr>\n",
       "    <tr>\n",
       "      <th>[9,11[</th>\n",
       "      <td>59.0</td>\n",
       "    </tr>\n",
       "    <tr>\n",
       "      <th>[11,13[</th>\n",
       "      <td>46.0</td>\n",
       "    </tr>\n",
       "    <tr>\n",
       "      <th>[13,15[</th>\n",
       "      <td>36.0</td>\n",
       "    </tr>\n",
       "    <tr>\n",
       "      <th>[15,17[</th>\n",
       "      <td>14.0</td>\n",
       "    </tr>\n",
       "    <tr>\n",
       "      <th>[17,19]</th>\n",
       "      <td>3.0</td>\n",
       "    </tr>\n",
       "  </tbody>\n",
       "</table>\n",
       "</div>"
      ],
      "text/plain": [
       "         Total Y\n",
       "[5,7[       10.0\n",
       "[7,9[       32.0\n",
       "[9,11[      59.0\n",
       "[11,13[     46.0\n",
       "[13,15[     36.0\n",
       "[15,17[     14.0\n",
       "[17,19]      3.0"
      ]
     },
     "execution_count": 322,
     "metadata": {},
     "output_type": "execute_result"
    }
   ],
   "source": [
    "distribution_marginale_Y"
   ]
  },
  {
   "cell_type": "code",
   "execution_count": 323,
   "metadata": {},
   "outputs": [
    {
     "data": {
      "text/plain": [
       "2.698147512646408"
      ]
     },
     "execution_count": 323,
     "metadata": {},
     "output_type": "execute_result"
    }
   ],
   "source": [
    "Y = centres_classes(distribution_marginale_y.index)\n",
    "weights_Y = distribution_marginale_Y['Total Y']\n",
    "ecart_type_Y = ecart_type_pondere(Y, weights_Y)\n",
    "ecart_type_Y"
   ]
  },
  {
   "cell_type": "markdown",
   "metadata": {},
   "source": [
    "#### Calcul de la covariance entre X et Y"
   ]
  },
  {
   "cell_type": "markdown",
   "metadata": {},
   "source": [
    "***Rappel : Covariance entre deux variables statistiques***   \n",
    "![Rappel - Covariance entre deux variables statistiques](../images/Rappels/rappel_covariance.PNG)"
   ]
  },
  {
   "cell_type": "code",
   "execution_count": 324,
   "metadata": {},
   "outputs": [
    {
     "data": {
      "text/plain": [
       "5.748000000000001"
      ]
     },
     "execution_count": 324,
     "metadata": {},
     "output_type": "execute_result"
    }
   ],
   "source": [
    "cov_X_Y = 0\n",
    "effectifs_totaux = donnees.to_numpy().sum()\n",
    "for i in range(0, len(donnees.index)):\n",
    "    for j in range(0, len(donnees.columns)):\n",
    "        cov_X_Y += (donnees.iloc[i,j] / effectifs_totaux )  * (X[i] - moyenne_marginale_X) * (Y[j] - moyenne_marginale_Y)\n",
    "cov_X_Y"
   ]
  },
  {
   "cell_type": "markdown",
   "metadata": {},
   "source": [
    "#### Calcul du coefficient de corrélation linéaire"
   ]
  },
  {
   "cell_type": "code",
   "execution_count": 328,
   "metadata": {},
   "outputs": [
    {
     "data": {
      "text/plain": [
       "0.7366033219765541"
      ]
     },
     "execution_count": 328,
     "metadata": {},
     "output_type": "execute_result"
    }
   ],
   "source": [
    "r = cov_X_Y / (ecart_type_X * ecart_type_Y)\n",
    "r"
   ]
  },
  {
   "cell_type": "markdown",
   "metadata": {},
   "source": [
    "### Comparaison entre le coefficient de corrélation linéaire et les rapports de corrélation"
   ]
  },
  {
   "cell_type": "code",
   "execution_count": 330,
   "metadata": {},
   "outputs": [
    {
     "data": {
      "text/plain": [
       "0.542584453946895"
      ]
     },
     "execution_count": 330,
     "metadata": {},
     "output_type": "execute_result"
    }
   ],
   "source": [
    "r2 = r**2\n",
    "r2"
   ]
  },
  {
   "cell_type": "code",
   "execution_count": 331,
   "metadata": {},
   "outputs": [
    {
     "data": {
      "text/plain": [
       "0.5492435522923328"
      ]
     },
     "execution_count": 331,
     "metadata": {},
     "output_type": "execute_result"
    }
   ],
   "source": [
    "rapport_corrélation_Y_X"
   ]
  },
  {
   "cell_type": "code",
   "execution_count": 332,
   "metadata": {},
   "outputs": [
    {
     "data": {
      "text/plain": [
       "0.5479471177273493"
      ]
     },
     "execution_count": 332,
     "metadata": {},
     "output_type": "execute_result"
    }
   ],
   "source": [
    "rapport_corrélation_X_Y"
   ]
  },
  {
   "cell_type": "markdown",
   "metadata": {},
   "source": [
    "On retrouve : 0 ≤ r2 ≤ min(η2 X/Y ; η2 Y/X ) ≤ max(η2 X/Y ; η2 Y/X) ≤ 1"
   ]
  },
  {
   "cell_type": "code",
   "execution_count": 333,
   "metadata": {},
   "outputs": [
    {
     "data": {
      "text/plain": [
       "True"
      ]
     },
     "execution_count": 333,
     "metadata": {},
     "output_type": "execute_result"
    }
   ],
   "source": [
    "0 <= r2 <= min(rapport_corrélation_X_Y,rapport_corrélation_Y_X) <= max(rapport_corrélation_X_Y,rapport_corrélation_Y_X) <= 1"
   ]
  }
 ],
 "metadata": {
  "kernelspec": {
   "display_name": "Python 3",
   "language": "python",
   "name": "python3"
  },
  "language_info": {
   "codemirror_mode": {
    "name": "ipython",
    "version": 3
   },
   "file_extension": ".py",
   "mimetype": "text/x-python",
   "name": "python",
   "nbconvert_exporter": "python",
   "pygments_lexer": "ipython3",
   "version": "3.8.3"
  }
 },
 "nbformat": 4,
 "nbformat_minor": 4
}
