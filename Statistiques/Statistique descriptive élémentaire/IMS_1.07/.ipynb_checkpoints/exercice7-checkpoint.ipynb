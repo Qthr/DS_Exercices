{
 "cells": [
  {
   "cell_type": "markdown",
   "metadata": {},
   "source": [
    "# IMS_1.07\n",
    "- **Description** : Etude descriptive d'une variable quantitative continue\n",
    "- **Source** : Introduction à la méthode statistique - Catherine Pardoux  \n",
    "- **Chapitre** :  1 - Distributions statistiques à un caractère\n",
    "- **Exercice** : 1.7 "
   ]
  },
  {
   "cell_type": "markdown",
   "metadata": {},
   "source": [
    "## Énoncé\n",
    "![Enonce IMS_1.07](../images/Enonces/IMS_1.07_enonce.PNG)"
   ]
  },
  {
   "cell_type": "markdown",
   "metadata": {},
   "source": [
    "## Question 1\n",
    "- Population : 30 premiers groupes français de l’industrie et des services selon leur chiffre d'affaires en 2001\n",
    "- Unité statistique : un groupe parmi les 30 premiers groupes français de l’industrie et des services selon leur chiffre d'affaires en 2001\n",
    "- Caractère étudié : Chiffre d'affaires (en millions d'euros), Effectif\n",
    "- Nature du caractère : caractères quantitatifs continus\n"
   ]
  },
  {
   "cell_type": "code",
   "execution_count": 9,
   "metadata": {},
   "outputs": [],
   "source": [
    "from pathlib import Path\n",
    "\n",
    "import pandas as pd\n",
    "import matplotlib.pylab as plt\n",
    "import stemgraphic\n",
    "\n",
    "DATA = \"donnees.csv\""
   ]
  },
  {
   "cell_type": "code",
   "execution_count": 7,
   "metadata": {},
   "outputs": [
    {
     "name": "stdout",
     "output_type": "stream",
     "text": [
      "                          Societe    CAHT  Effectif\n",
      "0                    TotalFinaElf  105318    122025\n",
      "1                       Carrefour   69486    382821\n",
      "2               Vivendi Universal   57360    321000\n",
      "3             PSA Peugeot Citroën   51663    192500\n",
      "4                  France Telecom   43026    206184\n",
      "5                            Suez   42359    188050\n",
      "6                             EDF   40716    161738\n",
      "7               Les Mousquetaires   37200    112000\n",
      "8                         Renault   36351    140417\n",
      "9                    Saint-Gobain   30390    173329\n",
      "10  Pinault-Printemps- La Redoute   27799    115935\n",
      "11                  Groupe Auchan   26200    136000\n",
      "12                Alcatel Alsthom   25353     99314\n",
      "13                Galec (Leclerc)   25000     75000\n",
      "14                         Alstom   23453    118995\n",
      "15                        Aventis   22941     91729\n",
      "16         Groupe Casino (Rallye)   21984    106736\n",
      "17                       Bouygues   20473    126560\n",
      "18                  Airbus (EADS)   20427      2000\n",
      "19                           SNCF   20129    220747\n",
      "20                          Vonci   17172    129499\n",
      "21                       La poste   17028    313854\n",
      "22                Publicis Groupe   16667     20592\n",
      "23                       Michelin   15775    127467\n",
      "24                          Havas   14950     20373\n",
      "25               Usinor (Arcelor)   14523     59516\n",
      "26                  Groupe Danone   14470    100560\n",
      "27                  Gaz de France   14357     36451\n",
      "28            L'Oréal (Gespartal)   13740     49150\n",
      "29                        Lafarge   13698     82892\n"
     ]
    }
   ],
   "source": [
    "# Data Wrangling\n",
    "def convert_string_column_to_numeric(colonne):\n",
    "    colonne_string_sans_espace = colonne.str.replace(\" \",\"\")\n",
    "    colonne_numerique = pd.to_numeric(colonne_string_sans_espace)\n",
    "    return colonne_numerique\n",
    "\n",
    "donnees = pd.read_csv(DATA, sep=';')\n",
    "donnees['CAHT'] = convert_string_column_to_numeric(donnees['CAHT'])\n",
    "donnees['Effectif'] = convert_string_column_to_numeric(donnees['Effectif'])\n",
    "\n",
    "print(donnees)"
   ]
  },
  {
   "cell_type": "markdown",
   "metadata": {},
   "source": [
    "## Question 2"
   ]
  },
  {
   "cell_type": "code",
   "execution_count": 10,
   "metadata": {},
   "outputs": [
    {
     "name": "stdout",
     "output_type": "stream",
     "text": [
      "La moyenne du CA de la population en 2001 est : 30000.266666666666 millions d'euros\n",
      "L'écart-type du CA de la population en 2001 est : 20066.329423866402 millions d'euros\n",
      "La moyenne des effectifs de la population en 2001 est : 134447.8\n",
      "L'écart-type des effectifs de la population en 2001 est : 88739.11804345946\n"
     ]
    }
   ],
   "source": [
    "# Calcul de la moyenne et de l'écart-type des obeservations pour un caractère donnée\n",
    "def get_moyenne_ecart_type(donnees_caractere):\n",
    "    return donnees_caractere.mean(), donnees_caractere.std()\n",
    "\n",
    "moyenne_CA, ecart_type_CA = get_moyenne_ecart_type(donnees['CAHT'])\n",
    "moyenne_effectif, ecart_type_effectif = get_moyenne_ecart_type(donnees['Effectif'])\n",
    "\n",
    "# Affichage\n",
    "print(\"La moyenne du CA de la population en 2001 est : {} millions d'euros\".format(moyenne_CA))\n",
    "print(\"L'écart-type du CA de la population en 2001 est : {} millions d'euros\".format(ecart_type_CA))\n",
    "print(\"La moyenne des effectifs de la population en 2001 est : {}\".format(moyenne_effectif))\n",
    "print(\"L'écart-type des effectifs de la population en 2001 est : {}\".format(ecart_type_effectif))\n"
   ]
  },
  {
   "cell_type": "markdown",
   "metadata": {},
   "source": [
    "## Question 3"
   ]
  },
  {
   "cell_type": "markdown",
   "metadata": {},
   "source": [
    "### Question 3.1"
   ]
  },
  {
   "cell_type": "code",
   "execution_count": 7,
   "metadata": {},
   "outputs": [
    {
     "name": "stdout",
     "output_type": "stream",
     "text": [
      "          CAHT\n",
      "0.25  16757.25\n",
      "0.50  23197.00\n",
      "0.75  36987.75 \n",
      "\n",
      "         25.0%    50.0%     75.0%\n",
      "CAHT  16757.25  23197.0  36987.75\n"
     ]
    }
   ],
   "source": [
    "pourcentage_quartiles = [0.25, 0.50, 0.75]\n",
    "quartiles = pd.DataFrame(donnees['CAHT'].quantile(pourcentage_quartiles))\n",
    "\n",
    "# Affichage 1\n",
    "print(quartiles, \"\\n\")\n",
    "\n",
    "# Affichage 2\n",
    "quartiles.index = [f'{p * 100}%' for p in pourcentage_quartiles]\n",
    "print(quartiles.transpose())"
   ]
  },
  {
   "cell_type": "markdown",
   "metadata": {},
   "source": [
    "### Question 3.2 "
   ]
  },
  {
   "cell_type": "code",
   "execution_count": 35,
   "metadata": {},
   "outputs": [
    {
     "name": "stdout",
     "output_type": "stream",
     "text": [
      "Taille d'une branche : 10 000 millions d'euros\n"
     ]
    },
    {
     "data": {
      "image/png": "[encoded data removed]",
      "text/plain": [
       "<Figure size 540x234 with 1 Axes>"
      ]
     },
     "metadata": {
      "needs_background": "light"
     },
     "output_type": "display_data"
    }
   ],
   "source": [
    "print(\"Taille d'une branche : 10 000 millions d'euros\")\n",
    "fig, ax = stemgraphic.graphic.stem_graphic(donnees['CAHT']/10000, asc=False)"
   ]
  },
  {
   "cell_type": "markdown",
   "metadata": {},
   "source": [
    "### Question 3.3"
   ]
  },
  {
   "cell_type": "code",
   "execution_count": 8,
   "metadata": {},
   "outputs": [
    {
     "data": {
      "image/png": "[encoded data removed]",
      "text/plain": [
       "<Figure size 432x576 with 1 Axes>"
      ]
     },
     "metadata": {
      "needs_background": "light"
     },
     "output_type": "display_data"
    }
   ],
   "source": [
    "ax = (donnees['CAHT']/1000).plot.box(figsize=(6, 8))\n",
    "\n",
    "ax.set_ylabel(\"Chiffre d'affaires (en milliards d'euros)\")\n",
    "plt.tight_layout()\n",
    "plt.show()"
   ]
  },
  {
   "cell_type": "markdown",
   "metadata": {},
   "source": [
    "On a une distribution étalée vers les valeurs élevées, avec TotalFinaElf(~105 milliards) puis Carrefour(~70 milliards) comme valeurs les plus elevées."
   ]
  }
 ],
 "metadata": {
  "kernelspec": {
   "display_name": "Python 3",
   "language": "python",
   "name": "python3"
  },
  "language_info": {
   "codemirror_mode": {
    "name": "ipython",
    "version": 3
   },
   "file_extension": ".py",
   "mimetype": "text/x-python",
   "name": "python",
   "nbconvert_exporter": "python",
   "pygments_lexer": "ipython3",
   "version": "3.8.3"
  }
 },
 "nbformat": 4,
 "nbformat_minor": 4
}
