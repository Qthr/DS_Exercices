{
 "cells": [
  {
   "cell_type": "markdown",
   "metadata": {},
   "source": [
    "# IMS_1.05\n",
    "- **Description** : Calculs de moyennes harmoniques\n",
    "- **Source** : Introduction à la méthode statistique - Catherine Pardoux + Documentation Python\n",
    "- **Chapitre** :  1 - Distributions statistiques à un caractère\n",
    "- **Exercice** : 1.5  \n",
    "\n",
    "## Documentation Python\n",
    "> La moyenne harmonique est l'inverse de la moyenne arithmétique mean() des inverses. Par exemple, la moyenne harmonique de trois valeurs a, b et c vaut 3/(1/a + 1/b + 1/c). Si une des valeurs est nulle, alors le résultat est zéro.\n",
    "> La moyenne harmonique est un type de moyenne, une mesure de la tendance centrale des données. Elle est généralement appropriée pour calculer des moyennes de taux ou de proportions, par exemple des vitesses."
   ]
  },
  {
   "cell_type": "code",
   "execution_count": null,
   "metadata": {},
   "outputs": [],
   "source": [
    "import statistics"
   ]
  },
  {
   "cell_type": "markdown",
   "metadata": {},
   "source": [
    "### Question 1\n",
    "> ***Supposons qu'une voiture parcoure 10 km à 40 km/h puis 10 km à 60 km/h. Quelle a été sa vitesse moyenne ?***"
   ]
  },
  {
   "cell_type": "code",
   "execution_count": 3,
   "metadata": {},
   "outputs": [
    {
     "name": "stdout",
     "output_type": "stream",
     "text": [
      "48.0\n"
     ]
    }
   ],
   "source": [
    "m = statistics.harmonic_mean([40,60])\n",
    "print(m)"
   ]
  },
  {
   "cell_type": "markdown",
   "metadata": {},
   "source": [
    "### Question 2\n",
    "> ***Supposons qu'un investisseur achète autant de parts dans trois compagnies chacune de ratio cours sur bénéfices (P/E) 2,5, 3 et 10. Quel est le ratio cours sur bénéfices moyen du portefeuille de l'investisseur ?***"
   ]
  },
  {
   "cell_type": "code",
   "execution_count": 4,
   "metadata": {},
   "outputs": [
    {
     "name": "stdout",
     "output_type": "stream",
     "text": [
      "3.6\n"
     ]
    }
   ],
   "source": [
    "m = statistics.harmonic_mean([2.5,3, 10])\n",
    "print(m)"
   ]
  },
  {
   "cell_type": "markdown",
   "metadata": {},
   "source": [
    "### Question 3\n",
    "> ***Dans un atelier, le coût horaire de la main d’oeuvre est de 8 € (base 35 h par semaine). Une heure supplémentaire revient à 10 €, et le service de paie indique quele coût total des heures supplémentaires représente 30  % du coût total de la maind’oeuvre.***\n",
    "> ***Calculez le coût horaire moyen et indiquez le type de moyenne utilisée.***"
   ]
  }
 ],
 "metadata": {
  "kernelspec": {
   "display_name": "Python 3",
   "language": "python",
   "name": "python3"
  },
  "language_info": {
   "codemirror_mode": {
    "name": "ipython",
    "version": 3
   },
   "file_extension": ".py",
   "mimetype": "text/x-python",
   "name": "python",
   "nbconvert_exporter": "python",
   "pygments_lexer": "ipython3",
   "version": "3.8.3"
  }
 },
 "nbformat": 4,
 "nbformat_minor": 4
}
