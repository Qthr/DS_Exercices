{
 "cells": [
  {
   "cell_type": "markdown",
   "metadata": {},
   "source": [
    "# IMS_3.03\n",
    "- **Description** : Etude da la différence de corrélation entre indices (absolu) et variation (relatif) à partir de deux variables (stationnarité de séries).\n",
    "- **Source** : Introduction à la méthode statistique - Catherine Pardoux  \n",
    "- **Chapitre** :  3 - Distributions statistiques à deux caractères\n",
    "- **Exercice** : 3.3"
   ]
  },
  {
   "cell_type": "markdown",
   "metadata": {},
   "source": [
    "## Enoncé\n",
    "![Enonce IMS_3.03](../images/Enonces/IMS_3.03_enonce.PNG)"
   ]
  },
  {
   "cell_type": "markdown",
   "metadata": {},
   "source": [
    "## Préparation"
   ]
  },
  {
   "cell_type": "markdown",
   "metadata": {},
   "source": [
    "### Import des bibliothèques"
   ]
  },
  {
   "cell_type": "code",
   "execution_count": 1,
   "metadata": {},
   "outputs": [],
   "source": [
    "import pandas as pd\n",
    "import numpy as np\n",
    "# import re\n",
    "# import math\n",
    "import matplotlib.pyplot as plt\n",
    "\n",
    "DATA = \"IMS_3.03_donnees.csv\""
   ]
  },
  {
   "cell_type": "markdown",
   "metadata": {},
   "source": [
    "### Data Wrangling"
   ]
  },
  {
   "cell_type": "markdown",
   "metadata": {},
   "source": [
    "Les données initiales sont réparties en deux \"fenêtres\" au sein d'un même fichier de données.  \n",
    "On va charger ces deux fenêtres de données puis les concaténer pour avoir des données exploitables."
   ]
  },
  {
   "cell_type": "markdown",
   "metadata": {},
   "source": [
    "#### Données initiales"
   ]
  },
  {
   "cell_type": "code",
   "execution_count": 2,
   "metadata": {},
   "outputs": [
    {
     "data": {
      "text/html": [
       "<div>\n",
       "<style scoped>\n",
       "    .dataframe tbody tr th:only-of-type {\n",
       "        vertical-align: middle;\n",
       "    }\n",
       "\n",
       "    .dataframe tbody tr th {\n",
       "        vertical-align: top;\n",
       "    }\n",
       "\n",
       "    .dataframe thead th {\n",
       "        text-align: right;\n",
       "    }\n",
       "</style>\n",
       "<table border=\"1\" class=\"dataframe\">\n",
       "  <thead>\n",
       "    <tr style=\"text-align: right;\">\n",
       "      <th></th>\n",
       "      <th>1990</th>\n",
       "      <th>1991</th>\n",
       "      <th>1992</th>\n",
       "      <th>1993</th>\n",
       "      <th>1994</th>\n",
       "      <th>1995</th>\n",
       "      <th>1996</th>\n",
       "      <th>1997</th>\n",
       "      <th>1998</th>\n",
       "      <th>1999</th>\n",
       "    </tr>\n",
       "    <tr>\n",
       "      <th>Année</th>\n",
       "      <th></th>\n",
       "      <th></th>\n",
       "      <th></th>\n",
       "      <th></th>\n",
       "      <th></th>\n",
       "      <th></th>\n",
       "      <th></th>\n",
       "      <th></th>\n",
       "      <th></th>\n",
       "      <th></th>\n",
       "    </tr>\n",
       "  </thead>\n",
       "  <tbody>\n",
       "    <tr>\n",
       "      <th>PIB</th>\n",
       "      <td>2,6</td>\n",
       "      <td>1,0</td>\n",
       "      <td>1,4</td>\n",
       "      <td>- 0,9</td>\n",
       "      <td>2,2</td>\n",
       "      <td>2,1</td>\n",
       "      <td>1,1</td>\n",
       "      <td>2,2</td>\n",
       "      <td>3,5</td>\n",
       "      <td>3,3</td>\n",
       "    </tr>\n",
       "    <tr>\n",
       "      <th>Consommation</th>\n",
       "      <td>2,5</td>\n",
       "      <td>0,6</td>\n",
       "      <td>1,0</td>\n",
       "      <td>- 0,4</td>\n",
       "      <td>1,4</td>\n",
       "      <td>1,7</td>\n",
       "      <td>1,6</td>\n",
       "      <td>0,4</td>\n",
       "      <td>3,9</td>\n",
       "      <td>3,5</td>\n",
       "    </tr>\n",
       "    <tr>\n",
       "      <th>Année</th>\n",
       "      <td>2000</td>\n",
       "      <td>2001</td>\n",
       "      <td>2002</td>\n",
       "      <td>2003</td>\n",
       "      <td>2004</td>\n",
       "      <td>2005</td>\n",
       "      <td>2006</td>\n",
       "      <td>2007</td>\n",
       "      <td>2008</td>\n",
       "      <td>2009</td>\n",
       "    </tr>\n",
       "    <tr>\n",
       "      <th>PIB</th>\n",
       "      <td>3,9</td>\n",
       "      <td>1,9</td>\n",
       "      <td>1,0</td>\n",
       "      <td>1,1</td>\n",
       "      <td>2,5</td>\n",
       "      <td>1,9</td>\n",
       "      <td>2,2</td>\n",
       "      <td>2,3</td>\n",
       "      <td>0,4</td>\n",
       "      <td>-2,2</td>\n",
       "    </tr>\n",
       "    <tr>\n",
       "      <th>Consommation</th>\n",
       "      <td>3,6</td>\n",
       "      <td>2,6</td>\n",
       "      <td>2,4</td>\n",
       "      <td>2,0</td>\n",
       "      <td>2,5</td>\n",
       "      <td>2,6</td>\n",
       "      <td>2,4</td>\n",
       "      <td>2,5</td>\n",
       "      <td>1,0</td>\n",
       "      <td>0,8</td>\n",
       "    </tr>\n",
       "  </tbody>\n",
       "</table>\n",
       "</div>"
      ],
      "text/plain": [
       "              1990  1991  1992   1993  1994  1995  1996  1997  1998  1999\n",
       "Année                                                                    \n",
       "PIB            2,6   1,0   1,4  - 0,9   2,2   2,1   1,1   2,2   3,5   3,3\n",
       "Consommation   2,5   0,6   1,0  - 0,4   1,4   1,7   1,6   0,4   3,9   3,5\n",
       "Année         2000  2001  2002   2003  2004  2005  2006  2007  2008  2009\n",
       "PIB            3,9   1,9   1,0    1,1   2,5   1,9   2,2   2,3   0,4  -2,2\n",
       "Consommation   3,6   2,6   2,4    2,0   2,5   2,6   2,4   2,5   1,0   0,8"
      ]
     },
     "execution_count": 2,
     "metadata": {},
     "output_type": "execute_result"
    }
   ],
   "source": [
    "donnees_initiale = pd.read_csv(DATA, index_col=0)\n",
    "donnees_initiale"
   ]
  },
  {
   "cell_type": "markdown",
   "metadata": {},
   "source": [
    "#### Fenêtre de données 1"
   ]
  },
  {
   "cell_type": "code",
   "execution_count": 3,
   "metadata": {},
   "outputs": [
    {
     "data": {
      "text/html": [
       "<div>\n",
       "<style scoped>\n",
       "    .dataframe tbody tr th:only-of-type {\n",
       "        vertical-align: middle;\n",
       "    }\n",
       "\n",
       "    .dataframe tbody tr th {\n",
       "        vertical-align: top;\n",
       "    }\n",
       "\n",
       "    .dataframe thead th {\n",
       "        text-align: right;\n",
       "    }\n",
       "</style>\n",
       "<table border=\"1\" class=\"dataframe\">\n",
       "  <thead>\n",
       "    <tr style=\"text-align: right;\">\n",
       "      <th></th>\n",
       "      <th>1990</th>\n",
       "      <th>1991</th>\n",
       "      <th>1992</th>\n",
       "      <th>1993</th>\n",
       "      <th>1994</th>\n",
       "      <th>1995</th>\n",
       "      <th>1996</th>\n",
       "      <th>1997</th>\n",
       "      <th>1998</th>\n",
       "      <th>1999</th>\n",
       "    </tr>\n",
       "    <tr>\n",
       "      <th>Année</th>\n",
       "      <th></th>\n",
       "      <th></th>\n",
       "      <th></th>\n",
       "      <th></th>\n",
       "      <th></th>\n",
       "      <th></th>\n",
       "      <th></th>\n",
       "      <th></th>\n",
       "      <th></th>\n",
       "      <th></th>\n",
       "    </tr>\n",
       "  </thead>\n",
       "  <tbody>\n",
       "    <tr>\n",
       "      <th>PIB</th>\n",
       "      <td>2,6</td>\n",
       "      <td>1,0</td>\n",
       "      <td>1,4</td>\n",
       "      <td>- 0,9</td>\n",
       "      <td>2,2</td>\n",
       "      <td>2,1</td>\n",
       "      <td>1,1</td>\n",
       "      <td>2,2</td>\n",
       "      <td>3,5</td>\n",
       "      <td>3,3</td>\n",
       "    </tr>\n",
       "    <tr>\n",
       "      <th>Consommation</th>\n",
       "      <td>2,5</td>\n",
       "      <td>0,6</td>\n",
       "      <td>1,0</td>\n",
       "      <td>- 0,4</td>\n",
       "      <td>1,4</td>\n",
       "      <td>1,7</td>\n",
       "      <td>1,6</td>\n",
       "      <td>0,4</td>\n",
       "      <td>3,9</td>\n",
       "      <td>3,5</td>\n",
       "    </tr>\n",
       "  </tbody>\n",
       "</table>\n",
       "</div>"
      ],
      "text/plain": [
       "             1990 1991 1992   1993 1994 1995 1996 1997 1998 1999\n",
       "Année                                                           \n",
       "PIB           2,6  1,0  1,4  - 0,9  2,2  2,1  1,1  2,2  3,5  3,3\n",
       "Consommation  2,5  0,6  1,0  - 0,4  1,4  1,7  1,6  0,4  3,9  3,5"
      ]
     },
     "execution_count": 3,
     "metadata": {},
     "output_type": "execute_result"
    }
   ],
   "source": [
    "donnees1 = pd.read_csv(DATA, index_col=0, nrows=2) # On lit les 2 premieres lignes après header (ligne 0 par défaut)\n",
    "donnees1"
   ]
  },
  {
   "cell_type": "markdown",
   "metadata": {},
   "source": [
    "#### Fenêtre de données 2"
   ]
  },
  {
   "cell_type": "code",
   "execution_count": 4,
   "metadata": {},
   "outputs": [
    {
     "data": {
      "text/html": [
       "<div>\n",
       "<style scoped>\n",
       "    .dataframe tbody tr th:only-of-type {\n",
       "        vertical-align: middle;\n",
       "    }\n",
       "\n",
       "    .dataframe tbody tr th {\n",
       "        vertical-align: top;\n",
       "    }\n",
       "\n",
       "    .dataframe thead th {\n",
       "        text-align: right;\n",
       "    }\n",
       "</style>\n",
       "<table border=\"1\" class=\"dataframe\">\n",
       "  <thead>\n",
       "    <tr style=\"text-align: right;\">\n",
       "      <th></th>\n",
       "      <th>2000</th>\n",
       "      <th>2001</th>\n",
       "      <th>2002</th>\n",
       "      <th>2003</th>\n",
       "      <th>2004</th>\n",
       "      <th>2005</th>\n",
       "      <th>2006</th>\n",
       "      <th>2007</th>\n",
       "      <th>2008</th>\n",
       "      <th>2009</th>\n",
       "    </tr>\n",
       "    <tr>\n",
       "      <th>Année</th>\n",
       "      <th></th>\n",
       "      <th></th>\n",
       "      <th></th>\n",
       "      <th></th>\n",
       "      <th></th>\n",
       "      <th></th>\n",
       "      <th></th>\n",
       "      <th></th>\n",
       "      <th></th>\n",
       "      <th></th>\n",
       "    </tr>\n",
       "  </thead>\n",
       "  <tbody>\n",
       "    <tr>\n",
       "      <th>PIB</th>\n",
       "      <td>3,9</td>\n",
       "      <td>1,9</td>\n",
       "      <td>1,0</td>\n",
       "      <td>1,1</td>\n",
       "      <td>2,5</td>\n",
       "      <td>1,9</td>\n",
       "      <td>2,2</td>\n",
       "      <td>2,3</td>\n",
       "      <td>0,4</td>\n",
       "      <td>-2,2</td>\n",
       "    </tr>\n",
       "    <tr>\n",
       "      <th>Consommation</th>\n",
       "      <td>3,6</td>\n",
       "      <td>2,6</td>\n",
       "      <td>2,4</td>\n",
       "      <td>2,0</td>\n",
       "      <td>2,5</td>\n",
       "      <td>2,6</td>\n",
       "      <td>2,4</td>\n",
       "      <td>2,5</td>\n",
       "      <td>1,0</td>\n",
       "      <td>0,8</td>\n",
       "    </tr>\n",
       "  </tbody>\n",
       "</table>\n",
       "</div>"
      ],
      "text/plain": [
       "             2000 2001 2002 2003 2004 2005 2006 2007 2008  2009\n",
       "Année                                                          \n",
       "PIB           3,9  1,9  1,0  1,1  2,5  1,9  2,2  2,3  0,4  -2,2\n",
       "Consommation  3,6  2,6  2,4  2,0  2,5  2,6  2,4  2,5  1,0   0,8"
      ]
     },
     "execution_count": 4,
     "metadata": {},
     "output_type": "execute_result"
    }
   ],
   "source": [
    "donnees2 = pd.read_csv(DATA, index_col=0, header=3, nrows=2) # On définit la 3eme ligne comme header et on lit les 2 lignes qui suivent\n",
    "donnees2"
   ]
  },
  {
   "cell_type": "markdown",
   "metadata": {},
   "source": [
    "#### Concaténation des fenêtres de données"
   ]
  },
  {
   "cell_type": "code",
   "execution_count": 5,
   "metadata": {},
   "outputs": [
    {
     "data": {
      "text/html": [
       "<div>\n",
       "<style scoped>\n",
       "    .dataframe tbody tr th:only-of-type {\n",
       "        vertical-align: middle;\n",
       "    }\n",
       "\n",
       "    .dataframe tbody tr th {\n",
       "        vertical-align: top;\n",
       "    }\n",
       "\n",
       "    .dataframe thead th {\n",
       "        text-align: right;\n",
       "    }\n",
       "</style>\n",
       "<table border=\"1\" class=\"dataframe\">\n",
       "  <thead>\n",
       "    <tr style=\"text-align: right;\">\n",
       "      <th></th>\n",
       "      <th>1990</th>\n",
       "      <th>1991</th>\n",
       "      <th>1992</th>\n",
       "      <th>1993</th>\n",
       "      <th>1994</th>\n",
       "      <th>1995</th>\n",
       "      <th>1996</th>\n",
       "      <th>1997</th>\n",
       "      <th>1998</th>\n",
       "      <th>1999</th>\n",
       "      <th>2000</th>\n",
       "      <th>2001</th>\n",
       "      <th>2002</th>\n",
       "      <th>2003</th>\n",
       "      <th>2004</th>\n",
       "      <th>2005</th>\n",
       "      <th>2006</th>\n",
       "      <th>2007</th>\n",
       "      <th>2008</th>\n",
       "      <th>2009</th>\n",
       "    </tr>\n",
       "    <tr>\n",
       "      <th>Année</th>\n",
       "      <th></th>\n",
       "      <th></th>\n",
       "      <th></th>\n",
       "      <th></th>\n",
       "      <th></th>\n",
       "      <th></th>\n",
       "      <th></th>\n",
       "      <th></th>\n",
       "      <th></th>\n",
       "      <th></th>\n",
       "      <th></th>\n",
       "      <th></th>\n",
       "      <th></th>\n",
       "      <th></th>\n",
       "      <th></th>\n",
       "      <th></th>\n",
       "      <th></th>\n",
       "      <th></th>\n",
       "      <th></th>\n",
       "      <th></th>\n",
       "    </tr>\n",
       "  </thead>\n",
       "  <tbody>\n",
       "    <tr>\n",
       "      <th>PIB</th>\n",
       "      <td>2,6</td>\n",
       "      <td>1,0</td>\n",
       "      <td>1,4</td>\n",
       "      <td>- 0,9</td>\n",
       "      <td>2,2</td>\n",
       "      <td>2,1</td>\n",
       "      <td>1,1</td>\n",
       "      <td>2,2</td>\n",
       "      <td>3,5</td>\n",
       "      <td>3,3</td>\n",
       "      <td>3,9</td>\n",
       "      <td>1,9</td>\n",
       "      <td>1,0</td>\n",
       "      <td>1,1</td>\n",
       "      <td>2,5</td>\n",
       "      <td>1,9</td>\n",
       "      <td>2,2</td>\n",
       "      <td>2,3</td>\n",
       "      <td>0,4</td>\n",
       "      <td>-2,2</td>\n",
       "    </tr>\n",
       "    <tr>\n",
       "      <th>Consommation</th>\n",
       "      <td>2,5</td>\n",
       "      <td>0,6</td>\n",
       "      <td>1,0</td>\n",
       "      <td>- 0,4</td>\n",
       "      <td>1,4</td>\n",
       "      <td>1,7</td>\n",
       "      <td>1,6</td>\n",
       "      <td>0,4</td>\n",
       "      <td>3,9</td>\n",
       "      <td>3,5</td>\n",
       "      <td>3,6</td>\n",
       "      <td>2,6</td>\n",
       "      <td>2,4</td>\n",
       "      <td>2,0</td>\n",
       "      <td>2,5</td>\n",
       "      <td>2,6</td>\n",
       "      <td>2,4</td>\n",
       "      <td>2,5</td>\n",
       "      <td>1,0</td>\n",
       "      <td>0,8</td>\n",
       "    </tr>\n",
       "  </tbody>\n",
       "</table>\n",
       "</div>"
      ],
      "text/plain": [
       "             1990 1991 1992   1993 1994 1995 1996 1997 1998 1999 2000 2001  \\\n",
       "Année                                                                        \n",
       "PIB           2,6  1,0  1,4  - 0,9  2,2  2,1  1,1  2,2  3,5  3,3  3,9  1,9   \n",
       "Consommation  2,5  0,6  1,0  - 0,4  1,4  1,7  1,6  0,4  3,9  3,5  3,6  2,6   \n",
       "\n",
       "             2002 2003 2004 2005 2006 2007 2008  2009  \n",
       "Année                                                  \n",
       "PIB           1,0  1,1  2,5  1,9  2,2  2,3  0,4  -2,2  \n",
       "Consommation  2,4  2,0  2,5  2,6  2,4  2,5  1,0   0,8  "
      ]
     },
     "execution_count": 5,
     "metadata": {},
     "output_type": "execute_result"
    }
   ],
   "source": [
    "# Place the DataFrames side by side\n",
    "donnees = pd.concat([donnees1, donnees2], axis=1)\n",
    "donnees"
   ]
  },
  {
   "cell_type": "markdown",
   "metadata": {},
   "source": [
    "#### Transposition de la matrice de données (individus en lignes, variables en colonnes)"
   ]
  },
  {
   "cell_type": "code",
   "execution_count": 6,
   "metadata": {},
   "outputs": [
    {
     "data": {
      "text/html": [
       "<div>\n",
       "<style scoped>\n",
       "    .dataframe tbody tr th:only-of-type {\n",
       "        vertical-align: middle;\n",
       "    }\n",
       "\n",
       "    .dataframe tbody tr th {\n",
       "        vertical-align: top;\n",
       "    }\n",
       "\n",
       "    .dataframe thead th {\n",
       "        text-align: right;\n",
       "    }\n",
       "</style>\n",
       "<table border=\"1\" class=\"dataframe\">\n",
       "  <thead>\n",
       "    <tr style=\"text-align: right;\">\n",
       "      <th>Année</th>\n",
       "      <th>PIB</th>\n",
       "      <th>Consommation</th>\n",
       "    </tr>\n",
       "  </thead>\n",
       "  <tbody>\n",
       "    <tr>\n",
       "      <th>1990</th>\n",
       "      <td>2,6</td>\n",
       "      <td>2,5</td>\n",
       "    </tr>\n",
       "    <tr>\n",
       "      <th>1991</th>\n",
       "      <td>1,0</td>\n",
       "      <td>0,6</td>\n",
       "    </tr>\n",
       "    <tr>\n",
       "      <th>1992</th>\n",
       "      <td>1,4</td>\n",
       "      <td>1,0</td>\n",
       "    </tr>\n",
       "    <tr>\n",
       "      <th>1993</th>\n",
       "      <td>- 0,9</td>\n",
       "      <td>- 0,4</td>\n",
       "    </tr>\n",
       "    <tr>\n",
       "      <th>1994</th>\n",
       "      <td>2,2</td>\n",
       "      <td>1,4</td>\n",
       "    </tr>\n",
       "    <tr>\n",
       "      <th>1995</th>\n",
       "      <td>2,1</td>\n",
       "      <td>1,7</td>\n",
       "    </tr>\n",
       "    <tr>\n",
       "      <th>1996</th>\n",
       "      <td>1,1</td>\n",
       "      <td>1,6</td>\n",
       "    </tr>\n",
       "    <tr>\n",
       "      <th>1997</th>\n",
       "      <td>2,2</td>\n",
       "      <td>0,4</td>\n",
       "    </tr>\n",
       "    <tr>\n",
       "      <th>1998</th>\n",
       "      <td>3,5</td>\n",
       "      <td>3,9</td>\n",
       "    </tr>\n",
       "    <tr>\n",
       "      <th>1999</th>\n",
       "      <td>3,3</td>\n",
       "      <td>3,5</td>\n",
       "    </tr>\n",
       "    <tr>\n",
       "      <th>2000</th>\n",
       "      <td>3,9</td>\n",
       "      <td>3,6</td>\n",
       "    </tr>\n",
       "    <tr>\n",
       "      <th>2001</th>\n",
       "      <td>1,9</td>\n",
       "      <td>2,6</td>\n",
       "    </tr>\n",
       "    <tr>\n",
       "      <th>2002</th>\n",
       "      <td>1,0</td>\n",
       "      <td>2,4</td>\n",
       "    </tr>\n",
       "    <tr>\n",
       "      <th>2003</th>\n",
       "      <td>1,1</td>\n",
       "      <td>2,0</td>\n",
       "    </tr>\n",
       "    <tr>\n",
       "      <th>2004</th>\n",
       "      <td>2,5</td>\n",
       "      <td>2,5</td>\n",
       "    </tr>\n",
       "    <tr>\n",
       "      <th>2005</th>\n",
       "      <td>1,9</td>\n",
       "      <td>2,6</td>\n",
       "    </tr>\n",
       "    <tr>\n",
       "      <th>2006</th>\n",
       "      <td>2,2</td>\n",
       "      <td>2,4</td>\n",
       "    </tr>\n",
       "    <tr>\n",
       "      <th>2007</th>\n",
       "      <td>2,3</td>\n",
       "      <td>2,5</td>\n",
       "    </tr>\n",
       "    <tr>\n",
       "      <th>2008</th>\n",
       "      <td>0,4</td>\n",
       "      <td>1,0</td>\n",
       "    </tr>\n",
       "    <tr>\n",
       "      <th>2009</th>\n",
       "      <td>-2,2</td>\n",
       "      <td>0,8</td>\n",
       "    </tr>\n",
       "  </tbody>\n",
       "</table>\n",
       "</div>"
      ],
      "text/plain": [
       "Année    PIB Consommation\n",
       "1990     2,6          2,5\n",
       "1991     1,0          0,6\n",
       "1992     1,4          1,0\n",
       "1993   - 0,9        - 0,4\n",
       "1994     2,2          1,4\n",
       "1995     2,1          1,7\n",
       "1996     1,1          1,6\n",
       "1997     2,2          0,4\n",
       "1998     3,5          3,9\n",
       "1999     3,3          3,5\n",
       "2000     3,9          3,6\n",
       "2001     1,9          2,6\n",
       "2002     1,0          2,4\n",
       "2003     1,1          2,0\n",
       "2004     2,5          2,5\n",
       "2005     1,9          2,6\n",
       "2006     2,2          2,4\n",
       "2007     2,3          2,5\n",
       "2008     0,4          1,0\n",
       "2009    -2,2          0,8"
      ]
     },
     "execution_count": 6,
     "metadata": {},
     "output_type": "execute_result"
    }
   ],
   "source": [
    "donnees = donnees.transpose()\n",
    "donnees"
   ]
  },
  {
   "cell_type": "markdown",
   "metadata": {},
   "source": [
    "#### Changer le type des variables en nombre"
   ]
  },
  {
   "cell_type": "code",
   "execution_count": 7,
   "metadata": {},
   "outputs": [
    {
     "data": {
      "text/html": [
       "<div>\n",
       "<style scoped>\n",
       "    .dataframe tbody tr th:only-of-type {\n",
       "        vertical-align: middle;\n",
       "    }\n",
       "\n",
       "    .dataframe tbody tr th {\n",
       "        vertical-align: top;\n",
       "    }\n",
       "\n",
       "    .dataframe thead th {\n",
       "        text-align: right;\n",
       "    }\n",
       "</style>\n",
       "<table border=\"1\" class=\"dataframe\">\n",
       "  <thead>\n",
       "    <tr style=\"text-align: right;\">\n",
       "      <th>Année</th>\n",
       "      <th>PIB</th>\n",
       "      <th>Consommation</th>\n",
       "    </tr>\n",
       "  </thead>\n",
       "  <tbody>\n",
       "    <tr>\n",
       "      <th>1990</th>\n",
       "      <td>2.6</td>\n",
       "      <td>2.5</td>\n",
       "    </tr>\n",
       "    <tr>\n",
       "      <th>1991</th>\n",
       "      <td>1.0</td>\n",
       "      <td>0.6</td>\n",
       "    </tr>\n",
       "    <tr>\n",
       "      <th>1992</th>\n",
       "      <td>1.4</td>\n",
       "      <td>1.0</td>\n",
       "    </tr>\n",
       "    <tr>\n",
       "      <th>1993</th>\n",
       "      <td>-0.9</td>\n",
       "      <td>-0.4</td>\n",
       "    </tr>\n",
       "    <tr>\n",
       "      <th>1994</th>\n",
       "      <td>2.2</td>\n",
       "      <td>1.4</td>\n",
       "    </tr>\n",
       "    <tr>\n",
       "      <th>1995</th>\n",
       "      <td>2.1</td>\n",
       "      <td>1.7</td>\n",
       "    </tr>\n",
       "    <tr>\n",
       "      <th>1996</th>\n",
       "      <td>1.1</td>\n",
       "      <td>1.6</td>\n",
       "    </tr>\n",
       "    <tr>\n",
       "      <th>1997</th>\n",
       "      <td>2.2</td>\n",
       "      <td>0.4</td>\n",
       "    </tr>\n",
       "    <tr>\n",
       "      <th>1998</th>\n",
       "      <td>3.5</td>\n",
       "      <td>3.9</td>\n",
       "    </tr>\n",
       "    <tr>\n",
       "      <th>1999</th>\n",
       "      <td>3.3</td>\n",
       "      <td>3.5</td>\n",
       "    </tr>\n",
       "    <tr>\n",
       "      <th>2000</th>\n",
       "      <td>3.9</td>\n",
       "      <td>3.6</td>\n",
       "    </tr>\n",
       "    <tr>\n",
       "      <th>2001</th>\n",
       "      <td>1.9</td>\n",
       "      <td>2.6</td>\n",
       "    </tr>\n",
       "    <tr>\n",
       "      <th>2002</th>\n",
       "      <td>1.0</td>\n",
       "      <td>2.4</td>\n",
       "    </tr>\n",
       "    <tr>\n",
       "      <th>2003</th>\n",
       "      <td>1.1</td>\n",
       "      <td>2.0</td>\n",
       "    </tr>\n",
       "    <tr>\n",
       "      <th>2004</th>\n",
       "      <td>2.5</td>\n",
       "      <td>2.5</td>\n",
       "    </tr>\n",
       "    <tr>\n",
       "      <th>2005</th>\n",
       "      <td>1.9</td>\n",
       "      <td>2.6</td>\n",
       "    </tr>\n",
       "    <tr>\n",
       "      <th>2006</th>\n",
       "      <td>2.2</td>\n",
       "      <td>2.4</td>\n",
       "    </tr>\n",
       "    <tr>\n",
       "      <th>2007</th>\n",
       "      <td>2.3</td>\n",
       "      <td>2.5</td>\n",
       "    </tr>\n",
       "    <tr>\n",
       "      <th>2008</th>\n",
       "      <td>0.4</td>\n",
       "      <td>1.0</td>\n",
       "    </tr>\n",
       "    <tr>\n",
       "      <th>2009</th>\n",
       "      <td>-2.2</td>\n",
       "      <td>0.8</td>\n",
       "    </tr>\n",
       "  </tbody>\n",
       "</table>\n",
       "</div>"
      ],
      "text/plain": [
       "Année  PIB  Consommation\n",
       "1990   2.6           2.5\n",
       "1991   1.0           0.6\n",
       "1992   1.4           1.0\n",
       "1993  -0.9          -0.4\n",
       "1994   2.2           1.4\n",
       "1995   2.1           1.7\n",
       "1996   1.1           1.6\n",
       "1997   2.2           0.4\n",
       "1998   3.5           3.9\n",
       "1999   3.3           3.5\n",
       "2000   3.9           3.6\n",
       "2001   1.9           2.6\n",
       "2002   1.0           2.4\n",
       "2003   1.1           2.0\n",
       "2004   2.5           2.5\n",
       "2005   1.9           2.6\n",
       "2006   2.2           2.4\n",
       "2007   2.3           2.5\n",
       "2008   0.4           1.0\n",
       "2009  -2.2           0.8"
      ]
     },
     "execution_count": 7,
     "metadata": {},
     "output_type": "execute_result"
    }
   ],
   "source": [
    "def convert_string_column_to_numeric(colonne):\n",
    "    colonne_string_avec_point = colonne.str.replace(\",\",\".\").str.replace(\" \",\"\")\n",
    "    colonne_numerique = pd.to_numeric(colonne_string_avec_point)\n",
    "    colonne_numerique = colonne_numerique.fillna(0) # remplace NaN par 0\n",
    "    return colonne_numerique\n",
    "\n",
    "labels_y = donnees.columns\n",
    "for l in labels_y:\n",
    "    donnees[l] = convert_string_column_to_numeric(donnees[l])\n",
    "donnees"
   ]
  },
  {
   "cell_type": "markdown",
   "metadata": {},
   "source": [
    "## Question 1"
   ]
  },
  {
   "cell_type": "markdown",
   "metadata": {},
   "source": [
    "### Calculer les séries des indices du PIB et de la Consommation privée (base 1989)"
   ]
  },
  {
   "cell_type": "markdown",
   "metadata": {},
   "source": [
    "On prend pour base de calcul des indices l'année 1989, c'est à dire, qu'on considère en 1989 :\n",
    "- L'indice du PIB à 100\n",
    "- L'indice de la consommation privée à 100"
   ]
  },
  {
   "cell_type": "code",
   "execution_count": 8,
   "metadata": {},
   "outputs": [
    {
     "data": {
      "text/html": [
       "<div>\n",
       "<style scoped>\n",
       "    .dataframe tbody tr th:only-of-type {\n",
       "        vertical-align: middle;\n",
       "    }\n",
       "\n",
       "    .dataframe tbody tr th {\n",
       "        vertical-align: top;\n",
       "    }\n",
       "\n",
       "    .dataframe thead th {\n",
       "        text-align: right;\n",
       "    }\n",
       "</style>\n",
       "<table border=\"1\" class=\"dataframe\">\n",
       "  <thead>\n",
       "    <tr style=\"text-align: right;\">\n",
       "      <th>Année</th>\n",
       "      <th>PIB</th>\n",
       "      <th>Consommation</th>\n",
       "      <th>Indice PIB</th>\n",
       "      <th>Indice Consommation</th>\n",
       "    </tr>\n",
       "  </thead>\n",
       "  <tbody>\n",
       "    <tr>\n",
       "      <th>1990</th>\n",
       "      <td>2.6</td>\n",
       "      <td>2.5</td>\n",
       "      <td>102.600000</td>\n",
       "      <td>102.500000</td>\n",
       "    </tr>\n",
       "    <tr>\n",
       "      <th>1991</th>\n",
       "      <td>1.0</td>\n",
       "      <td>0.6</td>\n",
       "      <td>103.626000</td>\n",
       "      <td>103.115000</td>\n",
       "    </tr>\n",
       "    <tr>\n",
       "      <th>1992</th>\n",
       "      <td>1.4</td>\n",
       "      <td>1.0</td>\n",
       "      <td>105.076764</td>\n",
       "      <td>104.146150</td>\n",
       "    </tr>\n",
       "    <tr>\n",
       "      <th>1993</th>\n",
       "      <td>-0.9</td>\n",
       "      <td>-0.4</td>\n",
       "      <td>104.131073</td>\n",
       "      <td>103.729565</td>\n",
       "    </tr>\n",
       "    <tr>\n",
       "      <th>1994</th>\n",
       "      <td>2.2</td>\n",
       "      <td>1.4</td>\n",
       "      <td>106.421957</td>\n",
       "      <td>105.181779</td>\n",
       "    </tr>\n",
       "    <tr>\n",
       "      <th>1995</th>\n",
       "      <td>2.1</td>\n",
       "      <td>1.7</td>\n",
       "      <td>108.656818</td>\n",
       "      <td>106.969870</td>\n",
       "    </tr>\n",
       "    <tr>\n",
       "      <th>1996</th>\n",
       "      <td>1.1</td>\n",
       "      <td>1.6</td>\n",
       "      <td>109.852043</td>\n",
       "      <td>108.681387</td>\n",
       "    </tr>\n",
       "    <tr>\n",
       "      <th>1997</th>\n",
       "      <td>2.2</td>\n",
       "      <td>0.4</td>\n",
       "      <td>112.268788</td>\n",
       "      <td>109.116113</td>\n",
       "    </tr>\n",
       "    <tr>\n",
       "      <th>1998</th>\n",
       "      <td>3.5</td>\n",
       "      <td>3.9</td>\n",
       "      <td>116.198195</td>\n",
       "      <td>113.371641</td>\n",
       "    </tr>\n",
       "    <tr>\n",
       "      <th>1999</th>\n",
       "      <td>3.3</td>\n",
       "      <td>3.5</td>\n",
       "      <td>120.032736</td>\n",
       "      <td>117.339649</td>\n",
       "    </tr>\n",
       "    <tr>\n",
       "      <th>2000</th>\n",
       "      <td>3.9</td>\n",
       "      <td>3.6</td>\n",
       "      <td>124.714012</td>\n",
       "      <td>121.563876</td>\n",
       "    </tr>\n",
       "    <tr>\n",
       "      <th>2001</th>\n",
       "      <td>1.9</td>\n",
       "      <td>2.6</td>\n",
       "      <td>127.083579</td>\n",
       "      <td>124.724537</td>\n",
       "    </tr>\n",
       "    <tr>\n",
       "      <th>2002</th>\n",
       "      <td>1.0</td>\n",
       "      <td>2.4</td>\n",
       "      <td>128.354414</td>\n",
       "      <td>127.717926</td>\n",
       "    </tr>\n",
       "    <tr>\n",
       "      <th>2003</th>\n",
       "      <td>1.1</td>\n",
       "      <td>2.0</td>\n",
       "      <td>129.766313</td>\n",
       "      <td>130.272284</td>\n",
       "    </tr>\n",
       "    <tr>\n",
       "      <th>2004</th>\n",
       "      <td>2.5</td>\n",
       "      <td>2.5</td>\n",
       "      <td>133.010471</td>\n",
       "      <td>133.529092</td>\n",
       "    </tr>\n",
       "    <tr>\n",
       "      <th>2005</th>\n",
       "      <td>1.9</td>\n",
       "      <td>2.6</td>\n",
       "      <td>135.537670</td>\n",
       "      <td>137.000848</td>\n",
       "    </tr>\n",
       "    <tr>\n",
       "      <th>2006</th>\n",
       "      <td>2.2</td>\n",
       "      <td>2.4</td>\n",
       "      <td>138.519499</td>\n",
       "      <td>140.288868</td>\n",
       "    </tr>\n",
       "    <tr>\n",
       "      <th>2007</th>\n",
       "      <td>2.3</td>\n",
       "      <td>2.5</td>\n",
       "      <td>141.705447</td>\n",
       "      <td>143.796090</td>\n",
       "    </tr>\n",
       "    <tr>\n",
       "      <th>2008</th>\n",
       "      <td>0.4</td>\n",
       "      <td>1.0</td>\n",
       "      <td>142.272269</td>\n",
       "      <td>145.234051</td>\n",
       "    </tr>\n",
       "    <tr>\n",
       "      <th>2009</th>\n",
       "      <td>-2.2</td>\n",
       "      <td>0.8</td>\n",
       "      <td>139.142279</td>\n",
       "      <td>146.395923</td>\n",
       "    </tr>\n",
       "  </tbody>\n",
       "</table>\n",
       "</div>"
      ],
      "text/plain": [
       "Année  PIB  Consommation  Indice PIB  Indice Consommation\n",
       "1990   2.6           2.5  102.600000           102.500000\n",
       "1991   1.0           0.6  103.626000           103.115000\n",
       "1992   1.4           1.0  105.076764           104.146150\n",
       "1993  -0.9          -0.4  104.131073           103.729565\n",
       "1994   2.2           1.4  106.421957           105.181779\n",
       "1995   2.1           1.7  108.656818           106.969870\n",
       "1996   1.1           1.6  109.852043           108.681387\n",
       "1997   2.2           0.4  112.268788           109.116113\n",
       "1998   3.5           3.9  116.198195           113.371641\n",
       "1999   3.3           3.5  120.032736           117.339649\n",
       "2000   3.9           3.6  124.714012           121.563876\n",
       "2001   1.9           2.6  127.083579           124.724537\n",
       "2002   1.0           2.4  128.354414           127.717926\n",
       "2003   1.1           2.0  129.766313           130.272284\n",
       "2004   2.5           2.5  133.010471           133.529092\n",
       "2005   1.9           2.6  135.537670           137.000848\n",
       "2006   2.2           2.4  138.519499           140.288868\n",
       "2007   2.3           2.5  141.705447           143.796090\n",
       "2008   0.4           1.0  142.272269           145.234051\n",
       "2009  -2.2           0.8  139.142279           146.395923"
      ]
     },
     "execution_count": 8,
     "metadata": {},
     "output_type": "execute_result"
    }
   ],
   "source": [
    "def calculer_indice(base, variations):\n",
    "    indices = []\n",
    "    somme = base\n",
    "    for v in variations:\n",
    "        somme = somme + somme * v / 100\n",
    "        indices.append(somme)\n",
    "    return indices\n",
    "\n",
    "donnees['Indice PIB'] = calculer_indice(100, donnees['PIB'].tolist())\n",
    "donnees['Indice Consommation'] = calculer_indice(100, donnees['Consommation'].tolist())\n",
    "donnees"
   ]
  },
  {
   "cell_type": "markdown",
   "metadata": {},
   "source": [
    "### Coefficient de corrélation linéaire entre les indices du PIB et de la consommation privée"
   ]
  },
  {
   "cell_type": "code",
   "execution_count": 9,
   "metadata": {},
   "outputs": [
    {
     "data": {
      "text/html": [
       "<div>\n",
       "<style scoped>\n",
       "    .dataframe tbody tr th:only-of-type {\n",
       "        vertical-align: middle;\n",
       "    }\n",
       "\n",
       "    .dataframe tbody tr th {\n",
       "        vertical-align: top;\n",
       "    }\n",
       "\n",
       "    .dataframe thead th {\n",
       "        text-align: right;\n",
       "    }\n",
       "</style>\n",
       "<table border=\"1\" class=\"dataframe\">\n",
       "  <thead>\n",
       "    <tr style=\"text-align: right;\">\n",
       "      <th>Année</th>\n",
       "      <th>Indice PIB</th>\n",
       "      <th>Indice Consommation</th>\n",
       "    </tr>\n",
       "    <tr>\n",
       "      <th>Année</th>\n",
       "      <th></th>\n",
       "      <th></th>\n",
       "    </tr>\n",
       "  </thead>\n",
       "  <tbody>\n",
       "    <tr>\n",
       "      <th>Indice PIB</th>\n",
       "      <td>1.000000</td>\n",
       "      <td>0.991854</td>\n",
       "    </tr>\n",
       "    <tr>\n",
       "      <th>Indice Consommation</th>\n",
       "      <td>0.991854</td>\n",
       "      <td>1.000000</td>\n",
       "    </tr>\n",
       "  </tbody>\n",
       "</table>\n",
       "</div>"
      ],
      "text/plain": [
       "Année                Indice PIB  Indice Consommation\n",
       "Année                                               \n",
       "Indice PIB             1.000000             0.991854\n",
       "Indice Consommation    0.991854             1.000000"
      ]
     },
     "execution_count": 9,
     "metadata": {},
     "output_type": "execute_result"
    }
   ],
   "source": [
    "# Selection des deux colonnes d'indice et calcul du coefficient de corrélation linéaire\n",
    "tableau_corr = donnees[['Indice PIB','Indice Consommation']].corr()\n",
    "tableau_corr"
   ]
  },
  {
   "cell_type": "code",
   "execution_count": 10,
   "metadata": {},
   "outputs": [
    {
     "data": {
      "text/plain": [
       "0.9918542762033458"
      ]
     },
     "execution_count": 10,
     "metadata": {},
     "output_type": "execute_result"
    }
   ],
   "source": [
    "r = tableau_corr['Indice PIB']['Indice Consommation']\n",
    "r"
   ]
  },
  {
   "cell_type": "markdown",
   "metadata": {},
   "source": [
    "## Question 2"
   ]
  },
  {
   "cell_type": "markdown",
   "metadata": {},
   "source": [
    "### Interprétation du coefficient de corrélation linéaire"
   ]
  },
  {
   "cell_type": "markdown",
   "metadata": {},
   "source": [
    "***Rappel : Coefficient de corrélation linéaire - Interprétation***  \n",
    "![Rappel - Coefficient de corrélation linéaire](../images/Rappels/rappel_coefficient_correlation_lineaire_interpretation.PNG)\n"
   ]
  },
  {
   "cell_type": "markdown",
   "metadata": {},
   "source": [
    "Le coefficient de corrélation r est proche de 1 donc il existe une forte relation linéaire positive entre les indices du PIB et de la consommation privée."
   ]
  },
  {
   "cell_type": "markdown",
   "metadata": {},
   "source": [
    "### Equation de la droite des moindres carrés D (de Y en X) : indice de Consommation privée en fonction de l'indice de PIB"
   ]
  },
  {
   "cell_type": "markdown",
   "metadata": {},
   "source": [
    "***Rappel : Ajustement linéaire - Droite des moindres carrés***  \n",
    "![Rappel - Ajustement linéaire - Droite des moindres carrées](../images/Rappels/rappel_ajustement_lineaire_droite_des_moindres_carres.PNG)"
   ]
  },
  {
   "cell_type": "markdown",
   "metadata": {},
   "source": [
    "On cherche à exprimer Y en fonction de X :\n",
    "- Y : indice de Consommation privée   \n",
    "- X : indice de PIB"
   ]
  },
  {
   "cell_type": "code",
   "execution_count": 11,
   "metadata": {},
   "outputs": [
    {
     "name": "stdout",
     "output_type": "stream",
     "text": [
      "Equation de la droite d'ajustement linéaire des moindres carrés : y = 1.1047484659317148x + -12.936329550632607\n"
     ]
    }
   ],
   "source": [
    "Y = donnees['Indice Consommation']\n",
    "X = donnees['Indice PIB']\n",
    "moyenne_y, ecart_type_y = Y.mean(), Y.std()\n",
    "moyenne_x, ecart_type_x = X.mean(), X.std()\n",
    "\n",
    "## Calcul de l'équation de la droite D à partir de r\n",
    "# Calcul de a\n",
    "a = r * ecart_type_y / ecart_type_x \n",
    "# Calcul de b\n",
    "b = moyenne_y - a * moyenne_x\n",
    "# Equation de la droite d'ajustement linéaire \n",
    "print(\"Equation de la droite d'ajustement linéaire des moindres carrés : y = {}x + {}\".format(a,b))"
   ]
  },
  {
   "cell_type": "markdown",
   "metadata": {},
   "source": [
    "### Graphique du nuage de points (scatterplots) et Droite des moindres carrés D (least squares line)"
   ]
  },
  {
   "cell_type": "code",
   "execution_count": 12,
   "metadata": {},
   "outputs": [
    {
     "data": {
      "image/png": "[encoded data removed]",
      "text/plain": [
       "<Figure size 504x432 with 1 Axes>"
      ]
     },
     "metadata": {
      "needs_background": "light"
     },
     "output_type": "display_data"
    }
   ],
   "source": [
    "# Plotting Values and Regression Line\n",
    "max_x = np.max(X) + 5\n",
    "min_x = np.min(X) - 5\n",
    "\n",
    "# Calculating line values x and y\n",
    "x = np.linspace(min_x, max_x)\n",
    "y = b + a * x\n",
    "\n",
    "# Ploting Scatter Points\n",
    "ax = donnees.plot.scatter(x='Indice PIB', y='Indice Consommation', figsize=(7, 6), marker='$\\u25EF$')\n",
    "\n",
    "# Ploting Line\n",
    "plt.plot(x, y, color='#58b970', label='Regression Line')\n",
    "\n",
    "# Nom des axes\n",
    "ax.set_xlabel('Indice de PIB')\n",
    "ax.set_ylabel('Indice de Consommation privée')\n",
    "\n",
    "plt.tight_layout()\n",
    "plt.show()"
   ]
  },
  {
   "cell_type": "markdown",
   "metadata": {},
   "source": [
    "### Part de variation de l'indice de la consommation privée expliquée par la relation linéaire"
   ]
  },
  {
   "cell_type": "markdown",
   "metadata": {},
   "source": [
    "***Rappel : Proportion de variation expliquée par une relation linéaire***   \n",
    "![Rappel - Proportion de variation expliquée par une relation linéaire 1](../images/Rappels/rappel_proportion_de_variation_expliquee_par_relation_lineaire_1.PNG)\n",
    "![Rappel - Proportion de variation expliquée par une relation linéaire 2](../images/Rappels/rappel_proportion_de_variation_expliquee_par_relation_lineaire_2.PNG)\n",
    "![Rappel - Proportion de variation expliquée par une relation linéaire 3](../images/Rappels/rappel_proportion_de_variation_expliquee_par_relation_lineaire_3.PNG)"
   ]
  },
  {
   "cell_type": "code",
   "execution_count": 13,
   "metadata": {},
   "outputs": [
    {
     "data": {
      "text/plain": [
       "0.9837749052228629"
      ]
     },
     "execution_count": 13,
     "metadata": {},
     "output_type": "execute_result"
    }
   ],
   "source": [
    "variation_expliquee = r**2\n",
    "variation_expliquee"
   ]
  },
  {
   "cell_type": "markdown",
   "metadata": {},
   "source": [
    "## Question 3"
   ]
  },
  {
   "cell_type": "markdown",
   "metadata": {},
   "source": [
    "### Coefficient de corrélation linéaire entre les variations du PIB et les variations de la consommation privée"
   ]
  },
  {
   "cell_type": "code",
   "execution_count": 14,
   "metadata": {},
   "outputs": [
    {
     "data": {
      "text/html": [
       "<div>\n",
       "<style scoped>\n",
       "    .dataframe tbody tr th:only-of-type {\n",
       "        vertical-align: middle;\n",
       "    }\n",
       "\n",
       "    .dataframe tbody tr th {\n",
       "        vertical-align: top;\n",
       "    }\n",
       "\n",
       "    .dataframe thead th {\n",
       "        text-align: right;\n",
       "    }\n",
       "</style>\n",
       "<table border=\"1\" class=\"dataframe\">\n",
       "  <thead>\n",
       "    <tr style=\"text-align: right;\">\n",
       "      <th>Année</th>\n",
       "      <th>PIB</th>\n",
       "      <th>Consommation</th>\n",
       "    </tr>\n",
       "    <tr>\n",
       "      <th>Année</th>\n",
       "      <th></th>\n",
       "      <th></th>\n",
       "    </tr>\n",
       "  </thead>\n",
       "  <tbody>\n",
       "    <tr>\n",
       "      <th>PIB</th>\n",
       "      <td>1.000000</td>\n",
       "      <td>0.750502</td>\n",
       "    </tr>\n",
       "    <tr>\n",
       "      <th>Consommation</th>\n",
       "      <td>0.750502</td>\n",
       "      <td>1.000000</td>\n",
       "    </tr>\n",
       "  </tbody>\n",
       "</table>\n",
       "</div>"
      ],
      "text/plain": [
       "Année              PIB  Consommation\n",
       "Année                               \n",
       "PIB           1.000000      0.750502\n",
       "Consommation  0.750502      1.000000"
      ]
     },
     "execution_count": 14,
     "metadata": {},
     "output_type": "execute_result"
    }
   ],
   "source": [
    "# Selection des deux colonnes d'indice et calcul du coefficient de corrélation linéaire\n",
    "tableau_corr2 = donnees[['PIB','Consommation']].corr()\n",
    "tableau_corr2"
   ]
  },
  {
   "cell_type": "code",
   "execution_count": 15,
   "metadata": {},
   "outputs": [
    {
     "data": {
      "text/plain": [
       "0.750502198745323"
      ]
     },
     "execution_count": 15,
     "metadata": {},
     "output_type": "execute_result"
    }
   ],
   "source": [
    "r2 = tableau_corr2['PIB']['Consommation']\n",
    "r2"
   ]
  },
  {
   "cell_type": "markdown",
   "metadata": {},
   "source": [
    "### Equation de la droite des moindres carrés D2 (de Y en X) : variation de consommation privée en fonction de la variation du PIB"
   ]
  },
  {
   "cell_type": "markdown",
   "metadata": {},
   "source": [
    "On cherche à exprimer Y en fonction de X :\n",
    "- Y : variation de Consommation privée   \n",
    "- X : variation de PIB"
   ]
  },
  {
   "cell_type": "code",
   "execution_count": 16,
   "metadata": {},
   "outputs": [
    {
     "name": "stdout",
     "output_type": "stream",
     "text": [
      "Equation de la droite d'ajustement linéaire des moindres carrés : y = 0.5950742717510126x + 0.9332505948170539\n"
     ]
    }
   ],
   "source": [
    "Y2 = donnees['Consommation']\n",
    "X2 = donnees['PIB']\n",
    "moyenne_y2, ecart_type_y2 = Y2.mean(), Y2.std()\n",
    "moyenne_x2, ecart_type_x2 = X2.mean(), X2.std()\n",
    "\n",
    "## Calcul de l'équation de la droite D à partir de r\n",
    "# Calcul de a\n",
    "a2 = r2 * ecart_type_y2 / ecart_type_x2 \n",
    "# Calcul de b\n",
    "b2 = moyenne_y2 - a2 * moyenne_x2\n",
    "# Equation de la droite d'ajustement linéaire \n",
    "print(\"Equation de la droite d'ajustement linéaire des moindres carrés : y = {}x + {}\".format(a2,b2))"
   ]
  },
  {
   "cell_type": "markdown",
   "metadata": {},
   "source": [
    "### Graphique du nuage de points (scatterplots) et Droite des moindres carrés D2 (least squares line)"
   ]
  },
  {
   "cell_type": "code",
   "execution_count": 17,
   "metadata": {},
   "outputs": [
    {
     "data": {
      "image/png": "[encoded data removed]",
      "text/plain": [
       "<Figure size 504x432 with 1 Axes>"
      ]
     },
     "metadata": {
      "needs_background": "light"
     },
     "output_type": "display_data"
    }
   ],
   "source": [
    "# Plotting Values and Regression Line\n",
    "max_x2 = np.max(X2) + 5\n",
    "min_x2 = np.min(X2) - 5\n",
    "\n",
    "# Calculating line values x and y\n",
    "x2 = np.linspace(min_x2, max_x2)\n",
    "y2 = b2 + a2 * x2\n",
    "\n",
    "# Ploting Scatter Points\n",
    "ax2 = donnees.plot.scatter(x='PIB', y='Consommation', figsize=(7, 6), marker='$\\u25EF$')\n",
    "\n",
    "# Ploting Line\n",
    "plt.plot(x2, y2, color='#58b970', label='Regression Line')\n",
    "\n",
    "# Nom des axes\n",
    "ax2.set_xlabel('Variations de PIB')\n",
    "ax2.set_ylabel('Variations de Consommation privée')\n",
    "\n",
    "plt.tight_layout()\n",
    "plt.show()"
   ]
  },
  {
   "cell_type": "markdown",
   "metadata": {},
   "source": [
    "## Question 4"
   ]
  },
  {
   "cell_type": "markdown",
   "metadata": {},
   "source": [
    "Les variables indice de volume du PIB et indice de volume de la consommation privée sont liées linéairement au temps :\n",
    "- r2 (indice PIB, temps) ≈ 0,974\n",
    "- r2 (indice Consommation, temps) ≈ 0,964\n",
    "\n",
    "La liaison linéaire entre ces deux indices est due à leur liaison linéaire avec une même 3e variable qui est le temps.   \n",
    "L’étude des variations relatives permet d’éliminer la tendance. On dit alors qu’on a « stationnarisé » les séries. "
   ]
  }
 ],
 "metadata": {
  "kernelspec": {
   "display_name": "Python 3",
   "language": "python",
   "name": "python3"
  },
  "language_info": {
   "codemirror_mode": {
    "name": "ipython",
    "version": 3
   },
   "file_extension": ".py",
   "mimetype": "text/x-python",
   "name": "python",
   "nbconvert_exporter": "python",
   "pygments_lexer": "ipython3",
   "version": "3.8.3"
  }
 },
 "nbformat": 4,
 "nbformat_minor": 4
}
