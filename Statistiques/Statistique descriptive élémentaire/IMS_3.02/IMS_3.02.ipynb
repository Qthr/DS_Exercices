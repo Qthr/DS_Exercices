{
 "cells": [
  {
   "cell_type": "markdown",
   "metadata": {},
   "source": [
    "# IMS_3.02\n",
    "- **Description** : Calcul de distributions à deux variables (conjointes, marginales, conditionnelles), de leurs indicateurs de tendance centrale, et ajustement linéaire (moindres carrés) à partir du coefficient de corrélation linéaire\n",
    "- **Source** : Introduction à la méthode statistique - Catherine Pardoux  \n",
    "- **Chapitre** :  3 - Distributions statistiques à deux caractères\n",
    "- **Exercice** : 3.2  "
   ]
  },
  {
   "cell_type": "markdown",
   "metadata": {},
   "source": [
    "## Enoncé\n",
    "![Enonce IMS_3.02](../images/Enonces/IMS_3.02_enonce.PNG)"
   ]
  },
  {
   "cell_type": "markdown",
   "metadata": {},
   "source": [
    "## Question 1\n",
    "- Population : 100 salariés femmes et 140 salariés hommes d'une entreprise\n",
    "- Unité statistique : un homme ou une femme parmi les 240 salariés\n",
    "- Caractères étudiés : \n",
    "    - X : Salaire mensuel brut (en €)\n",
    "    - Y : Ancienneté (en années)\n",
    "- Natures des caractères étudiés : \n",
    "    - X :  Variable quantitative continue\n",
    "    - Y :  Variable quantitative continue"
   ]
  },
  {
   "cell_type": "code",
   "execution_count": 2,
   "metadata": {},
   "outputs": [],
   "source": [
    "import pandas as pd\n",
    "import numpy as np\n",
    "import re\n",
    "import math\n",
    "import matplotlib.pyplot as plt\n",
    "\n",
    "\n",
    "DATA_F = \"IMS_3.02_donnees_femmes.csv\"\n",
    "DATA_H = \"IMS_3.02_donnees_hommes.csv\""
   ]
  },
  {
   "cell_type": "code",
   "execution_count": 3,
   "metadata": {},
   "outputs": [],
   "source": [
    "# Data Wrangling\n",
    "def convert_string_column_to_numeric(colonne):\n",
    "    return colonne.fillna(0) # remplace NaN par 0"
   ]
  },
  {
   "cell_type": "markdown",
   "metadata": {},
   "source": [
    "### Chargement données femmes"
   ]
  },
  {
   "cell_type": "code",
   "execution_count": 4,
   "metadata": {},
   "outputs": [
    {
     "data": {
      "text/html": [
       "<div>\n",
       "<style scoped>\n",
       "    .dataframe tbody tr th:only-of-type {\n",
       "        vertical-align: middle;\n",
       "    }\n",
       "\n",
       "    .dataframe tbody tr th {\n",
       "        vertical-align: top;\n",
       "    }\n",
       "\n",
       "    .dataframe thead th {\n",
       "        text-align: right;\n",
       "    }\n",
       "</style>\n",
       "<table border=\"1\" class=\"dataframe\">\n",
       "  <thead>\n",
       "    <tr style=\"text-align: right;\">\n",
       "      <th></th>\n",
       "      <th>[0:4[</th>\n",
       "      <th>[4:8[</th>\n",
       "      <th>[8:12[</th>\n",
       "      <th>[12:20[</th>\n",
       "      <th>[20:28]</th>\n",
       "    </tr>\n",
       "    <tr>\n",
       "      <th>X\\Y</th>\n",
       "      <th></th>\n",
       "      <th></th>\n",
       "      <th></th>\n",
       "      <th></th>\n",
       "      <th></th>\n",
       "    </tr>\n",
       "  </thead>\n",
       "  <tbody>\n",
       "    <tr>\n",
       "      <th>[1200:1800[</th>\n",
       "      <td>12.0</td>\n",
       "      <td>10.0</td>\n",
       "      <td>10.0</td>\n",
       "      <td>8</td>\n",
       "      <td>0.0</td>\n",
       "    </tr>\n",
       "    <tr>\n",
       "      <th>[1800:2200[</th>\n",
       "      <td>8.0</td>\n",
       "      <td>14.0</td>\n",
       "      <td>5.0</td>\n",
       "      <td>4</td>\n",
       "      <td>4.0</td>\n",
       "    </tr>\n",
       "    <tr>\n",
       "      <th>[2200:3000[</th>\n",
       "      <td>0.0</td>\n",
       "      <td>6.0</td>\n",
       "      <td>5.0</td>\n",
       "      <td>6</td>\n",
       "      <td>3.0</td>\n",
       "    </tr>\n",
       "    <tr>\n",
       "      <th>[3000:4200]</th>\n",
       "      <td>0.0</td>\n",
       "      <td>0.0</td>\n",
       "      <td>0.0</td>\n",
       "      <td>2</td>\n",
       "      <td>3.0</td>\n",
       "    </tr>\n",
       "  </tbody>\n",
       "</table>\n",
       "</div>"
      ],
      "text/plain": [
       "             [0:4[  [4:8[  [8:12[  [12:20[  [20:28]\n",
       "X\\Y                                                \n",
       "[1200:1800[   12.0   10.0    10.0        8      0.0\n",
       "[1800:2200[    8.0   14.0     5.0        4      4.0\n",
       "[2200:3000[    0.0    6.0     5.0        6      3.0\n",
       "[3000:4200]    0.0    0.0     0.0        2      3.0"
      ]
     },
     "execution_count": 4,
     "metadata": {},
     "output_type": "execute_result"
    }
   ],
   "source": [
    "donnees_f = pd.read_csv(DATA_F, index_col=0)\n",
    "labels_y = donnees_f.columns\n",
    "for l in labels_y:\n",
    "    donnees_f[l] = convert_string_column_to_numeric(donnees_f[l])\n",
    "donnees_f"
   ]
  },
  {
   "cell_type": "markdown",
   "metadata": {},
   "source": [
    "### Chargement données hommes"
   ]
  },
  {
   "cell_type": "code",
   "execution_count": 5,
   "metadata": {},
   "outputs": [
    {
     "data": {
      "text/html": [
       "<div>\n",
       "<style scoped>\n",
       "    .dataframe tbody tr th:only-of-type {\n",
       "        vertical-align: middle;\n",
       "    }\n",
       "\n",
       "    .dataframe tbody tr th {\n",
       "        vertical-align: top;\n",
       "    }\n",
       "\n",
       "    .dataframe thead th {\n",
       "        text-align: right;\n",
       "    }\n",
       "</style>\n",
       "<table border=\"1\" class=\"dataframe\">\n",
       "  <thead>\n",
       "    <tr style=\"text-align: right;\">\n",
       "      <th></th>\n",
       "      <th>[0:4[</th>\n",
       "      <th>[4:8[</th>\n",
       "      <th>[8:12[</th>\n",
       "      <th>[12:20[</th>\n",
       "      <th>[20:28]</th>\n",
       "    </tr>\n",
       "    <tr>\n",
       "      <th>Y\\X</th>\n",
       "      <th></th>\n",
       "      <th></th>\n",
       "      <th></th>\n",
       "      <th></th>\n",
       "      <th></th>\n",
       "    </tr>\n",
       "  </thead>\n",
       "  <tbody>\n",
       "    <tr>\n",
       "      <th>[1200:1800[</th>\n",
       "      <td>10.0</td>\n",
       "      <td>6</td>\n",
       "      <td>0.0</td>\n",
       "      <td>0.0</td>\n",
       "      <td>0.0</td>\n",
       "    </tr>\n",
       "    <tr>\n",
       "      <th>[1800:2200[</th>\n",
       "      <td>4.0</td>\n",
       "      <td>9</td>\n",
       "      <td>18.0</td>\n",
       "      <td>8.0</td>\n",
       "      <td>8.0</td>\n",
       "    </tr>\n",
       "    <tr>\n",
       "      <th>[2200:3000[</th>\n",
       "      <td>4.0</td>\n",
       "      <td>8</td>\n",
       "      <td>16.0</td>\n",
       "      <td>12.0</td>\n",
       "      <td>4.0</td>\n",
       "    </tr>\n",
       "    <tr>\n",
       "      <th>[3000:4200]</th>\n",
       "      <td>0.0</td>\n",
       "      <td>5</td>\n",
       "      <td>8.0</td>\n",
       "      <td>8.0</td>\n",
       "      <td>12.0</td>\n",
       "    </tr>\n",
       "  </tbody>\n",
       "</table>\n",
       "</div>"
      ],
      "text/plain": [
       "             [0:4[  [4:8[  [8:12[  [12:20[  [20:28]\n",
       "Y\\X                                                \n",
       "[1200:1800[   10.0      6     0.0      0.0      0.0\n",
       "[1800:2200[    4.0      9    18.0      8.0      8.0\n",
       "[2200:3000[    4.0      8    16.0     12.0      4.0\n",
       "[3000:4200]    0.0      5     8.0      8.0     12.0"
      ]
     },
     "execution_count": 5,
     "metadata": {},
     "output_type": "execute_result"
    }
   ],
   "source": [
    "donnees_h = pd.read_csv(DATA_H, index_col=0)\n",
    "for l in labels_y:\n",
    "    donnees_h[l] = convert_string_column_to_numeric(donnees_h[l])\n",
    "donnees_h"
   ]
  },
  {
   "cell_type": "markdown",
   "metadata": {},
   "source": [
    "## Question 2\n",
    "\n",
    "***Rappel*** : X | Y = (X^Y) / Y\n",
    "\n",
    "On cherche le ***Pourcentage conditionnel de (X < 2200) | (Y < 8)***  \n",
    "Pour cela, on a besoin de :\n",
    "- l'**Effectif conjoint de (X < 2200) ^ (Y < 8)**  : numérateur\n",
    "- l'**Effectif marginal de (Y < 8)** : dénominateur  \n",
    "\n",
    "On a alors : **(X < 2200) | (Y < 8) = $\\frac{(X < 2200) \\wedge (Y < 8)}{(Y < 8)}$**\n"
   ]
  },
  {
   "cell_type": "markdown",
   "metadata": {},
   "source": [
    "### Effectif conjoint de (X < 2200) ^ (Y < 8)"
   ]
  },
  {
   "cell_type": "code",
   "execution_count": 6,
   "metadata": {},
   "outputs": [
    {
     "data": {
      "text/html": [
       "<div>\n",
       "<style scoped>\n",
       "    .dataframe tbody tr th:only-of-type {\n",
       "        vertical-align: middle;\n",
       "    }\n",
       "\n",
       "    .dataframe tbody tr th {\n",
       "        vertical-align: top;\n",
       "    }\n",
       "\n",
       "    .dataframe thead th {\n",
       "        text-align: right;\n",
       "    }\n",
       "</style>\n",
       "<table border=\"1\" class=\"dataframe\">\n",
       "  <thead>\n",
       "    <tr style=\"text-align: right;\">\n",
       "      <th></th>\n",
       "      <th>[0:4[</th>\n",
       "      <th>[4:8[</th>\n",
       "      <th>Total X</th>\n",
       "    </tr>\n",
       "    <tr>\n",
       "      <th>X\\Y</th>\n",
       "      <th></th>\n",
       "      <th></th>\n",
       "      <th></th>\n",
       "    </tr>\n",
       "  </thead>\n",
       "  <tbody>\n",
       "    <tr>\n",
       "      <th>[1200:1800[</th>\n",
       "      <td>12.0</td>\n",
       "      <td>10.0</td>\n",
       "      <td>22.0</td>\n",
       "    </tr>\n",
       "    <tr>\n",
       "      <th>[1800:2200[</th>\n",
       "      <td>8.0</td>\n",
       "      <td>14.0</td>\n",
       "      <td>22.0</td>\n",
       "    </tr>\n",
       "    <tr>\n",
       "      <th>Total Y</th>\n",
       "      <td>20.0</td>\n",
       "      <td>24.0</td>\n",
       "      <td>44.0</td>\n",
       "    </tr>\n",
       "  </tbody>\n",
       "</table>\n",
       "</div>"
      ],
      "text/plain": [
       "             [0:4[  [4:8[  Total X\n",
       "X\\Y                               \n",
       "[1200:1800[   12.0   10.0     22.0\n",
       "[1800:2200[    8.0   14.0     22.0\n",
       "Total Y       20.0   24.0     44.0"
      ]
     },
     "execution_count": 6,
     "metadata": {},
     "output_type": "execute_result"
    }
   ],
   "source": [
    "# Extraire une partie de la matrice des données avec des indices : iloc\n",
    "distribution_conjointe_x_y = donnees_f.iloc[0:2,0:2]\n",
    "\n",
    "#Total sum per column: \n",
    "distribution_conjointe_x_y.loc['Total Y',:]= distribution_conjointe_x_y.sum(axis=0)\n",
    "#Total sum per row: \n",
    "distribution_conjointe_x_y.loc[:,'Total X'] = distribution_conjointe_x_y.sum(axis=1)\n",
    "\n",
    "distribution_conjointe_x_y"
   ]
  },
  {
   "cell_type": "code",
   "execution_count": 7,
   "metadata": {},
   "outputs": [
    {
     "data": {
      "text/plain": [
       "44.0"
      ]
     },
     "execution_count": 7,
     "metadata": {},
     "output_type": "execute_result"
    }
   ],
   "source": [
    "effectif_conjoint_x_inf_2200_et_Y_inf_8 = distribution_conjointe_x_y['Total X']['Total Y']\n",
    "effectif_conjoint_x_inf_2200_et_Y_inf_8"
   ]
  },
  {
   "cell_type": "markdown",
   "metadata": {},
   "source": [
    "Nombre total de femmes qui gagnent moins de 2200 euros et qui ont moins de 8 ans d'ancienneté : 44 femmes"
   ]
  },
  {
   "cell_type": "markdown",
   "metadata": {},
   "source": [
    "### Effectif marginal de (Y < 8)"
   ]
  },
  {
   "cell_type": "code",
   "execution_count": 8,
   "metadata": {},
   "outputs": [
    {
     "data": {
      "text/html": [
       "<div>\n",
       "<style scoped>\n",
       "    .dataframe tbody tr th:only-of-type {\n",
       "        vertical-align: middle;\n",
       "    }\n",
       "\n",
       "    .dataframe tbody tr th {\n",
       "        vertical-align: top;\n",
       "    }\n",
       "\n",
       "    .dataframe thead th {\n",
       "        text-align: right;\n",
       "    }\n",
       "</style>\n",
       "<table border=\"1\" class=\"dataframe\">\n",
       "  <thead>\n",
       "    <tr style=\"text-align: right;\">\n",
       "      <th></th>\n",
       "      <th>[0:4[</th>\n",
       "      <th>[4:8[</th>\n",
       "    </tr>\n",
       "    <tr>\n",
       "      <th>X\\Y</th>\n",
       "      <th></th>\n",
       "      <th></th>\n",
       "    </tr>\n",
       "  </thead>\n",
       "  <tbody>\n",
       "    <tr>\n",
       "      <th>[1200:1800[</th>\n",
       "      <td>12.0</td>\n",
       "      <td>10.0</td>\n",
       "    </tr>\n",
       "    <tr>\n",
       "      <th>[1800:2200[</th>\n",
       "      <td>8.0</td>\n",
       "      <td>14.0</td>\n",
       "    </tr>\n",
       "    <tr>\n",
       "      <th>[2200:3000[</th>\n",
       "      <td>0.0</td>\n",
       "      <td>6.0</td>\n",
       "    </tr>\n",
       "    <tr>\n",
       "      <th>[3000:4200]</th>\n",
       "      <td>0.0</td>\n",
       "      <td>0.0</td>\n",
       "    </tr>\n",
       "    <tr>\n",
       "      <th>Total Y</th>\n",
       "      <td>20.0</td>\n",
       "      <td>30.0</td>\n",
       "    </tr>\n",
       "  </tbody>\n",
       "</table>\n",
       "</div>"
      ],
      "text/plain": [
       "             [0:4[  [4:8[\n",
       "X\\Y                      \n",
       "[1200:1800[   12.0   10.0\n",
       "[1800:2200[    8.0   14.0\n",
       "[2200:3000[    0.0    6.0\n",
       "[3000:4200]    0.0    0.0\n",
       "Total Y       20.0   30.0"
      ]
     },
     "execution_count": 8,
     "metadata": {},
     "output_type": "execute_result"
    }
   ],
   "source": [
    "# Extraire une partie de la matrice des données avec des indices : iloc\n",
    "distribution_marginale_y = donnees_f.iloc[0:,0:2]\n",
    "#Total sum per column: \n",
    "distribution_marginale_y.loc['Total Y',:] = distribution_marginale_y.sum(axis=0)\n",
    "distribution_marginale_y"
   ]
  },
  {
   "cell_type": "code",
   "execution_count": 9,
   "metadata": {},
   "outputs": [
    {
     "data": {
      "text/plain": [
       "50.0"
      ]
     },
     "execution_count": 9,
     "metadata": {},
     "output_type": "execute_result"
    }
   ],
   "source": [
    "effectif_marginal_y_inf_8 = distribution_marginale_y['[0:4[']['Total Y'] + distribution_marginale_y['[4:8[']['Total Y'] \n",
    "effectif_marginal_y_inf_8"
   ]
  },
  {
   "cell_type": "markdown",
   "metadata": {},
   "source": [
    "Nombre total de femmes qui ont moins de 8 ans d'ancienneté : 50 femmes"
   ]
  },
  {
   "cell_type": "markdown",
   "metadata": {},
   "source": [
    "### Pourcentage conditionnel de (X < 2200) | (Y < 8)"
   ]
  },
  {
   "cell_type": "code",
   "execution_count": 10,
   "metadata": {},
   "outputs": [
    {
     "data": {
      "text/html": [
       "<div>\n",
       "<style scoped>\n",
       "    .dataframe tbody tr th:only-of-type {\n",
       "        vertical-align: middle;\n",
       "    }\n",
       "\n",
       "    .dataframe tbody tr th {\n",
       "        vertical-align: top;\n",
       "    }\n",
       "\n",
       "    .dataframe thead th {\n",
       "        text-align: right;\n",
       "    }\n",
       "</style>\n",
       "<table border=\"1\" class=\"dataframe\">\n",
       "  <thead>\n",
       "    <tr style=\"text-align: right;\">\n",
       "      <th></th>\n",
       "      <th>[0:4[</th>\n",
       "      <th>[4:8[</th>\n",
       "      <th>Total X</th>\n",
       "    </tr>\n",
       "    <tr>\n",
       "      <th>X\\Y</th>\n",
       "      <th></th>\n",
       "      <th></th>\n",
       "      <th></th>\n",
       "    </tr>\n",
       "  </thead>\n",
       "  <tbody>\n",
       "    <tr>\n",
       "      <th>[1200:1800[</th>\n",
       "      <td>24.0</td>\n",
       "      <td>20.0</td>\n",
       "      <td>44.0</td>\n",
       "    </tr>\n",
       "    <tr>\n",
       "      <th>[1800:2200[</th>\n",
       "      <td>16.0</td>\n",
       "      <td>28.0</td>\n",
       "      <td>44.0</td>\n",
       "    </tr>\n",
       "    <tr>\n",
       "      <th>Total Y</th>\n",
       "      <td>40.0</td>\n",
       "      <td>48.0</td>\n",
       "      <td>88.0</td>\n",
       "    </tr>\n",
       "  </tbody>\n",
       "</table>\n",
       "</div>"
      ],
      "text/plain": [
       "             [0:4[  [4:8[  Total X\n",
       "X\\Y                               \n",
       "[1200:1800[   24.0   20.0     44.0\n",
       "[1800:2200[   16.0   28.0     44.0\n",
       "Total Y       40.0   48.0     88.0"
      ]
     },
     "execution_count": 10,
     "metadata": {},
     "output_type": "execute_result"
    }
   ],
   "source": [
    "distribution_conditionnelle = (distribution_conjointe_x_y / effectif_marginal_y_inf_8) * 100\n",
    "distribution_conditionnelle"
   ]
  },
  {
   "cell_type": "code",
   "execution_count": 11,
   "metadata": {},
   "outputs": [
    {
     "data": {
      "text/plain": [
       "88.0"
      ]
     },
     "execution_count": 11,
     "metadata": {},
     "output_type": "execute_result"
    }
   ],
   "source": [
    "pourcentage_conditionnel_x_inf_2200_sachant_y_inf_8 = (effectif_conjoint_x_inf_2200_et_Y_inf_8 / effectif_marginal_y_inf_8) * 100\n",
    "# ou, en se servant du tableau de la distribution conditionnelle : distribution_conditionnelle['Total X'] ['Total Y'] \n",
    "pourcentage_conditionnel_x_inf_2200_sachant_y_inf_8"
   ]
  },
  {
   "cell_type": "markdown",
   "metadata": {},
   "source": [
    "Pourcentage de femmes qui gagnent moins de 2200€ parmi les femmes qui ont moins de 8 ans d'ancienneté : 88%"
   ]
  },
  {
   "cell_type": "markdown",
   "metadata": {},
   "source": [
    "## Question 3"
   ]
  },
  {
   "cell_type": "markdown",
   "metadata": {},
   "source": [
    "### Moyenne et ecart-type du salaire des femmes\n",
    "\n",
    "***Rappel - Moyenne pondérée variable quantitative continue*** \n",
    "\n",
    "![Rappel - Moyenne pondérée variable quantitative continue](../images/Rappels/rappel_moyenne_variable_quantitative_continue.PNG)"
   ]
  },
  {
   "cell_type": "markdown",
   "metadata": {},
   "source": [
    "#### Distribution marginale de X pour la population 100 salariés femmes"
   ]
  },
  {
   "cell_type": "code",
   "execution_count": 12,
   "metadata": {},
   "outputs": [
    {
     "data": {
      "text/html": [
       "<div>\n",
       "<style scoped>\n",
       "    .dataframe tbody tr th:only-of-type {\n",
       "        vertical-align: middle;\n",
       "    }\n",
       "\n",
       "    .dataframe tbody tr th {\n",
       "        vertical-align: top;\n",
       "    }\n",
       "\n",
       "    .dataframe thead th {\n",
       "        text-align: right;\n",
       "    }\n",
       "</style>\n",
       "<table border=\"1\" class=\"dataframe\">\n",
       "  <thead>\n",
       "    <tr style=\"text-align: right;\">\n",
       "      <th>X\\Y</th>\n",
       "      <th>[1200:1800[</th>\n",
       "      <th>[1800:2200[</th>\n",
       "      <th>[2200:3000[</th>\n",
       "      <th>[3000:4200]</th>\n",
       "    </tr>\n",
       "  </thead>\n",
       "  <tbody>\n",
       "    <tr>\n",
       "      <th>Total X</th>\n",
       "      <td>40.0</td>\n",
       "      <td>35.0</td>\n",
       "      <td>20.0</td>\n",
       "      <td>5.0</td>\n",
       "    </tr>\n",
       "  </tbody>\n",
       "</table>\n",
       "</div>"
      ],
      "text/plain": [
       "X\\Y      [1200:1800[  [1800:2200[  [2200:3000[  [3000:4200]\n",
       "Total X         40.0         35.0         20.0          5.0"
      ]
     },
     "execution_count": 12,
     "metadata": {},
     "output_type": "execute_result"
    }
   ],
   "source": [
    "distribution_marginale_x = pd.DataFrame(donnees_f.sum(axis=1), donnees_f.index, columns=['Total X'])\n",
    "distribution_marginale_x.T"
   ]
  },
  {
   "cell_type": "markdown",
   "metadata": {},
   "source": [
    "#### Centre des classes\n",
    "> Necessaire pour calculer la moyenne et ecart-type d'une variable quantitative **continue**"
   ]
  },
  {
   "cell_type": "code",
   "execution_count": 13,
   "metadata": {},
   "outputs": [
    {
     "data": {
      "text/html": [
       "<div>\n",
       "<style scoped>\n",
       "    .dataframe tbody tr th:only-of-type {\n",
       "        vertical-align: middle;\n",
       "    }\n",
       "\n",
       "    .dataframe tbody tr th {\n",
       "        vertical-align: top;\n",
       "    }\n",
       "\n",
       "    .dataframe thead th {\n",
       "        text-align: right;\n",
       "    }\n",
       "</style>\n",
       "<table border=\"1\" class=\"dataframe\">\n",
       "  <thead>\n",
       "    <tr style=\"text-align: right;\">\n",
       "      <th></th>\n",
       "      <th>Total X</th>\n",
       "      <th>Centre</th>\n",
       "    </tr>\n",
       "    <tr>\n",
       "      <th>X\\Y</th>\n",
       "      <th></th>\n",
       "      <th></th>\n",
       "    </tr>\n",
       "  </thead>\n",
       "  <tbody>\n",
       "    <tr>\n",
       "      <th>[1200:1800[</th>\n",
       "      <td>40.0</td>\n",
       "      <td>1500.0</td>\n",
       "    </tr>\n",
       "    <tr>\n",
       "      <th>[1800:2200[</th>\n",
       "      <td>35.0</td>\n",
       "      <td>2000.0</td>\n",
       "    </tr>\n",
       "    <tr>\n",
       "      <th>[2200:3000[</th>\n",
       "      <td>20.0</td>\n",
       "      <td>2600.0</td>\n",
       "    </tr>\n",
       "    <tr>\n",
       "      <th>[3000:4200]</th>\n",
       "      <td>5.0</td>\n",
       "      <td>3600.0</td>\n",
       "    </tr>\n",
       "  </tbody>\n",
       "</table>\n",
       "</div>"
      ],
      "text/plain": [
       "             Total X  Centre\n",
       "X\\Y                         \n",
       "[1200:1800[     40.0  1500.0\n",
       "[1800:2200[     35.0  2000.0\n",
       "[2200:3000[     20.0  2600.0\n",
       "[3000:4200]      5.0  3600.0"
      ]
     },
     "execution_count": 13,
     "metadata": {},
     "output_type": "execute_result"
    }
   ],
   "source": [
    "def centres_classes(list_bornes_classes):\n",
    "    centres_classes = []\n",
    "    # filtre les nombres d'une liste de bornes de classes\n",
    "    for s in list_bornes_classes:\n",
    "        deux_bornes =  re.findall(\"\\d+\",s)\n",
    "        centre_classe = (float(deux_bornes[0]) + float(deux_bornes[1]))/2\n",
    "        centres_classes.append(centre_classe)\n",
    "    return centres_classes\n",
    "\n",
    "distribution_marginale_x['Centre'] = centres_classes(list(donnees_f.index))\n",
    "distribution_marginale_x\n"
   ]
  },
  {
   "cell_type": "markdown",
   "metadata": {},
   "source": [
    "#### Moyenne et ecart-type"
   ]
  },
  {
   "cell_type": "code",
   "execution_count": 14,
   "metadata": {},
   "outputs": [
    {
     "name": "stdout",
     "output_type": "stream",
     "text": [
      "La moyenne du salaire des femmes est de 2000.0 euros\n",
      "L'écart-type du salaire des femmes est de 547.7225575051662 euros\n"
     ]
    }
   ],
   "source": [
    "def weighted_avg_and_std(values, weights):\n",
    "    \"\"\"\n",
    "    Return the weighted average and standard deviation.\n",
    "\n",
    "    values, weights -- Numpy ndarrays with the same shape.\n",
    "    \"\"\"\n",
    "    average = np.average(values, weights=weights)\n",
    "    # Fast and numerically precise:\n",
    "    variance = np.average((values-average)**2, weights=weights)\n",
    "    return (average, math.sqrt(variance))\n",
    "\n",
    "moyenne_x, ecart_type_x = weighted_avg_and_std(distribution_marginale_x['Centre'], distribution_marginale_x['Total X'])\n",
    "print(\"La moyenne du salaire des femmes est de {} euros\".format(moyenne_x))\n",
    "print(\"L'écart-type du salaire des femmes est de {} euros\".format(ecart_type_x))"
   ]
  },
  {
   "cell_type": "markdown",
   "metadata": {},
   "source": [
    "### Moyenne et ecart-type du salaire des hommes\n",
    "> On réalise les mêmes opérations que pour le salaire des femmes"
   ]
  },
  {
   "cell_type": "markdown",
   "metadata": {},
   "source": [
    "#### Distribution marginale de X pour la population 140 salariés hommes"
   ]
  },
  {
   "cell_type": "code",
   "execution_count": 15,
   "metadata": {},
   "outputs": [
    {
     "data": {
      "text/html": [
       "<div>\n",
       "<style scoped>\n",
       "    .dataframe tbody tr th:only-of-type {\n",
       "        vertical-align: middle;\n",
       "    }\n",
       "\n",
       "    .dataframe tbody tr th {\n",
       "        vertical-align: top;\n",
       "    }\n",
       "\n",
       "    .dataframe thead th {\n",
       "        text-align: right;\n",
       "    }\n",
       "</style>\n",
       "<table border=\"1\" class=\"dataframe\">\n",
       "  <thead>\n",
       "    <tr style=\"text-align: right;\">\n",
       "      <th>Y\\X</th>\n",
       "      <th>[1200:1800[</th>\n",
       "      <th>[1800:2200[</th>\n",
       "      <th>[2200:3000[</th>\n",
       "      <th>[3000:4200]</th>\n",
       "    </tr>\n",
       "  </thead>\n",
       "  <tbody>\n",
       "    <tr>\n",
       "      <th>Total X</th>\n",
       "      <td>16.0</td>\n",
       "      <td>47.0</td>\n",
       "      <td>44.0</td>\n",
       "      <td>33.0</td>\n",
       "    </tr>\n",
       "  </tbody>\n",
       "</table>\n",
       "</div>"
      ],
      "text/plain": [
       "Y\\X      [1200:1800[  [1800:2200[  [2200:3000[  [3000:4200]\n",
       "Total X         16.0         47.0         44.0         33.0"
      ]
     },
     "execution_count": 15,
     "metadata": {},
     "output_type": "execute_result"
    }
   ],
   "source": [
    "distribution_marginale_x_h = pd.DataFrame(donnees_h.sum(axis=1), donnees_h.index, columns=['Total X'])\n",
    "distribution_marginale_x_h.T"
   ]
  },
  {
   "cell_type": "markdown",
   "metadata": {},
   "source": [
    "#### Centre des classes"
   ]
  },
  {
   "cell_type": "code",
   "execution_count": 16,
   "metadata": {},
   "outputs": [
    {
     "data": {
      "text/html": [
       "<div>\n",
       "<style scoped>\n",
       "    .dataframe tbody tr th:only-of-type {\n",
       "        vertical-align: middle;\n",
       "    }\n",
       "\n",
       "    .dataframe tbody tr th {\n",
       "        vertical-align: top;\n",
       "    }\n",
       "\n",
       "    .dataframe thead th {\n",
       "        text-align: right;\n",
       "    }\n",
       "</style>\n",
       "<table border=\"1\" class=\"dataframe\">\n",
       "  <thead>\n",
       "    <tr style=\"text-align: right;\">\n",
       "      <th></th>\n",
       "      <th>Total X</th>\n",
       "      <th>Centre</th>\n",
       "    </tr>\n",
       "    <tr>\n",
       "      <th>Y\\X</th>\n",
       "      <th></th>\n",
       "      <th></th>\n",
       "    </tr>\n",
       "  </thead>\n",
       "  <tbody>\n",
       "    <tr>\n",
       "      <th>[1200:1800[</th>\n",
       "      <td>16.0</td>\n",
       "      <td>1500.0</td>\n",
       "    </tr>\n",
       "    <tr>\n",
       "      <th>[1800:2200[</th>\n",
       "      <td>47.0</td>\n",
       "      <td>2000.0</td>\n",
       "    </tr>\n",
       "    <tr>\n",
       "      <th>[2200:3000[</th>\n",
       "      <td>44.0</td>\n",
       "      <td>2600.0</td>\n",
       "    </tr>\n",
       "    <tr>\n",
       "      <th>[3000:4200]</th>\n",
       "      <td>33.0</td>\n",
       "      <td>3600.0</td>\n",
       "    </tr>\n",
       "  </tbody>\n",
       "</table>\n",
       "</div>"
      ],
      "text/plain": [
       "             Total X  Centre\n",
       "Y\\X                         \n",
       "[1200:1800[     16.0  1500.0\n",
       "[1800:2200[     47.0  2000.0\n",
       "[2200:3000[     44.0  2600.0\n",
       "[3000:4200]     33.0  3600.0"
      ]
     },
     "execution_count": 16,
     "metadata": {},
     "output_type": "execute_result"
    }
   ],
   "source": [
    "distribution_marginale_x_h['Centre'] = centres_classes(list(donnees_h.index))\n",
    "distribution_marginale_x_h"
   ]
  },
  {
   "cell_type": "markdown",
   "metadata": {},
   "source": [
    "#### Moyenne et ecart-type"
   ]
  },
  {
   "cell_type": "code",
   "execution_count": 17,
   "metadata": {},
   "outputs": [
    {
     "name": "stdout",
     "output_type": "stream",
     "text": [
      "La moyenne du salaire des hommes est de 2508.5714285714284 euros\n",
      "L'écart-type du salaire des hommes est de 697.4940567371692 euros\n"
     ]
    }
   ],
   "source": [
    "moyenne_x_h, ecart_type_x_h = weighted_avg_and_std(distribution_marginale_x_h['Centre'], distribution_marginale_x_h['Total X'])\n",
    "print(\"La moyenne du salaire des hommes est de {} euros\".format(moyenne_x_h))\n",
    "print(\"L'écart-type du salaire des hommes est de {} euros\".format(ecart_type_x_h))"
   ]
  },
  {
   "cell_type": "markdown",
   "metadata": {},
   "source": [
    "### Salaire moyen de l'ensemble des 240 salariés\n",
    "> Il faut réaliser la moyenne pondérée de la moyenne du salaire des femmes et de la moyenne du salaire des hommes"
   ]
  },
  {
   "cell_type": "code",
   "execution_count": 18,
   "metadata": {},
   "outputs": [
    {
     "name": "stdout",
     "output_type": "stream",
     "text": [
      "La moyenne du salaire de l'ensemble des salariés est de 2296.6666666666665 euros\n"
     ]
    }
   ],
   "source": [
    "nb_salaries_femme = donnees_f.to_numpy().sum()\n",
    "nb_salaries_homme = donnees_h.to_numpy().sum()\n",
    "moyenne_ensemble = ((moyenne_x * nb_salaries_femme) + (moyenne_x_h * nb_salaries_homme)) / (nb_salaries_femme + nb_salaries_homme)\n",
    "print(\"La moyenne du salaire de l'ensemble des salariés est de {} euros\".format(moyenne_ensemble))\n"
   ]
  },
  {
   "cell_type": "markdown",
   "metadata": {},
   "source": [
    "## Question 4\n",
    "> On réalise les mêmes opérations que dans la question précédente, mais pour la variable Y cette fois."
   ]
  },
  {
   "cell_type": "markdown",
   "metadata": {},
   "source": [
    "### Distribution marginale de Y pour la population 100 salariés femmes"
   ]
  },
  {
   "cell_type": "code",
   "execution_count": 19,
   "metadata": {},
   "outputs": [
    {
     "data": {
      "text/html": [
       "<div>\n",
       "<style scoped>\n",
       "    .dataframe tbody tr th:only-of-type {\n",
       "        vertical-align: middle;\n",
       "    }\n",
       "\n",
       "    .dataframe tbody tr th {\n",
       "        vertical-align: top;\n",
       "    }\n",
       "\n",
       "    .dataframe thead th {\n",
       "        text-align: right;\n",
       "    }\n",
       "</style>\n",
       "<table border=\"1\" class=\"dataframe\">\n",
       "  <thead>\n",
       "    <tr style=\"text-align: right;\">\n",
       "      <th></th>\n",
       "      <th>[0:4[</th>\n",
       "      <th>[4:8[</th>\n",
       "      <th>[8:12[</th>\n",
       "      <th>[12:20[</th>\n",
       "      <th>[20:28]</th>\n",
       "    </tr>\n",
       "  </thead>\n",
       "  <tbody>\n",
       "    <tr>\n",
       "      <th>Total Y</th>\n",
       "      <td>20.0</td>\n",
       "      <td>30.0</td>\n",
       "      <td>20.0</td>\n",
       "      <td>20.0</td>\n",
       "      <td>10.0</td>\n",
       "    </tr>\n",
       "  </tbody>\n",
       "</table>\n",
       "</div>"
      ],
      "text/plain": [
       "         [0:4[  [4:8[  [8:12[  [12:20[  [20:28]\n",
       "Total Y   20.0   30.0    20.0     20.0     10.0"
      ]
     },
     "execution_count": 19,
     "metadata": {},
     "output_type": "execute_result"
    }
   ],
   "source": [
    "distribution_marginale_y = pd.DataFrame(donnees_f.sum(axis=0), donnees_f.columns, columns=['Total Y'])\n",
    "distribution_marginale_y.T"
   ]
  },
  {
   "cell_type": "markdown",
   "metadata": {},
   "source": [
    "### Centre des classes"
   ]
  },
  {
   "cell_type": "code",
   "execution_count": 20,
   "metadata": {},
   "outputs": [
    {
     "data": {
      "text/html": [
       "<div>\n",
       "<style scoped>\n",
       "    .dataframe tbody tr th:only-of-type {\n",
       "        vertical-align: middle;\n",
       "    }\n",
       "\n",
       "    .dataframe tbody tr th {\n",
       "        vertical-align: top;\n",
       "    }\n",
       "\n",
       "    .dataframe thead th {\n",
       "        text-align: right;\n",
       "    }\n",
       "</style>\n",
       "<table border=\"1\" class=\"dataframe\">\n",
       "  <thead>\n",
       "    <tr style=\"text-align: right;\">\n",
       "      <th></th>\n",
       "      <th>Total Y</th>\n",
       "      <th>Centre</th>\n",
       "    </tr>\n",
       "  </thead>\n",
       "  <tbody>\n",
       "    <tr>\n",
       "      <th>[0:4[</th>\n",
       "      <td>20.0</td>\n",
       "      <td>2.0</td>\n",
       "    </tr>\n",
       "    <tr>\n",
       "      <th>[4:8[</th>\n",
       "      <td>30.0</td>\n",
       "      <td>6.0</td>\n",
       "    </tr>\n",
       "    <tr>\n",
       "      <th>[8:12[</th>\n",
       "      <td>20.0</td>\n",
       "      <td>10.0</td>\n",
       "    </tr>\n",
       "    <tr>\n",
       "      <th>[12:20[</th>\n",
       "      <td>20.0</td>\n",
       "      <td>16.0</td>\n",
       "    </tr>\n",
       "    <tr>\n",
       "      <th>[20:28]</th>\n",
       "      <td>10.0</td>\n",
       "      <td>24.0</td>\n",
       "    </tr>\n",
       "  </tbody>\n",
       "</table>\n",
       "</div>"
      ],
      "text/plain": [
       "         Total Y  Centre\n",
       "[0:4[       20.0     2.0\n",
       "[4:8[       30.0     6.0\n",
       "[8:12[      20.0    10.0\n",
       "[12:20[     20.0    16.0\n",
       "[20:28]     10.0    24.0"
      ]
     },
     "execution_count": 20,
     "metadata": {},
     "output_type": "execute_result"
    }
   ],
   "source": [
    "distribution_marginale_y['Centre'] = centres_classes(list(donnees_f.columns))\n",
    "distribution_marginale_y"
   ]
  },
  {
   "cell_type": "markdown",
   "metadata": {},
   "source": [
    "### Moyenne et ecart-type"
   ]
  },
  {
   "cell_type": "code",
   "execution_count": 21,
   "metadata": {},
   "outputs": [
    {
     "name": "stdout",
     "output_type": "stream",
     "text": [
      "La moyenne de l'ancienneté des femmes est de 9.8 ans\n",
      "L'écart-type de l'ancienneté des femmes est de 6.660330322138685 ans\n"
     ]
    }
   ],
   "source": [
    "moyenne_y, ecart_type_y = weighted_avg_and_std(distribution_marginale_y['Centre'], distribution_marginale_y['Total Y'])\n",
    "print(\"La moyenne de l'ancienneté des femmes est de {} ans\".format(moyenne_y))\n",
    "print(\"L'écart-type de l'ancienneté des femmes est de {} ans\".format(ecart_type_y))"
   ]
  },
  {
   "cell_type": "markdown",
   "metadata": {},
   "source": [
    "## Question 5"
   ]
  },
  {
   "cell_type": "markdown",
   "metadata": {},
   "source": [
    "### Distribution marginale de Y pour la population 100 salariés femmes"
   ]
  },
  {
   "cell_type": "code",
   "execution_count": 22,
   "metadata": {},
   "outputs": [
    {
     "data": {
      "text/html": [
       "<div>\n",
       "<style scoped>\n",
       "    .dataframe tbody tr th:only-of-type {\n",
       "        vertical-align: middle;\n",
       "    }\n",
       "\n",
       "    .dataframe tbody tr th {\n",
       "        vertical-align: top;\n",
       "    }\n",
       "\n",
       "    .dataframe thead th {\n",
       "        text-align: right;\n",
       "    }\n",
       "</style>\n",
       "<table border=\"1\" class=\"dataframe\">\n",
       "  <thead>\n",
       "    <tr style=\"text-align: right;\">\n",
       "      <th></th>\n",
       "      <th>Total Y</th>\n",
       "      <th>Centre</th>\n",
       "    </tr>\n",
       "  </thead>\n",
       "  <tbody>\n",
       "    <tr>\n",
       "      <th>[0:4[</th>\n",
       "      <td>20.0</td>\n",
       "      <td>2.0</td>\n",
       "    </tr>\n",
       "    <tr>\n",
       "      <th>[4:8[</th>\n",
       "      <td>30.0</td>\n",
       "      <td>6.0</td>\n",
       "    </tr>\n",
       "    <tr>\n",
       "      <th>[8:12[</th>\n",
       "      <td>20.0</td>\n",
       "      <td>10.0</td>\n",
       "    </tr>\n",
       "    <tr>\n",
       "      <th>[12:20[</th>\n",
       "      <td>20.0</td>\n",
       "      <td>16.0</td>\n",
       "    </tr>\n",
       "    <tr>\n",
       "      <th>[20:28]</th>\n",
       "      <td>10.0</td>\n",
       "      <td>24.0</td>\n",
       "    </tr>\n",
       "  </tbody>\n",
       "</table>\n",
       "</div>"
      ],
      "text/plain": [
       "         Total Y  Centre\n",
       "[0:4[       20.0     2.0\n",
       "[4:8[       30.0     6.0\n",
       "[8:12[      20.0    10.0\n",
       "[12:20[     20.0    16.0\n",
       "[20:28]     10.0    24.0"
      ]
     },
     "execution_count": 22,
     "metadata": {},
     "output_type": "execute_result"
    }
   ],
   "source": [
    "distribution_marginale_y"
   ]
  },
  {
   "cell_type": "markdown",
   "metadata": {},
   "source": [
    "### Tableau des fréquences"
   ]
  },
  {
   "cell_type": "code",
   "execution_count": 23,
   "metadata": {},
   "outputs": [
    {
     "data": {
      "text/html": [
       "<div>\n",
       "<style scoped>\n",
       "    .dataframe tbody tr th:only-of-type {\n",
       "        vertical-align: middle;\n",
       "    }\n",
       "\n",
       "    .dataframe tbody tr th {\n",
       "        vertical-align: top;\n",
       "    }\n",
       "\n",
       "    .dataframe thead th {\n",
       "        text-align: right;\n",
       "    }\n",
       "</style>\n",
       "<table border=\"1\" class=\"dataframe\">\n",
       "  <thead>\n",
       "    <tr style=\"text-align: right;\">\n",
       "      <th></th>\n",
       "      <th>Frequence (%)</th>\n",
       "    </tr>\n",
       "  </thead>\n",
       "  <tbody>\n",
       "    <tr>\n",
       "      <th>[0:4[</th>\n",
       "      <td>20.0</td>\n",
       "    </tr>\n",
       "    <tr>\n",
       "      <th>[4:8[</th>\n",
       "      <td>30.0</td>\n",
       "    </tr>\n",
       "    <tr>\n",
       "      <th>[8:12[</th>\n",
       "      <td>20.0</td>\n",
       "    </tr>\n",
       "    <tr>\n",
       "      <th>[12:20[</th>\n",
       "      <td>20.0</td>\n",
       "    </tr>\n",
       "    <tr>\n",
       "      <th>[20:28]</th>\n",
       "      <td>10.0</td>\n",
       "    </tr>\n",
       "  </tbody>\n",
       "</table>\n",
       "</div>"
      ],
      "text/plain": [
       "         Frequence (%)\n",
       "[0:4[             20.0\n",
       "[4:8[             30.0\n",
       "[8:12[            20.0\n",
       "[12:20[           20.0\n",
       "[20:28]           10.0"
      ]
     },
     "execution_count": 23,
     "metadata": {},
     "output_type": "execute_result"
    }
   ],
   "source": [
    "tableau_frequence_y = (pd.DataFrame(donnees_f.sum(axis=0), donnees_f.columns, columns=['Frequence (%)']) / nb_salaries_femme) * 100\n",
    "tableau_frequence_y\n"
   ]
  },
  {
   "cell_type": "markdown",
   "metadata": {},
   "source": [
    "### Tableau des fréquences cumulées"
   ]
  },
  {
   "cell_type": "code",
   "execution_count": 24,
   "metadata": {},
   "outputs": [
    {
     "data": {
      "text/html": [
       "<div>\n",
       "<style scoped>\n",
       "    .dataframe tbody tr th:only-of-type {\n",
       "        vertical-align: middle;\n",
       "    }\n",
       "\n",
       "    .dataframe tbody tr th {\n",
       "        vertical-align: top;\n",
       "    }\n",
       "\n",
       "    .dataframe thead th {\n",
       "        text-align: right;\n",
       "    }\n",
       "</style>\n",
       "<table border=\"1\" class=\"dataframe\">\n",
       "  <thead>\n",
       "    <tr style=\"text-align: right;\">\n",
       "      <th></th>\n",
       "      <th>Frequence cumulee (%)</th>\n",
       "    </tr>\n",
       "  </thead>\n",
       "  <tbody>\n",
       "    <tr>\n",
       "      <th>[0:4[</th>\n",
       "      <td>20.0</td>\n",
       "    </tr>\n",
       "    <tr>\n",
       "      <th>[4:8[</th>\n",
       "      <td>50.0</td>\n",
       "    </tr>\n",
       "    <tr>\n",
       "      <th>[8:12[</th>\n",
       "      <td>70.0</td>\n",
       "    </tr>\n",
       "    <tr>\n",
       "      <th>[12:20[</th>\n",
       "      <td>90.0</td>\n",
       "    </tr>\n",
       "    <tr>\n",
       "      <th>[20:28]</th>\n",
       "      <td>100.0</td>\n",
       "    </tr>\n",
       "  </tbody>\n",
       "</table>\n",
       "</div>"
      ],
      "text/plain": [
       "         Frequence cumulee (%)\n",
       "[0:4[                     20.0\n",
       "[4:8[                     50.0\n",
       "[8:12[                    70.0\n",
       "[12:20[                   90.0\n",
       "[20:28]                  100.0"
      ]
     },
     "execution_count": 24,
     "metadata": {},
     "output_type": "execute_result"
    }
   ],
   "source": [
    "frequences = tableau_frequence_y['Frequence (%)'].tolist() \n",
    "frequences_cumulees = []\n",
    "somme = 0\n",
    "for f in frequences:\n",
    "    somme += f\n",
    "    frequences_cumulees.append(somme)\n",
    "\n",
    "tableau_frequence_cumulee_y = pd.DataFrame(frequences_cumulees,  donnees_f.columns, columns=['Frequence cumulee (%)'])\n",
    "tableau_frequence_cumulee_y"
   ]
  },
  {
   "cell_type": "markdown",
   "metadata": {},
   "source": [
    "### Graphe des fréquences cumulées"
   ]
  },
  {
   "cell_type": "code",
   "execution_count": 25,
   "metadata": {},
   "outputs": [
    {
     "data": {
      "image/png": "[encoded data removed]",
      "text/plain": [
       "<Figure size 864x504 with 1 Axes>"
      ]
     },
     "metadata": {
      "needs_background": "light"
     },
     "output_type": "display_data"
    }
   ],
   "source": [
    "plt.figure(figsize=(12, 7))\n",
    "plt.plot([0,4,8,12,20,28], [0, 20, 50, 70, 90, 100], '-bo')\n",
    "plt.xticks(range(0,34, 4))\n",
    "plt.xlabel('Années d\\'ancienneté')\n",
    "plt.ylabel('Fréquences cumulées (en %)')\n",
    "plt.show()"
   ]
  },
  {
   "cell_type": "markdown",
   "metadata": {},
   "source": [
    "## Question 6"
   ]
  },
  {
   "cell_type": "markdown",
   "metadata": {},
   "source": [
    "### Données femmes (Rappel)"
   ]
  },
  {
   "cell_type": "code",
   "execution_count": 26,
   "metadata": {},
   "outputs": [
    {
     "data": {
      "text/html": [
       "<div>\n",
       "<style scoped>\n",
       "    .dataframe tbody tr th:only-of-type {\n",
       "        vertical-align: middle;\n",
       "    }\n",
       "\n",
       "    .dataframe tbody tr th {\n",
       "        vertical-align: top;\n",
       "    }\n",
       "\n",
       "    .dataframe thead th {\n",
       "        text-align: right;\n",
       "    }\n",
       "</style>\n",
       "<table border=\"1\" class=\"dataframe\">\n",
       "  <thead>\n",
       "    <tr style=\"text-align: right;\">\n",
       "      <th></th>\n",
       "      <th>[0:4[</th>\n",
       "      <th>[4:8[</th>\n",
       "      <th>[8:12[</th>\n",
       "      <th>[12:20[</th>\n",
       "      <th>[20:28]</th>\n",
       "    </tr>\n",
       "    <tr>\n",
       "      <th>X\\Y</th>\n",
       "      <th></th>\n",
       "      <th></th>\n",
       "      <th></th>\n",
       "      <th></th>\n",
       "      <th></th>\n",
       "    </tr>\n",
       "  </thead>\n",
       "  <tbody>\n",
       "    <tr>\n",
       "      <th>[1200:1800[</th>\n",
       "      <td>12.0</td>\n",
       "      <td>10.0</td>\n",
       "      <td>10.0</td>\n",
       "      <td>8</td>\n",
       "      <td>0.0</td>\n",
       "    </tr>\n",
       "    <tr>\n",
       "      <th>[1800:2200[</th>\n",
       "      <td>8.0</td>\n",
       "      <td>14.0</td>\n",
       "      <td>5.0</td>\n",
       "      <td>4</td>\n",
       "      <td>4.0</td>\n",
       "    </tr>\n",
       "    <tr>\n",
       "      <th>[2200:3000[</th>\n",
       "      <td>0.0</td>\n",
       "      <td>6.0</td>\n",
       "      <td>5.0</td>\n",
       "      <td>6</td>\n",
       "      <td>3.0</td>\n",
       "    </tr>\n",
       "    <tr>\n",
       "      <th>[3000:4200]</th>\n",
       "      <td>0.0</td>\n",
       "      <td>0.0</td>\n",
       "      <td>0.0</td>\n",
       "      <td>2</td>\n",
       "      <td>3.0</td>\n",
       "    </tr>\n",
       "  </tbody>\n",
       "</table>\n",
       "</div>"
      ],
      "text/plain": [
       "             [0:4[  [4:8[  [8:12[  [12:20[  [20:28]\n",
       "X\\Y                                                \n",
       "[1200:1800[   12.0   10.0    10.0        8      0.0\n",
       "[1800:2200[    8.0   14.0     5.0        4      4.0\n",
       "[2200:3000[    0.0    6.0     5.0        6      3.0\n",
       "[3000:4200]    0.0    0.0     0.0        2      3.0"
      ]
     },
     "execution_count": 26,
     "metadata": {},
     "output_type": "execute_result"
    }
   ],
   "source": [
    "donnees_f"
   ]
  },
  {
   "cell_type": "markdown",
   "metadata": {},
   "source": [
    "### Tableau des effectifs pour X >= 1800"
   ]
  },
  {
   "cell_type": "code",
   "execution_count": 27,
   "metadata": {},
   "outputs": [
    {
     "data": {
      "text/html": [
       "<div>\n",
       "<style scoped>\n",
       "    .dataframe tbody tr th:only-of-type {\n",
       "        vertical-align: middle;\n",
       "    }\n",
       "\n",
       "    .dataframe tbody tr th {\n",
       "        vertical-align: top;\n",
       "    }\n",
       "\n",
       "    .dataframe thead th {\n",
       "        text-align: right;\n",
       "    }\n",
       "</style>\n",
       "<table border=\"1\" class=\"dataframe\">\n",
       "  <thead>\n",
       "    <tr style=\"text-align: right;\">\n",
       "      <th></th>\n",
       "      <th>[0:4[</th>\n",
       "      <th>[4:8[</th>\n",
       "      <th>[8:12[</th>\n",
       "      <th>[12:20[</th>\n",
       "      <th>[20:28]</th>\n",
       "    </tr>\n",
       "    <tr>\n",
       "      <th>X\\Y</th>\n",
       "      <th></th>\n",
       "      <th></th>\n",
       "      <th></th>\n",
       "      <th></th>\n",
       "      <th></th>\n",
       "    </tr>\n",
       "  </thead>\n",
       "  <tbody>\n",
       "    <tr>\n",
       "      <th>[1800:2200[</th>\n",
       "      <td>8.0</td>\n",
       "      <td>14.0</td>\n",
       "      <td>5.0</td>\n",
       "      <td>4</td>\n",
       "      <td>4.0</td>\n",
       "    </tr>\n",
       "    <tr>\n",
       "      <th>[2200:3000[</th>\n",
       "      <td>0.0</td>\n",
       "      <td>6.0</td>\n",
       "      <td>5.0</td>\n",
       "      <td>6</td>\n",
       "      <td>3.0</td>\n",
       "    </tr>\n",
       "    <tr>\n",
       "      <th>[3000:4200]</th>\n",
       "      <td>0.0</td>\n",
       "      <td>0.0</td>\n",
       "      <td>0.0</td>\n",
       "      <td>2</td>\n",
       "      <td>3.0</td>\n",
       "    </tr>\n",
       "  </tbody>\n",
       "</table>\n",
       "</div>"
      ],
      "text/plain": [
       "             [0:4[  [4:8[  [8:12[  [12:20[  [20:28]\n",
       "X\\Y                                                \n",
       "[1800:2200[    8.0   14.0     5.0        4      4.0\n",
       "[2200:3000[    0.0    6.0     5.0        6      3.0\n",
       "[3000:4200]    0.0    0.0     0.0        2      3.0"
      ]
     },
     "execution_count": 27,
     "metadata": {},
     "output_type": "execute_result"
    }
   ],
   "source": [
    "tableau_effectifs = donnees_f.iloc[1:,:] # peut aussi s'écrire : donnees_f.iloc[1:]\n",
    "total_effectifs = tableau_effectifs.to_numpy().sum()\n",
    "tableau_effectifs"
   ]
  },
  {
   "cell_type": "markdown",
   "metadata": {},
   "source": [
    "### Distribution de (Y | X >= 1800) : l'ancienneté des femmes gagnant au moins 1800€"
   ]
  },
  {
   "cell_type": "code",
   "execution_count": 28,
   "metadata": {},
   "outputs": [
    {
     "data": {
      "text/html": [
       "<div>\n",
       "<style scoped>\n",
       "    .dataframe tbody tr th:only-of-type {\n",
       "        vertical-align: middle;\n",
       "    }\n",
       "\n",
       "    .dataframe tbody tr th {\n",
       "        vertical-align: top;\n",
       "    }\n",
       "\n",
       "    .dataframe thead th {\n",
       "        text-align: right;\n",
       "    }\n",
       "</style>\n",
       "<table border=\"1\" class=\"dataframe\">\n",
       "  <thead>\n",
       "    <tr style=\"text-align: right;\">\n",
       "      <th></th>\n",
       "      <th>[0:4[</th>\n",
       "      <th>[4:8[</th>\n",
       "      <th>[8:12[</th>\n",
       "      <th>[12:20[</th>\n",
       "      <th>[20:28]</th>\n",
       "    </tr>\n",
       "  </thead>\n",
       "  <tbody>\n",
       "    <tr>\n",
       "      <th>Frequence (%)</th>\n",
       "      <td>13.333333</td>\n",
       "      <td>33.333333</td>\n",
       "      <td>16.666667</td>\n",
       "      <td>20.0</td>\n",
       "      <td>16.666667</td>\n",
       "    </tr>\n",
       "  </tbody>\n",
       "</table>\n",
       "</div>"
      ],
      "text/plain": [
       "                   [0:4[      [4:8[     [8:12[  [12:20[    [20:28]\n",
       "Frequence (%)  13.333333  33.333333  16.666667     20.0  16.666667"
      ]
     },
     "execution_count": 28,
     "metadata": {},
     "output_type": "execute_result"
    }
   ],
   "source": [
    "distribution_conditionnelle_y = (pd.DataFrame(tableau_effectifs.sum(axis=0), tableau_effectifs.columns, columns=['Frequence (%)']) / total_effectifs) * 100\n",
    "distribution_conditionnelle_y.T"
   ]
  },
  {
   "cell_type": "markdown",
   "metadata": {},
   "source": [
    "## Question 7"
   ]
  },
  {
   "cell_type": "markdown",
   "metadata": {},
   "source": [
    "### Equation de la droite des moindres carrés D (de Y en X)"
   ]
  },
  {
   "cell_type": "markdown",
   "metadata": {},
   "source": [
    "#### Rappel du cours"
   ]
  },
  {
   "cell_type": "markdown",
   "metadata": {},
   "source": [
    "***Rappel : Coefficient de corrélation linéaire - Définition***  \n",
    "![Rappel - Coefficient de corrélation linéaire](../images/Rappels/rappel_coefficient_correlation_lineaire_definition.PNG)"
   ]
  },
  {
   "cell_type": "markdown",
   "metadata": {},
   "source": [
    "***Rappel : Ajustement linéaire - Droite des moindres carrés***  \n",
    "![Rappel - Ajustement linéaire - Droite des moindres carrées](../images/Rappels/rappel_ajustement_lineaire_droite_des_moindres_carres.PNG)"
   ]
  },
  {
   "cell_type": "code",
   "execution_count": 29,
   "metadata": {},
   "outputs": [
    {
     "name": "stdout",
     "output_type": "stream",
     "text": [
      "Coefficient de corrélation linéaire r =  0.45\n",
      "Ecart type de X = 547.7225575051662 euros\n",
      "Ecart type de Y = 6.660330322138685 années\n",
      "Moyenne de X = 2000.0 euros\n",
      "Moyenne de Y = 9.8 années\n"
     ]
    }
   ],
   "source": [
    "r = 0.45\n",
    "print('Coefficient de corrélation linéaire r = ', r)\n",
    "print('Ecart type de X = {} euros'.format(ecart_type_x))\n",
    "print('Ecart type de Y = {} années'.format(ecart_type_y))\n",
    "print('Moyenne de X = {} euros'.format(moyenne_x))\n",
    "print('Moyenne de Y = {} années'.format(moyenne_y))"
   ]
  },
  {
   "cell_type": "code",
   "execution_count": 44,
   "metadata": {},
   "outputs": [
    {
     "name": "stdout",
     "output_type": "stream",
     "text": [
      "Equation de la droite d'ajustement linéaire des moindres carrés : y = 0.005472019736806511x + -1.1440394736130202\n"
     ]
    }
   ],
   "source": [
    "## Calcul de l'équation de la droite D à partir de r\n",
    "# Calcul de a\n",
    "a = r * ecart_type_y / ecart_type_x \n",
    "# Calcul de b\n",
    "b = moyenne_y - a * moyenne_x\n",
    "# Equation de la droite d'ajustement linéaire \n",
    "print(\"Equation de la droite d'ajustement linéaire des moindres carrés : y = {}x + {}\".format(a,b))"
   ]
  },
  {
   "cell_type": "code",
   "execution_count": 45,
   "metadata": {},
   "outputs": [],
   "source": [
    "def regression_lineaire_y_en_x(x):\n",
    "    return 0.005472019736806511 * x - 1.1440394736130202"
   ]
  },
  {
   "cell_type": "markdown",
   "metadata": {},
   "source": [
    "### Point d'intersection avec la droite des moindres carrés D' (de X en Y)"
   ]
  },
  {
   "cell_type": "markdown",
   "metadata": {},
   "source": [
    "Les deux droites des moindres carrés D et D' se coupent au point moyen du nuage, c'est à dire au point (mean(x), mean(y))"
   ]
  },
  {
   "cell_type": "code",
   "execution_count": 46,
   "metadata": {},
   "outputs": [
    {
     "data": {
      "text/plain": [
       "(2000.0, 9.8)"
      ]
     },
     "execution_count": 46,
     "metadata": {},
     "output_type": "execute_result"
    }
   ],
   "source": [
    "point_intersection = (moyenne_x, moyenne_y)\n",
    "point_intersection"
   ]
  },
  {
   "cell_type": "code",
   "execution_count": 47,
   "metadata": {},
   "outputs": [
    {
     "data": {
      "text/plain": [
       "True"
      ]
     },
     "execution_count": 47,
     "metadata": {},
     "output_type": "execute_result"
    }
   ],
   "source": [
    "# Vérification : on regarde si la valeur de y en mean(x) est bien mean(y) selon la droite D\n",
    "True if moyenne_y == regression_lineaire_y_en_x(point_intersection[0]) else False"
   ]
  }
 ],
 "metadata": {
  "kernelspec": {
   "display_name": "Python 3",
   "language": "python",
   "name": "python3"
  },
  "language_info": {
   "codemirror_mode": {
    "name": "ipython",
    "version": 3
   },
   "file_extension": ".py",
   "mimetype": "text/x-python",
   "name": "python",
   "nbconvert_exporter": "python",
   "pygments_lexer": "ipython3",
   "version": "3.8.3"
  }
 },
 "nbformat": 4,
 "nbformat_minor": 4
}
